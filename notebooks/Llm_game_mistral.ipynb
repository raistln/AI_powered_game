{
 "cells": [
  {
   "cell_type": "markdown",
   "metadata": {},
   "source": [
    "## Import and load keys"
   ]
  },
  {
   "cell_type": "code",
   "execution_count": 2,
   "metadata": {},
   "outputs": [],
   "source": [
    "import os\n",
    "from dotenv import load_dotenv\n",
    "from mistralai import Mistral\n",
    "import json\n",
    "import gradio as gr\n",
    "import random\n",
    "\n",
    "# Cargar variables de entorno desde el archivo .env\n",
    "load_dotenv()\n",
    "\n",
    "# Obtener la clave de API de Mistral desde las variables de entorno\n",
    "api_key = os.getenv('MISTRAL_API_KEY')\n",
    "client = Mistral(api_key=api_key)\n",
    "model = \"mistral-small-latest\""
   ]
  },
  {
   "cell_type": "markdown",
   "metadata": {},
   "source": [
    "## World Creation"
   ]
  },
  {
   "cell_type": "code",
   "execution_count": 3,
   "metadata": {},
   "outputs": [],
   "source": [
    "system_prompt = f\"\"\"\n",
    "Your job is to help create interesting fantasy worlds that \\\n",
    "players would love to play in.\n",
    "Instructions:\n",
    "- Only generate in plain text without formatting.\n",
    "- Use simple clear language without being flowery.\n",
    "- You must stay below 3-5 sentences for each description.\n",
    "\"\"\"\n",
    "\n",
    "world_prompt = f\"\"\"\n",
    "Generate a creative description for a unique fantasy world with an\n",
    "interesting concept around cities build on the backs of massive beasts.\n",
    "\n",
    "Output content in the form:\n",
    "World Name: <WORLD NAME>\n",
    "World Description: <WORLD DESCRIPTION>\n",
    "\n",
    "World Name:\"\"\"\n",
    "\n",
    "\n",
    "output = client.chat.complete(\n",
    "    model= model,\n",
    "    messages=[\n",
    "        {\"role\": \"system\", \"content\": system_prompt},\n",
    "        {\"role\": \"user\", \"content\": world_prompt}\n",
    "    ],\n",
    "    temperature=0.9\n",
    ")"
   ]
  },
  {
   "cell_type": "code",
   "execution_count": 4,
   "metadata": {},
   "outputs": [
    {
     "name": "stdout",
     "output_type": "stream",
     "text": [
      "World Name: The Skyborne Archipelago\n",
      "\n",
      "World Description: In the world of The Skyborne Archipelago, cities are built on the backs of colossal, sentient beasts called Skywhales. These gentle giants glide through the endless skies, their backs hosting bustling metropolises filled with diverse cultures. The inhabitants, known as Skyborn, have adapted to life among the clouds, developing unique technologies and societies tailored to their airborne existence. Conflicts and alliances arise as different cities navigate the politics of the skies, all while the Skywhales migrate in search of the rare, mystical clouds that sustain them.\n"
     ]
    }
   ],
   "source": [
    "world_output =output.choices[0].message.content\n",
    "print(world_output)\n",
    "world_output = world_output.strip()\n",
    "world = {\n",
    "    \"name\": world_output.split('\\n')[0].strip()\n",
    "    .replace('World Name: ', ''),\n",
    "    \"description\": '\\n'.join(world_output.split('\\n')[1:])\n",
    "    .replace('World Description:', '').strip()\n",
    "}"
   ]
  },
  {
   "cell_type": "markdown",
   "metadata": {},
   "source": [
    "## Kingdom Creation"
   ]
  },
  {
   "cell_type": "code",
   "execution_count": 5,
   "metadata": {},
   "outputs": [],
   "source": [
    "kingdom_prompt = f\"\"\"\n",
    "Create 3 different kingdoms for a fantasy world.\n",
    "For each kingdom generate a description based on the world it's in. \\\n",
    "Describe important leaders, cultures, history of the kingdom.\\\n",
    "\n",
    "Output content in the form:\n",
    "Kingdom 1 Name: <KINGDOM NAME>\n",
    "Kingdom 1 Description: <KINGDOM DESCRIPTION>\n",
    "Kingdom 2 Name: <KINGDOM NAME>\n",
    "Kingdom 2 Description: <KINGDOM DESCRIPTION>\n",
    "Kingdom 3 Name: <KINGDOM NAME>\n",
    "Kingdom 3 Description: <KINGDOM DESCRIPTION>\n",
    "\n",
    "World Name: {world['name']}\n",
    "World Description: {world['description']}\n",
    "\n",
    "Kingdom 1\"\"\"\n",
    "\n",
    "\n",
    "output = client.chat.complete(\n",
    "    model= model,\n",
    "    messages=[\n",
    "        {\"role\": \"system\", \"content\": system_prompt},\n",
    "        {\"role\": \"user\", \"content\": kingdom_prompt}\n",
    "    ],\n",
    "    temperature=0.9\n",
    ")"
   ]
  },
  {
   "cell_type": "code",
   "execution_count": 6,
   "metadata": {},
   "outputs": [
    {
     "name": "stdout",
     "output_type": "stream",
     "text": [
      "Created kingdom \"Aerium\" in The Skyborne Archipelago\n",
      "Created kingdom \"Lumina\" in The Skyborne Archipelago\n",
      "Created kingdom \"Veridia\" in The Skyborne Archipelago\n",
      "\n",
      "Kingdom 1 Description: Veridia is a kingdom of healers, farmers, and caretakers, led by the Verdant Matriarch. Their culture is deeply connected to nature and the well-being of the Skywhales. Veridia's history is one of nurturing and preservation, focusing on the sustainable use of the mystical clouds that sustain the Skywhales. Their city is a lush garden, teeming with life, and nestled upon the back of the nurturing Skywhale, Leafglider.\n"
     ]
    }
   ],
   "source": [
    "kingdoms = {}\n",
    "kingdoms_output = output.choices[0].message.content\n",
    "\n",
    "for output in kingdoms_output.split('\\n\\n'):\n",
    "  kingdom_name = output.strip().split('\\n')[0] \\\n",
    "    .split('Name: ')[1].strip()\n",
    "  print(f'Created kingdom \"{kingdom_name}\" in {world[\"name\"]}')\n",
    "  kingdom_description = output.strip().split('\\n')[1] \\\n",
    "    .split('Description: ')[1].strip()\n",
    "  kingdom = {\n",
    "      \"name\": kingdom_name,\n",
    "      \"description\": kingdom_description,\n",
    "      \"world\": world['name']\n",
    "  }\n",
    "  kingdoms[kingdom_name] = kingdom\n",
    "world['kingdoms'] = kingdoms\n",
    "\n",
    "print(f'\\nKingdom 1 Description: \\\n",
    "{kingdom[\"description\"]}')"
   ]
  },
  {
   "cell_type": "markdown",
   "metadata": {},
   "source": [
    "## Town Creation"
   ]
  },
  {
   "cell_type": "code",
   "execution_count": 7,
   "metadata": {},
   "outputs": [],
   "source": [
    "def get_town_prompt(world, kingdom):\n",
    "    return f\"\"\"\n",
    "    Create 3 different towns for a fantasy kingdom and world. \\\n",
    "    Describe the region it's in, important places of the town, \\\n",
    "    and interesting history about it. \\\n",
    "    \n",
    "    Output content in the form:\n",
    "    Town 1 Name: <TOWN NAME>\n",
    "    Town 1 Description: <TOWN DESCRIPTION>\n",
    "    Town 2 Name: <TOWN NAME>\n",
    "    Town 2 Description: <TOWN DESCRIPTION>\n",
    "    Town 3 Name: <TOWN NAME>\n",
    "    Town 3 Description: <TOWN DESCRIPTION>\n",
    "    \n",
    "    World Name: {world['name']}\n",
    "    World Description: {world['description']}\n",
    "    \n",
    "    Kingdom Name: {kingdom['name']}\n",
    "    Kingdom Description {kingdom['description']}\n",
    "    \n",
    "    Town 1 Name:\"\"\"\n",
    "    \n",
    "import time\n",
    "\n",
    "import time  # Asegúrate de importar la biblioteca time\n",
    "\n",
    "def create_towns(world, kingdom):\n",
    "    print(f'\\nCreating towns for kingdom: {kingdom[\"name\"]}...')\n",
    "    output = client.chat.complete(\n",
    "      model=model,\n",
    "      messages=[\n",
    "          {\"role\": \"system\", \"content\": system_prompt},\n",
    "          {\"role\": \"user\", \"content\": get_town_prompt(world, kingdom)}\n",
    "      ],\n",
    "      temperature=0.9,\n",
    "  )\n",
    "    towns_output = output.choices[0].message.content\n",
    "    \n",
    "    towns = {}\n",
    "    for output in towns_output.split('\\nCreating towns for kingdom: {kingdom[\"name\"]}...'):\n",
    "        for num in range(1, 4):\n",
    "            print(output.split(f\"Town {num} Name: \")[1].split(\"\\n\")[0])\n",
    "            print(output.split(f\"Town {num} Description: \")[1].split(\"\\n\")[0])\n",
    "            print(\"\\n\")\n",
    "         \n",
    "            town_name = output.split(f\"Town {num} Name: \")[1].split(\"\\n\")[0] \n",
    "            town_description = output.split(f\"Town {num} Description: \")[1].split(\"\\n\")[0]\n",
    "        \n",
    "            town = {\n",
    "              \"name\": town_name,\n",
    "              \"description\": town_description,\n",
    "              \"world\": world['name'],\n",
    "              \"kingdom\": kingdom['name']\n",
    "            }\n",
    "            towns[town_name] = town\n",
    "        kingdom[\"towns\"] = towns"
   ]
  },
  {
   "cell_type": "code",
   "execution_count": 8,
   "metadata": {},
   "outputs": [
    {
     "name": "stdout",
     "output_type": "stream",
     "text": [
      "\n",
      "Creating towns for kingdom: Aerium...\n",
      "Gilded Haven\n",
      "Gilded Haven is a town nestled in the lush, verdant region of the Verdant Expanse, known for its abundant flora and gentle breezes. The town's most notable feature is the Golden Spire, a towering structure that serves as both a lighthouse and a beacon of hope for weary travelers. Legend has it that Gilded Haven was once a simple farming village until a mysterious golden artifact was discovered, bringing prosperity and attracting skilled artisans from across the archipelago.\n",
      "\n",
      "\n",
      "Frostfall Keep\n",
      "Frostfall Keep is situated in the icy, windswept peaks of the Frostwind Mountains, a region characterized by its perpetual snowfall and treacherous terrain. The town is built around the imposing Frostfall Keep, a fortress that has withstood countless sieges. Historically, Frostfall Keep was a crucial outpost in the wars against the frost giants, and its walls are adorned with the trophies of fallen foes. The town's inhabitants are renowned for their resilience and expertise in ice magic.\n",
      "\n",
      "\n",
      "Whispering Tides\n",
      "Whispering Tides is located in the tranquil, mist-covered islands of the Serene Seas, a region famous for its calm waters and enchanting melodies carried by the wind. The town's heart is the Whispering Temple, a sacred site dedicated to the spirits of the sea. Whispering Tides has a rich history of maritime trade and diplomacy, serving as a neutral ground for negotiations between various Skyborne cities. The town's inhabitants are skilled sailors and diplomats, known for their ability to navigate both the skies and the complex politics of the archipelago.\n",
      "\n",
      "\n",
      "\n",
      "Creating towns for kingdom: Lumina...\n",
      "Caelum's Haven\n",
      "Nestled in the lush, verdant region known as the Verdant Expanse, Caelum's Haven is a town of farmers and healers, known for its vast gardens and healing sanctuaries. The town's most important place is the Temple of Verdant Whispers, where the Skywhale's breath is said to have healing properties. Caelum's Haven was founded by a group of healers who followed a prophecy of a Skywhale with a heart of pure green, leading to the discovery of their current Skywhale, Verdant Heart.\n",
      "\n",
      "\n",
      "Astra's Forge\n",
      "Located in the fiery, volcanic region called the Ember Peaks, Astra's Forge is a town of blacksmiths and artisans, renowned for their exceptional craftsmanship and fiery forges. The town's most important place is the Great Foundry, where the Skywhale's heat is harnessed to create powerful artifacts. Astra's Forge was built after a group of blacksmiths were exiled from their homeland, and found refuge on the back of the Skywhale, Emberwing, who was drawn to their fiery spirit.\n",
      "\n",
      "\n",
      "Melodia's Harbor\n",
      "Situated in the melodic, harmonious region known as the Whispering Winds, Melodia's Harbor is a town of musicians and bards, famous for its enchanting melodies and captivating performances. The town's most important place is the Harmonic Theatre, where the Skywhale's song amplifies the music of the performers. Melodia's Harbor was established by a group of musicians who were inspired by the enchanting song of their Skywhale, Harmonia, and decided to build a town dedicated to the art of music.\n",
      "\n",
      "\n",
      "\n",
      "Creating towns for kingdom: Veridia...\n",
      "Verdant's Hollow\n",
      "Verdant's Hollow is a quaint town nestled in a lush valley on the outskirts of Veridia, surrounded by dense, mystical forests. The town is known for its healing springs and the ancient Whispering Tree, a massive tree said to hold the wisdom of the ages. The town's history is marked by a legendary healer who once lived there, teaching the art of herbalism and healing to the townsfolk, a tradition that continues to this day.\n",
      "\n",
      "\n",
      "Cloudspire\n",
      "Cloudspire is a bustling town perched on the edge of a towering cloud formation, connected to Veridia by a series of suspension bridges. It is famous for its cloud weaving industry, where artisans create intricate fabrics from the rare, mystical clouds. The town's history is one of innovation and adaptation, as its inhabitants have learned to harness the power of the clouds for their unique craft.\n",
      "\n",
      "\n",
      "Skyhaven\n",
      "Skyhaven is a tranquil town situated on a floating island, accessible only by airship or the powerful winds that occasionally carry it close to Veridia. The town is renowned for its airship docks and the ancient Skyhaven Lighthouse, which guides travelers through the treacherous skies. The town's history is filled with tales of brave navigators and explorers who have charted the skies and discovered new lands, a legacy that continues to inspire its inhabitants.\n",
      "\n",
      "\n",
      "{'name': 'Aerium', 'description': \"Aerium is a kingdom known for its advanced aerial engineering and strict military discipline. Led by the Iron Marshal, Aerium's culture revolves around honor, duty, and the art of sky combat. Their history is marked by a series of victorious conquests, earning them both respect and fear among the other Skyborn. Aerium's city is a fortress of gleaming metal and crystal, perched atop a mighty Skywhale named Ironhide.\", 'world': 'The Skyborne Archipelago', 'towns': {'Gilded Haven': {'name': 'Gilded Haven', 'description': \"Gilded Haven is a town nestled in the lush, verdant region of the Verdant Expanse, known for its abundant flora and gentle breezes. The town's most notable feature is the Golden Spire, a towering structure that serves as both a lighthouse and a beacon of hope for weary travelers. Legend has it that Gilded Haven was once a simple farming village until a mysterious golden artifact was discovered, bringing prosperity and attracting skilled artisans from across the archipelago.\", 'world': 'The Skyborne Archipelago', 'kingdom': 'Aerium'}, 'Frostfall Keep': {'name': 'Frostfall Keep', 'description': \"Frostfall Keep is situated in the icy, windswept peaks of the Frostwind Mountains, a region characterized by its perpetual snowfall and treacherous terrain. The town is built around the imposing Frostfall Keep, a fortress that has withstood countless sieges. Historically, Frostfall Keep was a crucial outpost in the wars against the frost giants, and its walls are adorned with the trophies of fallen foes. The town's inhabitants are renowned for their resilience and expertise in ice magic.\", 'world': 'The Skyborne Archipelago', 'kingdom': 'Aerium'}, 'Whispering Tides': {'name': 'Whispering Tides', 'description': \"Whispering Tides is located in the tranquil, mist-covered islands of the Serene Seas, a region famous for its calm waters and enchanting melodies carried by the wind. The town's heart is the Whispering Temple, a sacred site dedicated to the spirits of the sea. Whispering Tides has a rich history of maritime trade and diplomacy, serving as a neutral ground for negotiations between various Skyborne cities. The town's inhabitants are skilled sailors and diplomats, known for their ability to navigate both the skies and the complex politics of the archipelago.\", 'world': 'The Skyborne Archipelago', 'kingdom': 'Aerium'}}}\n",
      "\n",
      "Town 1 Description: Gilded Haven is a town nestled in the lush, verdant region of the Verdant Expanse, known for its abundant flora and gentle breezes. The town's most notable feature is the Golden Spire, a towering structure that serves as both a lighthouse and a beacon of hope for weary travelers. Legend has it that Gilded Haven was once a simple farming village until a mysterious golden artifact was discovered, bringing prosperity and attracting skilled artisans from across the archipelago.\n"
     ]
    }
   ],
   "source": [
    "for kingdom in kingdoms.values():\n",
    "    create_towns(world, kingdom)  \n",
    "\n",
    "first_kingdom = list(kingdoms.values())[0]\n",
    "print(first_kingdom)\n",
    "town = list(first_kingdom['towns'].values())[0]\n",
    "print(f'\\nTown 1 Description: {town[\"description\"]}')"
   ]
  },
  {
   "cell_type": "markdown",
   "metadata": {},
   "source": [
    "## Npcs Creation"
   ]
  },
  {
   "cell_type": "code",
   "execution_count": 9,
   "metadata": {},
   "outputs": [],
   "source": [
    "def get_npc_prompt(world, kingdom, town): \n",
    "    return f\"\"\"\n",
    "    Create 3 different characters based on the world, kingdom \\\n",
    "    and town they're in. Describe the character's appearance and \\\n",
    "    profession, as well as their deeper pains and desires. \\\n",
    "    \n",
    "    Output content in the form:\n",
    "    Character 1 Name: <CHARACTER NAME>\n",
    "    Character 1 Description: <CHARACTER DESCRIPTION>\n",
    "    Character 2 Name: <CHARACTER NAME>\n",
    "    Character 2 Description: <CHARACTER DESCRIPTION>\n",
    "    Character 3 Name: <CHARACTER NAME>\n",
    "    Character 3 Description: <CHARACTER DESCRIPTION>\n",
    "    \n",
    "    World Name: {world['name']}\n",
    "    World Description: {world['description']}\n",
    "    \n",
    "    Kingdom Name: {kingdom['name']}\n",
    "    Kingdom Description: {kingdom['description']}\n",
    "    \n",
    "    Town Name: {town['name']}\n",
    "    Town Description: {town['description']}\n",
    "    \n",
    "    Character 1 Name:\"\"\"\n",
    "    "
   ]
  },
  {
   "cell_type": "code",
   "execution_count": 10,
   "metadata": {},
   "outputs": [
    {
     "name": "stdout",
     "output_type": "stream",
     "text": [
      "\n",
      "Creating characters for the town of: Gilded Haven...\n",
      "Lyra Whisperwind\n",
      "Lyra is a skilled windweaver from Aerium, with short, silver hair and piercing blue eyes that seem to hold the very essence of the sky. She wears lightweight, form-fitting armor adorned with intricate wind patterns, and her hands are always adorned with delicate, glowing wind crystals. Lyra's heart aches for the freedom of the open skies, a freedom she feels constrained by Aerium's rigid military structure. She dreams of exploring the uncharted skies and uncovering the secrets of the mystical clouds that sustain the Skywhales, hoping to bring a new era of understanding and harmony to her people.\n",
      "\n",
      "\n",
      "Orion Thunderheart\n",
      "Orion is a burly, bearded blacksmith from Gilded Haven, his muscular frame a testament to years of working at the forge. He has a warm, infectious laugh and eyes that sparkle with a mix of humor and sadness. Orion's life was forever changed when a tragic accident at the forge took the life of his young apprentice, leaving him with a deep sense of guilt and a longing for redemption. He seeks to honor his apprentice's memory by crafting the most exquisite weapons and tools, hoping to bring light and hope to those who wield them.\n",
      "\n",
      "\n",
      "Elara Moonstrider\n",
      "Elara is an enigmatic scholar from the Verdant Expanse, with long, raven-black hair and eyes that seem to hold the wisdom of the ages. She is often seen poring over ancient tomes, her fingers tracing the faded ink as if trying to unlock long-forgotten secrets. Elara's life is driven by an insatiable curiosity and a deep-seated desire to understand the true nature of the golden artifact that brought prosperity to Gilded Haven. She believes that unlocking its secrets could hold the key to the future of the Skyborne Archipelago, but she is haunted by the fear that her quest for knowledge may come at a great cost.\n",
      "\n",
      "\n",
      "\n",
      "Creating characters for the town of: Frostfall Keep...\n",
      "Lyra Stormweaver\n",
      "Lyra is a skilled Aerium aerial engineer, her lithe frame adorned with intricate tattoos that mimic the circuits of her inventions. Her eyes, a striking shade of silver, reflect her relentless curiosity and determination. Despite her success, Lyra grapples with the guilt of her family's past, who were once enemies of Aerium, and yearns to prove her loyalty while secretly seeking a way to reunite with her estranged sister who was exiled.\n",
      "\n",
      "\n",
      "Thorne Frostbeard\n",
      "Thorne is a burly, bearded man from Frostfall Keep, his skin weathered by the constant cold and his eyes holding the wisdom of countless battles. As a master of ice magic, his hands are permanently frosted, a testament to his power. Thorne's deepest pain is the loss of his wife to the frost giants, a tragedy that fuels his desire to protect his people and find a way to bring her back, even if it means delving into forbidden magic.\n",
      "\n",
      "\n",
      "Kael Skyseeker\n",
      "Kael is a young, agile Skyborn from a neutral city, his skin marked with the tattoos of a cloud dancer, a rare and revered profession. His eyes hold a constant longing for the horizon, reflecting his desire to explore the unknown. Kael's pain stems from his city's neutrality, feeling he's missing out on the grander conflicts of the skies, and he secretly yearns to prove his worth by uncovering the secrets of the mystical clouds that sustain the Skywhales.\n",
      "\n",
      "\n",
      "\n",
      "Creating characters for the town of: Whispering Tides...\n",
      "Lyra Stormweaver\n",
      "Lyra is a skilled Aerium sky captain with short, silver hair and piercing blue eyes. She wears the gleaming armor of her rank, adorned with the insignia of her many victories. Despite her outward strength and discipline, Lyra struggles with the weight of her past decisions, particularly the loss of her crew during a daring mission gone wrong. She yearns for redemption and seeks to protect Aerium from the shadows of her failures, hoping to one day find peace in the skies she loves.\n",
      "\n",
      "\n",
      "Orion Seabrook\n",
      "Orion is a diplomat from Whispering Tides, with a warm smile and eyes that reflect the serene seas of his home. He dresses in flowing, blue robes that mimic the waves, and his hands are adorned with intricate tattoos symbolizing the spirits of the sea. Orion carries the burden of his town's neutrality, often caught between warring factions. He desires to maintain the peace, but the constant political maneuvering has left him weary, longing for a life beyond the endless negotiations.\n",
      "\n",
      "\n",
      "Thora Ironheart\n",
      "Thora is an engineer from Aerium, with a strong build and calloused hands from years of working with metal and crystal. Her hair is a wild mane of dark curls, often tied back with a leather cord. She bears the scars of her dedication to her craft, including a prominent one across her cheek. Thora's deep pain stems from the loss of her mentor, who was killed in a rival city's sabotage. She seeks to honor his memory by advancing Aerium's technology, driven by a desire to protect her people and avenge her mentor's death.\n",
      "\n",
      "\n"
     ]
    }
   ],
   "source": [
    "def create_npcs(world, kingdom, town):\n",
    "    print(f'\\nCreating characters for the town of: {town[\"name\"]}...')\n",
    "    output = client.chat.complete(\n",
    "      model= model,\n",
    "      messages=[\n",
    "          {\"role\": \"system\", \"content\": system_prompt},\n",
    "          {\"role\": \"user\", \"content\": get_npc_prompt(world, kingdom, town)}\n",
    "      ],\n",
    "        temperature=0.7 \n",
    "    )\n",
    "\n",
    "    npcs_output = output.choices[0].message.content\n",
    "    npcs = {}\n",
    "    for num in range(1, 4):\n",
    "        print(npcs_output.split(f\"Character {num} Name: \")[1].split(\"\\n\")[0])\n",
    "        print(npcs_output.split(f\"Character {num} Description: \")[1].split(\"\\n\")[0])\n",
    "        print(\"\\n\")\n",
    "\n",
    "        character_name = npcs_output.split(f\"Character {num} Name: \")[1].split(\"\\n\")[0]\n",
    "        character_description = npcs_output.split(f\"Character {num} Description: \")[1].split(\"\\n\")[0]\n",
    "\n",
    "        character = {\n",
    "        \"name\": character_name,\n",
    "        \"description\": character_description,\n",
    "        \"world\": world['name'],\n",
    "        \"kingdom\": kingdom['name'],\n",
    "        \"town\": town['name']\n",
    "        }\n",
    "        npcs[character_name] = character\n",
    "        town[\"npcs\"] = npcs\n",
    "\n",
    "    \n",
    "for kingdom in kingdoms.values():\n",
    "    for town in kingdom['towns'].values():\n",
    "        create_npcs(world, kingdom, town)\n",
    "  # For now we'll only generate npcs for one kingdom and town\n",
    "    break"
   ]
  },
  {
   "cell_type": "markdown",
   "metadata": {},
   "source": [
    "## Save World"
   ]
  },
  {
   "cell_type": "code",
   "execution_count": 11,
   "metadata": {},
   "outputs": [],
   "source": [
    "def save_world(world, filename):\n",
    "    # Ensure the directory exists\n",
    "    os.makedirs(os.path.dirname(filename), exist_ok=True)\n",
    "    with open(filename, 'w') as f:\n",
    "        json.dump(world, f)\n",
    "\n",
    "def load_world(filename):\n",
    "    with open(filename, 'r') as f:\n",
    "        return json.load(f) \n",
    "\n",
    "save_world(world, f'../shared_data/{world[\"name\"]}.json')"
   ]
  },
  {
   "cell_type": "markdown",
   "metadata": {},
   "source": [
    "## Generating Text box"
   ]
  },
  {
   "cell_type": "code",
   "execution_count": 12,
   "metadata": {},
   "outputs": [],
   "source": [
    "demo = None\n",
    "def start_game(main_loop, share=False):\n",
    "    # added code to support restart\n",
    "    global demo\n",
    "    # If demo is already running, close it first\n",
    "    if demo is not None:\n",
    "        demo.close()\n",
    "\n",
    "    demo = gr.ChatInterface(\n",
    "        main_loop,\n",
    "        chatbot=gr.Chatbot(height=250, placeholder=\"Type 'start game' to begin\"),\n",
    "        textbox=gr.Textbox(placeholder=\"What do you do next?\", container=False, scale=7),\n",
    "        title=\"AI RPG\",\n",
    "        # description=\"Ask Yes Man any question\",\n",
    "        theme=\"soft\",\n",
    "        examples=[\"Look around\", \"Continue the story\"],\n",
    "        cache_examples=False,\n",
    "                           )\n",
    "    demo.launch(share=share, \n",
    "                server_name=\"0.0.0.0\"\n",
    "                )\n",
    "\n",
    "def test_main_loop(message, history):\n",
    "    return 'Entered Action: ' + message\n",
    "\n",
    "# start_game(test_main_loop)\n",
    "# start_game(main_loop)"
   ]
  },
  {
   "cell_type": "markdown",
   "metadata": {},
   "source": [
    "## Generating Start"
   ]
  },
  {
   "cell_type": "code",
   "execution_count": 13,
   "metadata": {},
   "outputs": [],
   "source": [
    "world_name = world[\"name\"]\n",
    "world = load_world(f'../shared_data/{world_name}.json')\n",
    "# Access the world, kingdom, town and character. Here is the first of each selected.\n",
    "#kingdom = random.choice(list(world['kingdoms'].keys()))\n",
    "kingdom = list(world['kingdoms'].keys())[0] \n",
    "town = random.choice(list(world['kingdoms'][kingdom]['towns'].keys()))\n",
    "character = random.choice(list(world['kingdoms'][kingdom]['towns'][town]['npcs'].keys()))"
   ]
  },
  {
   "cell_type": "code",
   "execution_count": 14,
   "metadata": {},
   "outputs": [
    {
     "name": "stdout",
     "output_type": "stream",
     "text": [
      "You are Thorne Frostbeard, a burly, bearded man from Frostfall Keep, your skin weathered by the constant cold and your eyes holding the wisdom of countless battles. As a master of ice magic, your hands are permanently frosted, a testament to your power. You stand in the heart of Frostfall Keep, the air thick with the scent of cold stone and the faint hum of magic. Around you, the keep bustles with activity, soldiers drilling and blacksmiths hammering away at their forges, while the icy winds of the Frostwind Mountains howl outside.\n"
     ]
    }
   ],
   "source": [
    "system_prompt = \"\"\"You are an AI Game master. Your job is to create a \n",
    "start to an adventure based on the world, kingdom, town and character \n",
    "a player is playing as. \n",
    "Instructions:\n",
    "You must only use 2-4 sentences \\\n",
    "Write in second person. For example: \"You are Jack\" \\\n",
    "Write in present tense. For example \"You stand at...\" \\\n",
    "First describe the character and their backstory. \\\n",
    "Then describes where they start and what they see around them.\"\"\"\n",
    "world_info = f\"\"\"\n",
    "World: {world}\n",
    "Kingdom: {kingdom}\n",
    "Town: {town}\n",
    "Your Character: {character}\n",
    "\"\"\"\n",
    "\n",
    "model_output = client.chat.complete(\n",
    "    model= model,\n",
    "    messages=[\n",
    "        {\"role\": \"system\", \"content\": system_prompt},\n",
    "        {\"role\": \"user\", \"content\": world_info + '\\nYour Start:'}\n",
    "    ],\n",
    "    temperature=1.0\n",
    ")\n",
    "start = model_output.choices[0].message.content\n",
    "print(start)\n",
    "world['start'] = start\n",
    "#save_world(world, f'../shared_data/{world_name}.json')  \n",
    "save_world(world, f'../shared_data/{world_name}.json')"
   ]
  },
  {
   "cell_type": "markdown",
   "metadata": {},
   "source": [
    "## Creating the Main Action Loop"
   ]
  },
  {
   "cell_type": "code",
   "execution_count": 15,
   "metadata": {},
   "outputs": [],
   "source": [
    "def run_action(message, history, game_state):\n",
    "    \n",
    "    if(message == 'start game'):\n",
    "        return game_state['start']\n",
    "\n",
    "    system_prompt = \"\"\"You are an AI Game master. Your job is to write what \\\n",
    "happens next in a player's adventure game.\\\n",
    "Instructions: \\\n",
    "You must on only write 1-3 sentences in response. \\\n",
    "Always write in second person present tense. \\\n",
    "Ex. (You look north and see...)\"\"\"\n",
    "    \n",
    "    world_info = f\"\"\"\n",
    "World: {game_state['world']}\n",
    "Kingdom: {game_state['kingdom']}\n",
    "Town: {game_state['town']}\n",
    "Your Character:  {game_state['character']}\"\"\"\n",
    "\n",
    "    messages = [\n",
    "        {\"role\": \"system\", \"content\": system_prompt},\n",
    "        {\"role\": \"user\", \"content\": world_info}\n",
    "    ]\n",
    "    for action in history:\n",
    "        messages.append({\"role\": \"assistant\", \"content\": action[0]})\n",
    "        messages.append({\"role\": \"user\", \"content\": action[1]})\n",
    "\n",
    "    messages.append({\"role\": \"user\", \"content\": message})\n",
    "    model_output = client.chat.complete(\n",
    "        model=model,\n",
    "        messages=messages\n",
    "    )\n",
    "    \n",
    "    result = model_output.choices[0].message.content\n",
    "    return result"
   ]
  },
  {
   "cell_type": "code",
   "execution_count": 16,
   "metadata": {},
   "outputs": [],
   "source": [
    "game_state = {\n",
    "    \"world\": world['description'],\n",
    "    \"kingdom\": world[\"kingdoms\"][kingdom]['description'],\n",
    "    \"town\": world[\"kingdoms\"][kingdom][\"towns\"][town]['description'],\n",
    "    \"character\": world['kingdoms'][kingdom]['towns'][town]['npcs'][character]['description'],\n",
    "    \"start\": start,\n",
    "}\n",
    "\n",
    "def main_loop(message, history):\n",
    "    return run_action(message, history, game_state)"
   ]
  },
  {
   "cell_type": "code",
   "execution_count": 17,
   "metadata": {},
   "outputs": [],
   "source": [
    "def get_game_state(game_state=game_state, *args, **kwargs):\n",
    "    world = load_world(f'../shared_data/{world_name}.json')\n",
    "    kingdom = game_state[\"kingdom\"]\n",
    "    town = game_state[\"town\"]\n",
    "    character = game_state[\"character\"]\n",
    "    start = game_state['start']\n",
    "    inventory = {}\n",
    "\n",
    "    game_state = {\n",
    "        \"world\": world,\n",
    "        \"kingdom\": kingdom,\n",
    "        \"town\": town,\n",
    "        \"character\": character,\n",
    "        \"start\": start,\n",
    "        \"inventory\": game_state.get('inventory', {})\n",
    "    }\n",
    "    return game_state"
   ]
  },
  {
   "cell_type": "markdown",
   "metadata": {},
   "source": [
    "## Launch and Share!"
   ]
  },
  {
   "cell_type": "code",
   "execution_count": 18,
   "metadata": {},
   "outputs": [],
   "source": [
    "# start_game(main_loop, True)"
   ]
  },
  {
   "cell_type": "code",
   "execution_count": 19,
   "metadata": {},
   "outputs": [],
   "source": [
    "# from helper import get_game_state\n",
    "\n",
    "# game_state = get_game_state()\n",
    "# character = game_state[\"character\"]\n",
    "# print(\"Character Description:\", character)"
   ]
  },
  {
   "cell_type": "markdown",
   "metadata": {},
   "source": [
    "## Define Inventory Detector"
   ]
  },
  {
   "cell_type": "code",
   "execution_count": 20,
   "metadata": {},
   "outputs": [],
   "source": [
    "system_prompt = \"\"\"You are an AI Game Assistant. \\\n",
    "Your job is to detect changes to a player's \\\n",
    "inventory based on the most recent story and game state.\n",
    "If a player picks up, or gains an item add it to the inventory \\\n",
    "with a positive change_amount.\n",
    "If a player loses an item remove it from their inventory \\\n",
    "with a negative change_amount.\n",
    "Given a player name, inventory and story, return a list of json update\n",
    "of the player's inventory in the following form.\n",
    "Only take items that it's clear the player (you) lost.\n",
    "Only give items that it's clear the player gained. \n",
    "Don't make any other item updates.\n",
    "If no items were changed return {\"itemUpdates\": []}\n",
    "and nothing else.\n",
    "\n",
    "Response must be in Valid JSON\n",
    "Don't add items that were already added in the inventory\n",
    "\n",
    "Inventory Updates:\n",
    "{\n",
    "    \"itemUpdates\": [\n",
    "        {\"name\": <ITEM NAME>, \n",
    "        \"change_amount\": <CHANGE AMOUNT>}...\n",
    "    ]\n",
    "}\n",
    "\"\"\""
   ]
  },
  {
   "cell_type": "markdown",
   "metadata": {},
   "source": [
    "def detect_inventory_changes(game_state, output):\n",
    "    inventory = game_state.get('inventory', {})\n",
    "    \n",
    "    # Prompt más estricto para Mistral\n",
    "    system_prompt = \"\"\"You are an inventory tracker. Respond ONLY with valid JSON in this exact format:\n",
    "{\n",
    "    \"itemUpdates\": [\n",
    "        {\"name\": \"item_name\", \"change_amount\": 1}\n",
    "    ]\n",
    "}\"\"\"\n",
    "    \n",
    "    messages = [\n",
    "        {\"role\": \"system\", \"content\": system_prompt},\n",
    "        {\"role\": \"user\", \"content\": f\"Current Inventory: {inventory}\"},\n",
    "        {\"role\": \"user\", \"content\": f\"Action: {output}\"},\n",
    "        {\"role\": \"user\", \"content\": \"List item changes in the specified JSON format.\"}\n",
    "    ]\n",
    "    \n",
    "    # Llamada a Mistral\n",
    "    response = client.chat.complete(\n",
    "        model=model,\n",
    "        temperature=0.0,\n",
    "        messages=messages\n",
    "    ).choices[0].message.content\n",
    "    try:\n",
    "        cleaned = response.strip()\n",
    "        if cleaned.startswith('```json'):\n",
    "            cleaned = cleaned[7:-3].strip()\n",
    "        elif cleaned.startswith('```'):\n",
    "            cleaned = cleaned[3:-3].strip()\n",
    "        \n",
    "        return json.loads(cleaned).get('itemUpdates', [])\n",
    "    \n",
    "    except Exception as e:\n",
    "        print(f\"Error parsing inventory: {str(e)}\")\n",
    "        return []"
   ]
  },
  {
   "cell_type": "code",
   "execution_count": 21,
   "metadata": {},
   "outputs": [],
   "source": [
    "def detect_inventory_changes(game_state, output):\n",
    "    inventory = game_state.get('inventory', {})\n",
    "    \n",
    "    # Prompt actualizado y más explícito para forzar siempre una respuesta en JSON.\n",
    "    system_prompt = (\n",
    "        \"You are an inventory tracker. You are given the player's current inventory and an action narrative. \"\n",
    "        \"The narrative may include summaries (e.g., 'You have 4 sketches, 4 diagrams, ...') which should be ignored. \"\n",
    "        \"Only report inventory changes when the narrative explicitly indicates that the player picks up, acquires, loses, or drops an item. \"\n",
    "        \"Do not infer changes from inventory summaries. \"\n",
    "        \"Your answer must always include valid JSON with the key 'itemUpdates'. \"\n",
    "        \"If there are no explicit changes, return exactly: {\\\"itemUpdates\\\": []}. \"\n",
    "        \"Ensure your response is not empty.\"\n",
    "    )\n",
    "    \n",
    "    messages = [\n",
    "        {\"role\": \"system\", \"content\": system_prompt},\n",
    "        {\"role\": \"user\", \"content\": f\"Current Inventory: {inventory}\"},\n",
    "        {\"role\": \"user\", \"content\": f\"Action Narrative: {output}\"},\n",
    "        {\"role\": \"user\", \"content\": \"List explicit inventory changes in the specified JSON format.\"}\n",
    "    ]\n",
    "    \n",
    "    response = client.chat.complete(\n",
    "        model=model,\n",
    "        temperature=0.0,\n",
    "        messages=messages\n",
    "    ).choices[0].message.content\n",
    "    \n",
    "    try:\n",
    "        cleaned = response.strip()\n",
    "        # Si la respuesta es vacía, se retorna sin actualizaciones\n",
    "        if not cleaned:\n",
    "            return []\n",
    "        # Quitar delimitadores de código si están presentes\n",
    "        if cleaned.startswith('```json'):\n",
    "            cleaned = cleaned[7:-3].strip()\n",
    "        elif cleaned.startswith('```'):\n",
    "            cleaned = cleaned[3:-3].strip()\n",
    "        \n",
    "        return json.loads(cleaned).get('itemUpdates', [])\n",
    "    \n",
    "    except Exception as e:\n",
    "        print(f\"Error parsing inventory: {str(e)}\")\n",
    "        return []"
   ]
  },
  {
   "cell_type": "code",
   "execution_count": 22,
   "metadata": {},
   "outputs": [],
   "source": [
    "def update_inventory(inventory, item_updates):\n",
    "    update_msg = ''\n",
    "    \n",
    "    for update in item_updates:\n",
    "        name = update['name']\n",
    "        change_amount = update['change_amount']\n",
    "        \n",
    "        if change_amount > 0:\n",
    "            if name not in inventory:\n",
    "                inventory[name] = change_amount\n",
    "            else:\n",
    "                inventory[name] += change_amount\n",
    "            update_msg += f'\\nInventory: {name} +{change_amount}'\n",
    "        elif name in inventory and change_amount < 0:\n",
    "            inventory[name] += change_amount\n",
    "            update_msg += f'\\nInventory: {name} {change_amount}'\n",
    "            \n",
    "        if name in inventory and inventory[name] < 0:\n",
    "            del inventory[name]\n",
    "            \n",
    "    return update_msg"
   ]
  },
  {
   "cell_type": "markdown",
   "metadata": {},
   "source": [
    "## Story with inventory"
   ]
  },
  {
   "cell_type": "code",
   "execution_count": 23,
   "metadata": {},
   "outputs": [],
   "source": [
    "def run_action(message, history, game_state):\n",
    "    \n",
    "    if(message == 'start game'):\n",
    "        return game_state['start']\n",
    "        \n",
    "    system_prompt = \"\"\"You are an AI Game master. Your job is to write what \\\n",
    "happens next in a player's adventure game.\\\n",
    "Instructions: \\\n",
    "You must on only write 1-3 sentences in response. \\\n",
    "Always write in second person present tense. \\\n",
    "Ex. (You look north and see...) \\\n",
    "Don't let the player use items they don't have in their inventory.\n",
    "\"\"\"\n",
    "\n",
    "    world_info = f\"\"\"\n",
    "World: {game_state['world']}\n",
    "Kingdom: {game_state['kingdom']}\n",
    "Town: {game_state['town']}\n",
    "Your Character:  {game_state['character']}\n",
    "Inventory: {json.dumps(game_state['inventory'])}\"\"\"\n",
    "\n",
    "    messages = [\n",
    "        {\"role\": \"system\", \"content\": system_prompt},\n",
    "        {\"role\": \"user\", \"content\": world_info}\n",
    "    ]\n",
    "\n",
    "    for user_msg, bot_resp in history:\n",
    "        messages.append({\"role\": \"assistant\", \"content\": bot_resp})\n",
    "        messages.append({\"role\": \"user\", \"content\": user_msg})\n",
    "           \n",
    "    messages.append({\"role\": \"user\", \"content\": message})\n",
    "    if not message or not history:\n",
    "        return \"Estado del juego no válido\"\n",
    "    model_output = client.chat.complete(\n",
    "        model=model,\n",
    "        messages=messages\n",
    "    )\n",
    "    \n",
    "    result = model_output.choices[0].message.content\n",
    "    return result"
   ]
  },
  {
   "cell_type": "code",
   "execution_count": 24,
   "metadata": {},
   "outputs": [],
   "source": [
    "game_state = get_game_state(inventory={\n",
    "    \"cloth pants\": 1,\n",
    "    \"cloth shirt\": 1,\n",
    "    \"goggles\": 1,\n",
    "    \"leather bound journal\": 1,\n",
    "    \"gold\": 5\n",
    "})"
   ]
  },
  {
   "cell_type": "markdown",
   "metadata": {},
   "source": [
    "## Start the game (inventory 1)"
   ]
  },
  {
   "cell_type": "code",
   "execution_count": 25,
   "metadata": {},
   "outputs": [
    {
     "name": "stderr",
     "output_type": "stream",
     "text": [
      "C:\\Users\\USUARIO\\AppData\\Local\\Temp\\ipykernel_12148\\730323021.py:11: UserWarning: You have not specified a value for the `type` parameter. Defaulting to the 'tuples' format for chatbot messages, but this is deprecated and will be removed in a future version of Gradio. Please set type='messages' instead, which uses openai-style dictionaries with 'role' and 'content' keys.\n",
      "  chatbot=gr.Chatbot(height=250, placeholder=\"Type 'start game' to begin\"),\n",
      "c:\\Users\\USUARIO\\AppData\\Local\\pypoetry\\Cache\\virtualenvs\\llm-game-xAnBDEWD-py3.13\\Lib\\site-packages\\gradio\\chat_interface.py:317: UserWarning: The gr.ChatInterface was not provided with a type, so the type of the gr.Chatbot, 'tuples', will be used.\n",
      "  warnings.warn(\n"
     ]
    },
    {
     "name": "stdout",
     "output_type": "stream",
     "text": [
      "* Running on local URL:  http://0.0.0.0:7860\n",
      "\n",
      "To create a public link, set `share=True` in `launch()`.\n"
     ]
    },
    {
     "data": {
      "text/html": [
       "<div><iframe src=\"http://localhost:7860/\" width=\"100%\" height=\"500\" allow=\"autoplay; camera; microphone; clipboard-read; clipboard-write;\" frameborder=\"0\" allowfullscreen></iframe></div>"
      ],
      "text/plain": [
       "<IPython.core.display.HTML object>"
      ]
     },
     "metadata": {},
     "output_type": "display_data"
    }
   ],
   "source": [
    "def main_loop(message, history):\n",
    "    try:\n",
    "        # Validación básica del input\n",
    "        if not message.strip():\n",
    "            return \"Por favor escribe una acción válida\"\n",
    "        \n",
    "        # 1. Ejecutar acción principal\n",
    "        output = str(run_action(message, history, game_state))  # Aseguramos string\n",
    "        \n",
    "        # 2. Validar seguridad\n",
    "        #if not is_safe(output):\n",
    "        #    return \"⚠️ Esa acción no está permitida en este momento\"\n",
    "        \n",
    "        # 3. Procesar inventario (con reintentos)\n",
    "        max_retries = 3\n",
    "        inventory_msg = \"\"\n",
    "        \n",
    "        for attempt in range(max_retries):\n",
    "            try:\n",
    "                item_updates = detect_inventory_changes(game_state, output)\n",
    "                if item_updates:\n",
    "                    inventory_msg = update_inventory(game_state['inventory'], item_updates)\n",
    "                break\n",
    "            except Exception as e:\n",
    "                if attempt == max_retries - 1:\n",
    "                    print(f\"⚠️ Fallo al actualizar inventario: {str(e)}\")\n",
    "                time.sleep(1)  # Espera entre reintentos\n",
    "        \n",
    "        # Construir respuesta final\n",
    "        response = output\n",
    "        if inventory_msg:\n",
    "            response += f\"\\n\\n🔹 {inventory_msg}\"\n",
    "            \n",
    "        return response\n",
    "        \n",
    "    except Exception as e:\n",
    "        # Manejo detallado del error\n",
    "        error_type = type(e).__name__\n",
    "        \n",
    "        if str(e) == \"0\":\n",
    "            print(\"🔴 Error crítico: Posible fallo en la API o respuesta vacía\")\n",
    "            return \"El sistema no pudo procesar tu acción. Intenta algo diferente.\"\n",
    "        else:\n",
    "            print(f\"🔴 Error crítico ({error_type}): {str(e)}\")\n",
    "            return f\"Error: {error_type}. Por favor intenta nuevamente.\"\n",
    "\n",
    "start_game(main_loop)"
   ]
  },
  {
   "cell_type": "markdown",
   "metadata": {},
   "source": [
    "## Game with inventory type 2"
   ]
  },
  {
   "cell_type": "code",
   "execution_count": 28,
   "metadata": {},
   "outputs": [
    {
     "name": "stdout",
     "output_type": "stream",
     "text": [
      "Closing server running on port: 7860\n"
     ]
    },
    {
     "name": "stderr",
     "output_type": "stream",
     "text": [
      "C:\\Users\\USUARIO\\AppData\\Local\\Temp\\ipykernel_12148\\730323021.py:11: UserWarning: You have not specified a value for the `type` parameter. Defaulting to the 'tuples' format for chatbot messages, but this is deprecated and will be removed in a future version of Gradio. Please set type='messages' instead, which uses openai-style dictionaries with 'role' and 'content' keys.\n",
      "  chatbot=gr.Chatbot(height=250, placeholder=\"Type 'start game' to begin\"),\n",
      "c:\\Users\\USUARIO\\AppData\\Local\\pypoetry\\Cache\\virtualenvs\\llm-game-xAnBDEWD-py3.13\\Lib\\site-packages\\gradio\\chat_interface.py:317: UserWarning: The gr.ChatInterface was not provided with a type, so the type of the gr.Chatbot, 'tuples', will be used.\n",
      "  warnings.warn(\n"
     ]
    },
    {
     "name": "stdout",
     "output_type": "stream",
     "text": [
      "* Running on local URL:  http://0.0.0.0:7860\n",
      "\n",
      "To create a public link, set `share=True` in `launch()`.\n"
     ]
    },
    {
     "data": {
      "text/html": [
       "<div><iframe src=\"http://localhost:7860/\" width=\"100%\" height=\"500\" allow=\"autoplay; camera; microphone; clipboard-read; clipboard-write;\" frameborder=\"0\" allowfullscreen></iframe></div>"
      ],
      "text/plain": [
       "<IPython.core.display.HTML object>"
      ]
     },
     "metadata": {},
     "output_type": "display_data"
    }
   ],
   "source": [
    "def main_loop(message, history):\n",
    "    try:\n",
    "        # Validación básica del input\n",
    "        if not message.strip():\n",
    "            return \"Por favor escribe una acción válida\"\n",
    "        \n",
    "        # 1. Ejecutar acción principal\n",
    "        output = str(run_action(message, history, game_state))  # Aseguramos string\n",
    "        \n",
    "        # 2. Validar seguridad (comentado)\n",
    "        # if not is_safe(output):\n",
    "        #     return \"⚠️ Esa acción no está permitida en este momento\"\n",
    "        \n",
    "        # 3. Procesar inventario (con reintentos)\n",
    "        max_retries = 3\n",
    "        inventory_msg = \"\"\n",
    "        \n",
    "        for attempt in range(max_retries):\n",
    "            try:\n",
    "                item_updates = detect_inventory_changes(game_state, output)\n",
    "                # Filtrar solo actualizaciones válidas (que tengan las claves 'name' y 'change_amount')\n",
    "                valid_updates = [\n",
    "                    update for update in item_updates\n",
    "                    if isinstance(update, dict) and 'name' in update and 'change_amount' in update\n",
    "                ]\n",
    "                if valid_updates:\n",
    "                    inventory_msg = update_inventory(game_state['inventory'], valid_updates)\n",
    "                break\n",
    "            except Exception as e:\n",
    "                if attempt == max_retries - 1:\n",
    "                    print(f\"⚠️ Fallo al actualizar inventario: {str(e)}\")\n",
    "                time.sleep(1)  # Espera entre reintentos\n",
    "        \n",
    "        # Construir respuesta final\n",
    "        response = output\n",
    "        if inventory_msg:\n",
    "            response += f\"\\n\\n🔹 {inventory_msg}\"\n",
    "            \n",
    "        return response\n",
    "        \n",
    "    except Exception as e:\n",
    "        # Manejo detallado del error\n",
    "        error_type = type(e).__name__\n",
    "        if str(e) == \"0\":\n",
    "            print(\"🔴 Error crítico: Posible fallo en la API o respuesta vacía\")\n",
    "            return \"El sistema no pudo procesar tu acción. Intenta algo diferente.\"\n",
    "        else:\n",
    "            print(f\"🔴 Error crítico ({error_type}): {str(e)}\")\n",
    "            return f\"Error: {error_type}. Por favor intenta nuevamente.\"\n",
    "\n",
    "start_game(main_loop)"
   ]
  },
  {
   "cell_type": "markdown",
   "metadata": {},
   "source": [
    "## Api Test"
   ]
  },
  {
   "cell_type": "code",
   "execution_count": 27,
   "metadata": {},
   "outputs": [
    {
     "data": {
      "text/plain": [
       "True"
      ]
     },
     "execution_count": 27,
     "metadata": {},
     "output_type": "execute_result"
    }
   ],
   "source": [
    "def check_api_status():\n",
    "    try:\n",
    "        test_response = client.chat.complete(\n",
    "            model=model,\n",
    "            messages=[{\"role\": \"user\", \"content\": \"Responde 'OK'\"}],\n",
    "            temperature=0.0\n",
    "        )\n",
    "        return True if test_response.choices[0].message.content else False\n",
    "    except:\n",
    "        return False\n",
    "\n",
    "if not check_api_status():\n",
    "    print(\"🔴 La API de Mistral no está respondiendo\")\n",
    "    # Puedes agregar un reintento o salir\n",
    "\n",
    "check_api_status()"
   ]
  }
 ],
 "metadata": {
  "kernelspec": {
   "display_name": "llm-game-xAnBDEWD-py3.13",
   "language": "python",
   "name": "python3"
  },
  "language_info": {
   "codemirror_mode": {
    "name": "ipython",
    "version": 3
   },
   "file_extension": ".py",
   "mimetype": "text/x-python",
   "name": "python",
   "nbconvert_exporter": "python",
   "pygments_lexer": "ipython3",
   "version": "3.13.2"
  }
 },
 "nbformat": 4,
 "nbformat_minor": 2
}
