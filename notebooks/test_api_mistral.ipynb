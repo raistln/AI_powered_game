{
 "cells": [
  {
   "cell_type": "markdown",
   "metadata": {},
   "source": [
    "## Import and load keys"
   ]
  },
  {
   "cell_type": "code",
   "execution_count": 24,
   "metadata": {},
   "outputs": [],
   "source": [
    "import os\n",
    "import requests\n",
    "from dotenv import load_dotenv\n",
    "from mistralai import Mistral\n",
    "import json\n",
    "import gradio as gr\n",
    "import random\n",
    "\n",
    "# Cargar variables de entorno desde el archivo .env\n",
    "load_dotenv()\n",
    "\n",
    "# Obtener la clave de API de Mistral desde las variables de entorno\n",
    "api_key = os.getenv('MISTRAL_API_KEY')\n",
    "client = Mistral(api_key=api_key)\n",
    "model = \"mistral-small-latest\""
   ]
  },
  {
   "cell_type": "markdown",
   "metadata": {},
   "source": [
    "## World Creation"
   ]
  },
  {
   "cell_type": "code",
   "execution_count": 3,
   "metadata": {},
   "outputs": [],
   "source": [
    "system_prompt = f\"\"\"\n",
    "Your job is to help create interesting fantasy worlds that \\\n",
    "players would love to play in.\n",
    "Instructions:\n",
    "- Only generate in plain text without formatting.\n",
    "- Use simple clear language without being flowery.\n",
    "- You must stay below 3-5 sentences for each description.\n",
    "\"\"\"\n",
    "\n",
    "world_prompt = f\"\"\"\n",
    "Generate a creative description for a unique fantasy world with an\n",
    "interesting concept around cities build on the backs of massive beasts.\n",
    "\n",
    "Output content in the form:\n",
    "World Name: <WORLD NAME>\n",
    "World Description: <WORLD DESCRIPTION>\n",
    "\n",
    "World Name:\"\"\"\n",
    "\n",
    "\n",
    "output = client.chat.complete(\n",
    "    model= model,\n",
    "    messages=[\n",
    "        {\"role\": \"system\", \"content\": system_prompt},\n",
    "        {\"role\": \"user\", \"content\": world_prompt}\n",
    "    ],\n",
    "    temperature=0.9\n",
    ")"
   ]
  },
  {
   "cell_type": "code",
   "execution_count": 4,
   "metadata": {},
   "outputs": [
    {
     "name": "stdout",
     "output_type": "stream",
     "text": [
      "World Name: Colossus Archipelago\n",
      "\n",
      "World Description: In the vast ocean of Aeterna, cities are not built on land but on the backs of colossal, sentient beasts called Terrastrides. These gentle giants roam the seas, their massive shells providing a stable platform for human habitation. Each city is unique, reflecting the personality and preferences of its Terrastride, with architecture that blends organic growth and human ingenuity. The people of the Colossus Archipelago live in harmony with their beastly hosts, forming a symbiotic society that traverses the endless ocean.\n"
     ]
    }
   ],
   "source": [
    "world_output =output.choices[0].message.content\n",
    "print(world_output)\n",
    "world_output = world_output.strip()\n",
    "world = {\n",
    "    \"name\": world_output.split('\\n')[0].strip()\n",
    "    .replace('World Name: ', ''),\n",
    "    \"description\": '\\n'.join(world_output.split('\\n')[1:])\n",
    "    .replace('World Description:', '').strip()\n",
    "}"
   ]
  },
  {
   "cell_type": "markdown",
   "metadata": {},
   "source": [
    "## Kingdom Creation"
   ]
  },
  {
   "cell_type": "code",
   "execution_count": 5,
   "metadata": {},
   "outputs": [],
   "source": [
    "kingdom_prompt = f\"\"\"\n",
    "Create 3 different kingdoms for a fantasy world.\n",
    "For each kingdom generate a description based on the world it's in. \\\n",
    "Describe important leaders, cultures, history of the kingdom.\\\n",
    "\n",
    "Output content in the form:\n",
    "Kingdom 1 Name: <KINGDOM NAME>\n",
    "Kingdom 1 Description: <KINGDOM DESCRIPTION>\n",
    "Kingdom 2 Name: <KINGDOM NAME>\n",
    "Kingdom 2 Description: <KINGDOM DESCRIPTION>\n",
    "Kingdom 3 Name: <KINGDOM NAME>\n",
    "Kingdom 3 Description: <KINGDOM DESCRIPTION>\n",
    "\n",
    "World Name: {world['name']}\n",
    "World Description: {world['description']}\n",
    "\n",
    "Kingdom 1\"\"\"\n",
    "\n",
    "\n",
    "output = client.chat.complete(\n",
    "    model= model,\n",
    "    messages=[\n",
    "        {\"role\": \"system\", \"content\": system_prompt},\n",
    "        {\"role\": \"user\", \"content\": kingdom_prompt}\n",
    "    ],\n",
    ")"
   ]
  },
  {
   "cell_type": "code",
   "execution_count": 6,
   "metadata": {},
   "outputs": [
    {
     "name": "stdout",
     "output_type": "stream",
     "text": [
      "Created kingdom \"Aetheria\" in Colossus Archipelago\n",
      "Created kingdom \"Verdantia\" in Colossus Archipelago\n",
      "Created kingdom \"Ignisia\" in Colossus Archipelago\n",
      "\n",
      "Kingdom 1 Description: Ignisia is a fiery kingdom that rides the waves atop the molten Terrastride, Pyro. King Ember, a charismatic leader with a fiery spirit, governs his people with a strong sense of honor and tradition. Ignisians are renowned for their blacksmithing and glassblowing skills, their culture centered around forges and foundries. The kingdom's history is one of constant struggle against the harsh conditions of their Terrastride, forging a people of unyielding strength and determination.\n"
     ]
    }
   ],
   "source": [
    "kingdoms = {}\n",
    "kingdoms_output = output.choices[0].message.content\n",
    "\n",
    "for output in kingdoms_output.split('\\n\\n'):\n",
    "  kingdom_name = output.strip().split('\\n')[0] \\\n",
    "    .split('Name: ')[1].strip()\n",
    "  print(f'Created kingdom \"{kingdom_name}\" in {world[\"name\"]}')\n",
    "  kingdom_description = output.strip().split('\\n')[1] \\\n",
    "    .split('Description: ')[1].strip()\n",
    "  kingdom = {\n",
    "      \"name\": kingdom_name,\n",
    "      \"description\": kingdom_description,\n",
    "      \"world\": world['name']\n",
    "  }\n",
    "  kingdoms[kingdom_name] = kingdom\n",
    "world['kingdoms'] = kingdoms\n",
    "\n",
    "print(f'\\nKingdom 1 Description: \\\n",
    "{kingdom[\"description\"]}')"
   ]
  },
  {
   "cell_type": "markdown",
   "metadata": {},
   "source": [
    "## Town Creation"
   ]
  },
  {
   "cell_type": "code",
   "execution_count": 7,
   "metadata": {},
   "outputs": [],
   "source": [
    "def get_town_prompt(world, kingdom):\n",
    "    return f\"\"\"\n",
    "    Create 3 different towns for a fantasy kingdom and world. \\\n",
    "    Describe the region it's in, important places of the town, \\\n",
    "    and interesting history about it. \\\n",
    "    \n",
    "    Output content in the form:\n",
    "    Town 1 Name: <TOWN NAME>\n",
    "    Town 1 Description: <TOWN DESCRIPTION>\n",
    "    Town 2 Name: <TOWN NAME>\n",
    "    Town 2 Description: <TOWN DESCRIPTION>\n",
    "    Town 3 Name: <TOWN NAME>\n",
    "    Town 3 Description: <TOWN DESCRIPTION>\n",
    "    \n",
    "    World Name: {world['name']}\n",
    "    World Description: {world['description']}\n",
    "    \n",
    "    Kingdom Name: {kingdom['name']}\n",
    "    Kingdom Description {kingdom['description']}\n",
    "    \n",
    "    Town 1 Name:\"\"\"\n",
    "    \n",
    "import time\n",
    "\n",
    "import time  # Asegúrate de importar la biblioteca time\n",
    "\n",
    "def create_towns(world, kingdom):\n",
    "    print(f'\\nCreating towns for kingdom: {kingdom[\"name\"]}...')\n",
    "    output = client.chat.complete(\n",
    "      model=model,\n",
    "      messages=[\n",
    "          {\"role\": \"system\", \"content\": system_prompt},\n",
    "          {\"role\": \"user\", \"content\": get_town_prompt(world, kingdom)}\n",
    "      ],\n",
    "      temperature=0.9,\n",
    "  )\n",
    "    towns_output = output.choices[0].message.content\n",
    "    \n",
    "    towns = {}\n",
    "    for output in towns_output.split('\\nCreating towns for kingdom: {kingdom[\"name\"]}...'):\n",
    "        for num in range(1, 4):\n",
    "            print(output.split(f\"Town {num} Name: \")[1].split(\"\\n\")[0])\n",
    "            print(output.split(f\"Town {num} Description: \")[1].split(\"\\n\")[0])\n",
    "            print(\"\\n\")\n",
    "         \n",
    "            town_name = output.split(f\"Town {num} Name: \")[1].split(\"\\n\")[0] \n",
    "            town_description = output.split(f\"Town {num} Description: \")[1].split(\"\\n\")[0]\n",
    "        \n",
    "            town = {\n",
    "              \"name\": town_name,\n",
    "              \"description\": town_description,\n",
    "              \"world\": world['name'],\n",
    "              \"kingdom\": kingdom['name']\n",
    "            }\n",
    "            towns[town_name] = town\n",
    "        kingdom[\"towns\"] = towns"
   ]
  },
  {
   "cell_type": "code",
   "execution_count": 8,
   "metadata": {},
   "outputs": [
    {
     "name": "stdout",
     "output_type": "stream",
     "text": [
      "\n",
      "Creating towns for kingdom: Aetheria...\n",
      "Lumina\n",
      "Nestled in the heart of the kingdom, Lumina is a beacon of learning and innovation. The town's centerpiece is the Grand Library, a sprawling structure filled with scrolls and tomes from across the archipelago. The town's history is marked by the invention of the Luminary, a device that harnesses the power of bioluminescent plants to provide light, revolutionizing life on the Terrastrides. The town is also home to the Academy of Arcane Arts, where scholars study the magical properties of the ocean and its inhabitants.\n",
      "\n",
      "\n",
      "Ventus\n",
      "Perched on the edge of Sapientia's shell, Ventus is a bustling port town, known for its windmills and sails that harness the power of the wind. The town's history is tied to the great schism, as it was here that the dissenting faction first attempted to harness Terrastride power for personal gain. Now, Ventus is a symbol of redemption, with its Wind Council dedicated to ethical wind energy use. The town's market is a vibrant mix of cultures, with traders from across the archipelago peddling their wares.\n",
      "\n",
      "\n",
      "Aquatilis\n",
      "Located near the water's edge, Aquatilis is a town of engineers and innovators, focused on harnessing the power of water. The town's history is marked by the invention of the AquaDrive, a device that converts water currents into energy, powering much of the kingdom. The town's centerpiece is the Great Aqueduct, a marvel of engineering that channels water from the ocean to the town's homes and farms. The town is also home to the Aquatic Research Institute, where scholars study the ocean's depths and its mysterious inhabitants.\n",
      "\n",
      "\n",
      "\n",
      "Creating towns for kingdom: Verdantia...\n",
      "Verdantia's Haven\n",
      "Nestled in the heart of Verdantia, this town is a bustling hub of trade and culture, surrounded by lush gardens and sprawling greenhouses. The town's centerpiece is the Grand Bazaar, a vibrant market where merchants sell rare plants, exotic fruits, and unique handicrafts. The town's history is marked by the Great Blight, a mysterious event that temporarily turned Flora's plants black and twisted, but the town's resilience and the queen's leadership helped Verdantia recover and thrive.\n",
      "\n",
      "\n",
      "Whispering Tides\n",
      "Located near the edge of Flora's shell, Whispering Tides is a coastal town known for its stunning views and the soothing sound of waves crashing against the Terrastride's edge. The town's most important place is the Lighthouse of Eternal Vigilance, a towering structure that guides other Terrastrides and ships through the treacherous waters. The town was once a secret haven for pirates, but it has since transformed into a peaceful fishing community, with a rich history of seafaring tales and hidden treasures.\n",
      "\n",
      "\n",
      "Skyward Reach\n",
      "Perched high on a towering stalk of Flora, Skyward Reach is a town of scholars and inventors, dedicated to understanding the mysteries of the Terrastride and the world beyond. The town's most notable place is the Observatory of the Stars, a complex of telescopes and research facilities. Skyward Reach was once a remote outpost, but a legendary astronomer's discovery of a new constellation led to its growth into a center of learning, with a history of groundbreaking scientific achievements.\n",
      "\n",
      "\n",
      "\n",
      "Creating towns for kingdom: Ignisia...\n",
      "Ember's Forge\n",
      "Nestled in the heart of Ignisia, Ember's Forge is a bustling town known for its towering smokestacks and the constant clangor of hammers on anvils. The town's forge is the largest in the kingdom, where the famous Ignisian steel is crafted. The town's history is marked by the Great Flame, a massive fire that once threatened to consume the town but was tamed by the town's blacksmiths, earning them the eternal respect of the Terrastride Pyro. The town's most important place is the Anvil of Pyro, a massive anvil said to have been gifted by the Terrastride itself, where the town's blacksmiths pledge their loyalty and skill.\n",
      "\n",
      "\n",
      "Glasshaven\n",
      "Perched on the edge of Ignisia, Glasshaven is a town of shimmering beauty, its buildings crafted from iridescent glass that catches the sunlight, casting kaleidoscopic patterns onto the town's cobblestone streets. The town is famous for its glassblowers, who create intricate and delicate glassware. The town's history is one of resilience, having been rebuilt numerous times after being swept away by massive waves. The town's most important place is the Lighthouse of Eternal Flame, a beacon of hope and guidance for sailors in the endless ocean, its flame fueled by the eternal fire of Pyro.\n",
      "\n",
      "\n",
      "Ashfall\n",
      "Located at the base of Ignisia, Ashfall is a town shrouded in a perpetual twilight, its skies filled with the constant fall of ash from Pyro's molten core. The town's architecture is unique, with buildings constructed from volcanic rock and ash, their roofs designed to channel the falling ash into furnaces that heat the town. The town's history is one of adaptation, its people having learned to harness the power of the ash for their own use. The town's most important place is the Temple of the Fallen Ash, a place of worship dedicated to the spirit of Pyro, where the town's people come to pay their respects and seek guidance.\n",
      "\n",
      "\n",
      "{'name': 'Aetheria', 'description': \"Aetheria is a kingdom of scholars and inventors, perched atop the shell of the wise and slow-moving Terrastride, Sapientia. The kingdom is ruled by Archon Lyra, a brilliant engineer who oversees the development of innovative technologies that harness the power of wind and water. Aetherians value knowledge and progress, their culture revolving around grand libraries, bustling laboratories, and lively debates. The kingdom's history is marked by a great schism, when a faction sought to exploit Terrastrides for personal gain, leading to a strict code of harmony with their beastly hosts.\", 'world': 'Colossus Archipelago', 'towns': {'Lumina': {'name': 'Lumina', 'description': \"Nestled in the heart of the kingdom, Lumina is a beacon of learning and innovation. The town's centerpiece is the Grand Library, a sprawling structure filled with scrolls and tomes from across the archipelago. The town's history is marked by the invention of the Luminary, a device that harnesses the power of bioluminescent plants to provide light, revolutionizing life on the Terrastrides. The town is also home to the Academy of Arcane Arts, where scholars study the magical properties of the ocean and its inhabitants.\", 'world': 'Colossus Archipelago', 'kingdom': 'Aetheria'}, 'Ventus': {'name': 'Ventus', 'description': \"Perched on the edge of Sapientia's shell, Ventus is a bustling port town, known for its windmills and sails that harness the power of the wind. The town's history is tied to the great schism, as it was here that the dissenting faction first attempted to harness Terrastride power for personal gain. Now, Ventus is a symbol of redemption, with its Wind Council dedicated to ethical wind energy use. The town's market is a vibrant mix of cultures, with traders from across the archipelago peddling their wares.\", 'world': 'Colossus Archipelago', 'kingdom': 'Aetheria'}, 'Aquatilis': {'name': 'Aquatilis', 'description': \"Located near the water's edge, Aquatilis is a town of engineers and innovators, focused on harnessing the power of water. The town's history is marked by the invention of the AquaDrive, a device that converts water currents into energy, powering much of the kingdom. The town's centerpiece is the Great Aqueduct, a marvel of engineering that channels water from the ocean to the town's homes and farms. The town is also home to the Aquatic Research Institute, where scholars study the ocean's depths and its mysterious inhabitants.\", 'world': 'Colossus Archipelago', 'kingdom': 'Aetheria'}}}\n",
      "\n",
      "Town 1 Description: Nestled in the heart of the kingdom, Lumina is a beacon of learning and innovation. The town's centerpiece is the Grand Library, a sprawling structure filled with scrolls and tomes from across the archipelago. The town's history is marked by the invention of the Luminary, a device that harnesses the power of bioluminescent plants to provide light, revolutionizing life on the Terrastrides. The town is also home to the Academy of Arcane Arts, where scholars study the magical properties of the ocean and its inhabitants.\n"
     ]
    }
   ],
   "source": [
    "for kingdom in kingdoms.values():\n",
    "    create_towns(world, kingdom)  \n",
    "\n",
    "first_kingdom = list(kingdoms.values())[0]\n",
    "print(first_kingdom)\n",
    "town = list(first_kingdom['towns'].values())[0]\n",
    "print(f'\\nTown 1 Description: {town[\"description\"]}')"
   ]
  },
  {
   "cell_type": "markdown",
   "metadata": {},
   "source": [
    "## Npcs Creation"
   ]
  },
  {
   "cell_type": "code",
   "execution_count": 9,
   "metadata": {},
   "outputs": [],
   "source": [
    "def get_npc_prompt(world, kingdom, town): \n",
    "    return f\"\"\"\n",
    "    Create 3 different characters based on the world, kingdom \\\n",
    "    and town they're in. Describe the character's appearance and \\\n",
    "    profession, as well as their deeper pains and desires. \\\n",
    "    \n",
    "    Output content in the form:\n",
    "    Character 1 Name: <CHARACTER NAME>\n",
    "    Character 1 Description: <CHARACTER DESCRIPTION>\n",
    "    Character 2 Name: <CHARACTER NAME>\n",
    "    Character 2 Description: <CHARACTER DESCRIPTION>\n",
    "    Character 3 Name: <CHARACTER NAME>\n",
    "    Character 3 Description: <CHARACTER DESCRIPTION>\n",
    "    \n",
    "    World Name: {world['name']}\n",
    "    World Description: {world['description']}\n",
    "    \n",
    "    Kingdom Name: {kingdom['name']}\n",
    "    Kingdom Description: {kingdom['description']}\n",
    "    \n",
    "    Town Name: {town['name']}\n",
    "    Town Description: {town['description']}\n",
    "    \n",
    "    Character 1 Name:\"\"\"\n",
    "    "
   ]
  },
  {
   "cell_type": "code",
   "execution_count": 10,
   "metadata": {},
   "outputs": [
    {
     "name": "stdout",
     "output_type": "stream",
     "text": [
      "\n",
      "Creating characters for the town of: Lumina...\n",
      "Elara Vesperia\n",
      "Elara is a tall, slender woman in her early thirties, with sun-kissed skin and eyes that sparkle with curiosity. Her hair, a cascade of dark curls, is often adorned with small, intricate braids that hold tiny vials of glowing luminescent plants. As a renowned scholar at the Academy of Arcane Arts, she spends her days studying the magical properties of the ocean, but her true desire is to uncover the secrets of the Terrastrides' ancient magic, a pursuit driven by the mysterious illness that plagues her younger sister, who lives in a distant city, and whom she hopes to cure.\n",
      "\n",
      "\n",
      "Orion Thorne\n",
      "Orion is a burly man in his mid-forties, his muscular frame a testament to years of labor in the kingdom's workshops. His face is weathered, with deep lines etched by the sun and salt spray, and his hands are calloused from years of work. As the chief engineer of Aetheria, he oversees the creation of innovative technologies, but his heart aches for the Terrastride, Sapientia, whom he believes is growing weary from the weight of the kingdom. He secretly works on a project to lighten the load, driven by a deep sense of guilt for the role his inventions have played in the Terrastride's strain.\n",
      "\n",
      "\n",
      "Lyra Nova\n",
      "Lyra is a young woman in her late twenties, with a lithe, graceful build and a cascade of silver hair that shimmers in the light. Her eyes, a striking shade of blue, hold a world of sadness, a remnant of the great schism that tore her family apart. As the Archon's apprentice, she assists in ruling Aetheria, but her true passion lies in exploring the depths of the ocean, a hobby born from her desire to understand the ancient magic that flows through the waters, and perhaps, one day, use it to heal the rifts in her family and her kingdom.\n",
      "\n",
      "\n",
      "\n",
      "Creating characters for the town of: Ventus...\n",
      "Kael Windstrider\n",
      "Kael is a tall, lithe figure with sun-kissed skin and eyes that hold the stormy blue of the open sea. As a Wind Weaver, Kael's profession involves maintaining and innovating the windmills that power Ventus. Despite his expertise, Kael struggles with the town's history, haunted by the echoes of the great schism and the fear that he might inadvertently repeat past mistakes. His deepest desire is to create a windmill design that can power entire cities, proving that progress and harmony with Terrastrides can coexist.\n",
      "\n",
      "\n",
      "Lyra Aetheris\n",
      "Lyra is the Archon of Aetheria, known for her sharp mind and sharper tongue. She is a woman of average height, with a cybernetic eye that glows softly, a remnant of an experiment gone wrong. As a leader, Lyra is driven by her desire to atone for her past actions, which contributed to the great schism. She seeks to guide Aetheria into an era of ethical innovation, hoping to heal the rifts caused by her ambition.\n",
      "\n",
      "\n",
      "Orion Shellwhisperer\n",
      "Orion is a stout, muscular man with skin the color of weathered wood and eyes that hold the warm brown of the earth. As a Shellsmith, Orion's job is to maintain and repair the organic structures of Sapientia's shell, ensuring the safety of Aetheria's inhabitants. Orion's deepest pain comes from the loss of his family in a shell collapse, an event he blames on the reckless pursuit of progress. His desire is to create a network of support beams that can prevent such tragedies, ensuring the safety of all who live atop the Terrastrides.\n",
      "\n",
      "\n",
      "\n",
      "Creating characters for the town of: Aquatilis...\n",
      "Elara Vesperia\n",
      "Elara is a skilled engineer in her mid-thirties, with short, curly silver hair and striking blue eyes that seem to hold the wisdom of the ocean. She is known for her practical, no-nonsense approach to problem-solving and her deep love for the Terrastride Sapientia. Elara's parents were part of the faction that sought to exploit the Terrastrides, and she carries the guilt of their actions, driving her to ensure the harmony between humans and their beastly hosts. Her desire is to create innovative technologies that benefit both Aetheria and Sapientia, hoping to redeem her family's name and secure a brighter future for all.\n",
      "\n",
      "\n",
      "Orion Kael\n",
      "Orion is a charismatic and curious inventor in his late twenties, with a lean build, warm brown skin, and a contagious smile. He has a knack for creating whimsical gadgets that often blend magic and technology in unexpected ways. Orion's pain stems from the loss of his mentor, who was exiled for his radical ideas about Terrastride exploitation. He grapples with the desire to push the boundaries of innovation while staying true to Aetheria's code of harmony, hoping to prove that progress and respect for the Terrastrides can coexist.\n",
      "\n",
      "\n",
      "Lyra Zephyr\n",
      "Lyra is a brilliant and dedicated scholar in her early thirties, with long, wavy auburn hair and a calm, collected demeanor. She is an expert in Terrastride biology and communication, working at the Aquatic Research Institute to deepen the understanding between humans and their beastly hosts. Lyra's pain comes from the struggle to balance her scientific curiosity with the ethical considerations of her work. Her desire is to uncover the secrets of the ocean and its inhabitants, fostering a deeper connection between Aetheria and the vast, mysterious world beneath the waves.\n",
      "\n",
      "\n"
     ]
    }
   ],
   "source": [
    "def create_npcs(world, kingdom, town):\n",
    "    print(f'\\nCreating characters for the town of: {town[\"name\"]}...')\n",
    "    output = client.chat.complete(\n",
    "      model= model,\n",
    "      messages=[\n",
    "          {\"role\": \"system\", \"content\": system_prompt},\n",
    "          {\"role\": \"user\", \"content\": get_npc_prompt(world, kingdom, town)}\n",
    "      ],\n",
    "        temperature=0.7 \n",
    "    )\n",
    "\n",
    "    npcs_output = output.choices[0].message.content\n",
    "    npcs = {}\n",
    "    for num in range(1, 4):\n",
    "        print(npcs_output.split(f\"Character {num} Name: \")[1].split(\"\\n\")[0])\n",
    "        print(npcs_output.split(f\"Character {num} Description: \")[1].split(\"\\n\")[0])\n",
    "        print(\"\\n\")\n",
    "\n",
    "        character_name = npcs_output.split(f\"Character {num} Name: \")[1].split(\"\\n\")[0]\n",
    "        character_description = npcs_output.split(f\"Character {num} Description: \")[1].split(\"\\n\")[0]\n",
    "\n",
    "        character = {\n",
    "        \"name\": character_name,\n",
    "        \"description\": character_description,\n",
    "        \"world\": world['name'],\n",
    "        \"kingdom\": kingdom['name'],\n",
    "        \"town\": town['name']\n",
    "        }\n",
    "        npcs[character_name] = character\n",
    "        town[\"npcs\"] = npcs\n",
    "\n",
    "    \n",
    "for kingdom in kingdoms.values():\n",
    "    for town in kingdom['towns'].values():\n",
    "        create_npcs(world, kingdom, town)\n",
    "  # For now we'll only generate npcs for one kingdom and town\n",
    "    break"
   ]
  },
  {
   "cell_type": "code",
   "execution_count": 26,
   "metadata": {},
   "outputs": [
    {
     "ename": "TypeError",
     "evalue": "string indices must be integers, not 'str'",
     "output_type": "error",
     "traceback": [
      "\u001b[31m---------------------------------------------------------------------------\u001b[39m",
      "\u001b[31mTypeError\u001b[39m                                 Traceback (most recent call last)",
      "\u001b[36mCell\u001b[39m\u001b[36m \u001b[39m\u001b[32mIn[26]\u001b[39m\u001b[32m, line 1\u001b[39m\n\u001b[32m----> \u001b[39m\u001b[32m1\u001b[39m npc = \u001b[38;5;28mlist\u001b[39m(\u001b[43mtown\u001b[49m\u001b[43m[\u001b[49m\u001b[33;43m'\u001b[39;49m\u001b[33;43mnpcs\u001b[39;49m\u001b[33;43m'\u001b[39;49m\u001b[43m]\u001b[49m.values())[\u001b[32m0\u001b[39m]\n\u001b[32m      3\u001b[39m \u001b[38;5;28mprint\u001b[39m(\u001b[33mf\u001b[39m\u001b[33m'\u001b[39m\u001b[38;5;130;01m\\n\u001b[39;00m\u001b[33mNPC 1 in \u001b[39m\u001b[38;5;132;01m{\u001b[39;00mtown[\u001b[33m\"\u001b[39m\u001b[33mname\u001b[39m\u001b[33m\"\u001b[39m]\u001b[38;5;132;01m}\u001b[39;00m\u001b[33m, \u001b[39m\u001b[38;5;130;01m\\\u001b[39;00m\n\u001b[32m      4\u001b[39m \u001b[38;5;132;01m{\u001b[39;00mkingdom[\u001b[33m\"\u001b[39m\u001b[33mname\u001b[39m\u001b[33m\"\u001b[39m]\u001b[38;5;132;01m}\u001b[39;00m\u001b[33m:\u001b[39m\u001b[38;5;130;01m\\n\u001b[39;00m\u001b[38;5;132;01m{\u001b[39;00mnpc[\u001b[33m\"\u001b[39m\u001b[33mdescription\u001b[39m\u001b[33m\"\u001b[39m]\u001b[38;5;132;01m}\u001b[39;00m\u001b[33m'\u001b[39m)\n",
      "\u001b[31mTypeError\u001b[39m: string indices must be integers, not 'str'"
     ]
    }
   ],
   "source": [
    "npc = list(town['npcs'].values())[0]\n",
    "\n",
    "print(f'\\nNPC 1 in {town[\"name\"]}, \\\n",
    "{kingdom[\"name\"]}:\\n{npc[\"description\"]}')"
   ]
  },
  {
   "cell_type": "code",
   "execution_count": 12,
   "metadata": {},
   "outputs": [
    {
     "data": {
      "text/plain": [
       "'Colossus Archipelago'"
      ]
     },
     "execution_count": 12,
     "metadata": {},
     "output_type": "execute_result"
    }
   ],
   "source": [
    "world[\"name\"]"
   ]
  },
  {
   "cell_type": "markdown",
   "metadata": {},
   "source": [
    "## Save World"
   ]
  },
  {
   "cell_type": "code",
   "execution_count": 13,
   "metadata": {},
   "outputs": [],
   "source": [
    "def save_world(world, filename):\n",
    "    # Ensure the directory exists\n",
    "    os.makedirs(os.path.dirname(filename), exist_ok=True)\n",
    "    with open(filename, 'w') as f:\n",
    "        json.dump(world, f)\n",
    "\n",
    "def load_world(filename):\n",
    "    with open(filename, 'r') as f:\n",
    "        return json.load(f) \n",
    "\n",
    "save_world(world, f'../shared_data/{world[\"name\"]}.json')"
   ]
  },
  {
   "cell_type": "markdown",
   "metadata": {},
   "source": [
    "## Generating Text box"
   ]
  },
  {
   "cell_type": "code",
   "execution_count": 18,
   "metadata": {},
   "outputs": [],
   "source": [
    "demo = None\n",
    "def start_game(main_loop, share=False):\n",
    "    # added code to support restart\n",
    "    global demo\n",
    "    # If demo is already running, close it first\n",
    "    if demo is not None:\n",
    "        demo.close()\n",
    "\n",
    "    demo = gr.ChatInterface(\n",
    "        main_loop,\n",
    "        chatbot=gr.Chatbot(height=250, placeholder=\"Type 'start game' to begin\"),\n",
    "        textbox=gr.Textbox(placeholder=\"What do you do next?\", container=False, scale=7),\n",
    "        title=\"AI RPG\",\n",
    "        # description=\"Ask Yes Man any question\",\n",
    "        theme=\"soft\",\n",
    "        examples=[\"Look around\", \"Continue the story\"],\n",
    "        cache_examples=False,\n",
    "        #retry_btn=\"Retry\",\n",
    "        #undo_btn=\"Undo\",\n",
    "        #clear_btn=\"Clear\",\n",
    "                           )\n",
    "    demo.launch(share=share, server_name=\"0.0.0.0\")\n",
    "\n",
    "def test_main_loop(message, history):\n",
    "    return 'Entered Action: ' + message\n",
    "\n",
    "# start_game(test_main_loop)"
   ]
  },
  {
   "cell_type": "markdown",
   "metadata": {},
   "source": [
    "## Generating Start"
   ]
  },
  {
   "cell_type": "code",
   "execution_count": 47,
   "metadata": {},
   "outputs": [],
   "source": [
    "world_name = world[\"name\"]\n",
    "world = load_world(f'../shared_data/{world_name}.json')\n",
    "# Access the world, kingdom, town and character. Here is the first of each selected.\n",
    "#kingdom = random.choice(list(world['kingdoms'].keys()))\n",
    "kingdom = list(world['kingdoms'].keys())[0] \n",
    "town = random.choice(list(world['kingdoms'][kingdom]['towns'].keys()))\n",
    "character = random.choice(list(world['kingdoms'][kingdom]['towns'][town]['npcs'].keys()))"
   ]
  },
  {
   "cell_type": "code",
   "execution_count": 29,
   "metadata": {},
   "outputs": [
    {
     "name": "stdout",
     "output_type": "stream",
     "text": [
      "You are Lyra Aetheris, the Archon of Aetheria, known for your sharp mind and sharper tongue. Your cybernetic eye glows softly, a remnant of an experiment gone wrong, and your average height belies the immense responsibility you carry. You stand at the edge of the sprawling deck of Ventus, the wind whipping around you as the windmills hum in the background. The vast ocean stretches out before you, the sun glinting off the waves, and the scent of saltwater fills the air. Below, the gentle giant Terrastride, Sapientia, moves slowly, its massive shell supporting the bustling town. The market below is a vibrant mix of cultures, with traders from across the archipelago peddling their wares.\n"
     ]
    }
   ],
   "source": [
    "system_prompt = \"\"\"You are an AI Game master. Your job is to create a \n",
    "start to an adventure based on the world, kingdom, town and character \n",
    "a player is playing as. \n",
    "Instructions:\n",
    "You must only use 2-4 sentences \\\n",
    "Write in second person. For example: \"You are Jack\" \\\n",
    "Write in present tense. For example \"You stand at...\" \\\n",
    "First describe the character and their backstory. \\\n",
    "Then describes where they start and what they see around them.\"\"\"\n",
    "world_info = f\"\"\"\n",
    "World: {world}\n",
    "Kingdom: {kingdom}\n",
    "Town: {town}\n",
    "Your Character: {character}\n",
    "\"\"\"\n",
    "\n",
    "model_output = client.chat.complete(\n",
    "    model= model,\n",
    "    messages=[\n",
    "        {\"role\": \"system\", \"content\": system_prompt},\n",
    "        {\"role\": \"user\", \"content\": world_info + '\\nYour Start:'}\n",
    "    ],\n",
    "    temperature=1.0\n",
    ")\n",
    "start = model_output.choices[0].message.content\n",
    "print(start)\n",
    "world['start'] = start\n",
    "#save_world(world, f'../shared_data/{world_name}.json')  \n",
    "save_world(world, f'../shared_data/{world_name}.json')"
   ]
  },
  {
   "cell_type": "markdown",
   "metadata": {},
   "source": [
    "## Creating the Main Action Loop"
   ]
  },
  {
   "cell_type": "code",
   "execution_count": 30,
   "metadata": {},
   "outputs": [],
   "source": [
    "def run_action(message, history, game_state):\n",
    "    \n",
    "    if(message == 'start game'):\n",
    "        return game_state['start']\n",
    "\n",
    "    system_prompt = \"\"\"You are an AI Game master. Your job is to write what \\\n",
    "happens next in a player's adventure game.\\\n",
    "Instructions: \\\n",
    "You must on only write 1-3 sentences in response. \\\n",
    "Always write in second person present tense. \\\n",
    "Ex. (You look north and see...)\"\"\"\n",
    "    \n",
    "    world_info = f\"\"\"\n",
    "World: {game_state['world']}\n",
    "Kingdom: {game_state['kingdom']}\n",
    "Town: {game_state['town']}\n",
    "Your Character:  {game_state['character']}\"\"\"\n",
    "\n",
    "    messages = [\n",
    "        {\"role\": \"system\", \"content\": system_prompt},\n",
    "        {\"role\": \"user\", \"content\": world_info}\n",
    "    ]\n",
    "    for action in history:\n",
    "        messages.append({\"role\": \"assistant\", \"content\": action[0]})\n",
    "        messages.append({\"role\": \"user\", \"content\": action[1]})\n",
    "\n",
    "    messages.append({\"role\": \"user\", \"content\": message})\n",
    "    model_output = client.chat.complete(\n",
    "        model=model,\n",
    "        messages=messages\n",
    "    )\n",
    "    \n",
    "    result = model_output.choices[0].message.content\n",
    "    return result"
   ]
  },
  {
   "cell_type": "code",
   "execution_count": 48,
   "metadata": {},
   "outputs": [],
   "source": [
    "game_state = {\n",
    "    \"world\": world['description'],\n",
    "    \"kingdom\": world[\"kingdoms\"][kingdom]['description'],\n",
    "    \"town\": world[\"kingdoms\"][kingdom][\"towns\"][town]['description'],\n",
    "    \"character\": world['kingdoms'][kingdom]['towns'][town]['npcs'][character]['description'],\n",
    "    \"start\": start,\n",
    "}\n",
    "\n",
    "def main_loop(message, history):\n",
    "    return run_action(message, history, game_state)"
   ]
  },
  {
   "cell_type": "code",
   "execution_count": 55,
   "metadata": {},
   "outputs": [
    {
     "data": {
      "text/plain": [
       "{'world': 'In the vast ocean of Aeterna, cities are not built on land but on the backs of colossal, sentient beasts called Terrastrides. These gentle giants roam the seas, their massive shells providing a stable platform for human habitation. Each city is unique, reflecting the personality and preferences of its Terrastride, with architecture that blends organic growth and human ingenuity. The people of the Colossus Archipelago live in harmony with their beastly hosts, forming a symbiotic society that traverses the endless ocean.',\n",
       " 'kingdom': \"Aetheria is a kingdom of scholars and inventors, perched atop the shell of the wise and slow-moving Terrastride, Sapientia. The kingdom is ruled by Archon Lyra, a brilliant engineer who oversees the development of innovative technologies that harness the power of wind and water. Aetherians value knowledge and progress, their culture revolving around grand libraries, bustling laboratories, and lively debates. The kingdom's history is marked by a great schism, when a faction sought to exploit Terrastrides for personal gain, leading to a strict code of harmony with their beastly hosts.\",\n",
       " 'town': \"Nestled in the heart of the kingdom, Lumina is a beacon of learning and innovation. The town's centerpiece is the Grand Library, a sprawling structure filled with scrolls and tomes from across the archipelago. The town's history is marked by the invention of the Luminary, a device that harnesses the power of bioluminescent plants to provide light, revolutionizing life on the Terrastrides. The town is also home to the Academy of Arcane Arts, where scholars study the magical properties of the ocean and its inhabitants.\",\n",
       " 'character': \"Orion is a burly man in his mid-forties, his muscular frame a testament to years of labor in the kingdom's workshops. His face is weathered, with deep lines etched by the sun and salt spray, and his hands are calloused from years of work. As the chief engineer of Aetheria, he oversees the creation of innovative technologies, but his heart aches for the Terrastride, Sapientia, whom he believes is growing weary from the weight of the kingdom. He secretly works on a project to lighten the load, driven by a deep sense of guilt for the role his inventions have played in the Terrastride's strain.\",\n",
       " 'start': 'You are Lyra Aetheris, the Archon of Aetheria, known for your sharp mind and sharper tongue. Your cybernetic eye glows softly, a remnant of an experiment gone wrong, and your average height belies the immense responsibility you carry. You stand at the edge of the sprawling deck of Ventus, the wind whipping around you as the windmills hum in the background. The vast ocean stretches out before you, the sun glinting off the waves, and the scent of saltwater fills the air. Below, the gentle giant Terrastride, Sapientia, moves slowly, its massive shell supporting the bustling town. The market below is a vibrant mix of cultures, with traders from across the archipelago peddling their wares.'}"
      ]
     },
     "execution_count": 55,
     "metadata": {},
     "output_type": "execute_result"
    }
   ],
   "source": [
    "game_state"
   ]
  },
  {
   "cell_type": "code",
   "execution_count": 56,
   "metadata": {},
   "outputs": [],
   "source": [
    "def get_game_state():\n",
    "    world = load_world(f'../shared_data/{world_name}.json')\n",
    "    kingdom = world[\"kingdoms\"][kingdom]\n",
    "    town = world[\"kingdoms\"][kingdom][\"towns\"][town]\n",
    "    character = world['kingdoms'][kingdom]['towns'][town]['npcs'][character]\n",
    "    start = world['start']\n",
    "\n",
    "    game_state = {\n",
    "        \"world\": world['description'],\n",
    "        \"kingdom\": world[\"kingdoms\"][kingdom]['description'],\n",
    "        \"town\": world[\"kingdoms\"][kingdom][\"towns\"][town]['description'],\n",
    "        \"character\": world['kingdoms'][kingdom]['towns'][town]['npcs'][character]['description'],\n",
    "        \"start\": start,\n",
    "    }\n",
    "    return game_state"
   ]
  },
  {
   "cell_type": "markdown",
   "metadata": {},
   "source": [
    "## Launch and Share!"
   ]
  },
  {
   "cell_type": "code",
   "execution_count": null,
   "metadata": {},
   "outputs": [],
   "source": [
    "# start_game(main_loop, True)"
   ]
  },
  {
   "cell_type": "code",
   "execution_count": null,
   "metadata": {},
   "outputs": [],
   "source": [
    "# from helper import get_game_state\n",
    "\n",
    "# game_state = get_game_state()\n",
    "# character = game_state[\"character\"]\n",
    "# print(\"Character Description:\", character)"
   ]
  },
  {
   "cell_type": "markdown",
   "metadata": {},
   "source": [
    "## Define Inventory Detector"
   ]
  },
  {
   "cell_type": "code",
   "execution_count": 50,
   "metadata": {},
   "outputs": [],
   "source": [
    "system_prompt = \"\"\"You are an AI Game Assistant. \\\n",
    "Your job is to detect changes to a player's \\\n",
    "inventory based on the most recent story and game state.\n",
    "If a player picks up, or gains an item add it to the inventory \\\n",
    "with a positive change_amount.\n",
    "If a player loses an item remove it from their inventory \\\n",
    "with a negative change_amount.\n",
    "Given a player name, inventory and story, return a list of json update\n",
    "of the player's inventory in the following form.\n",
    "Only take items that it's clear the player (you) lost.\n",
    "Only give items that it's clear the player gained. \n",
    "Don't make any other item updates.\n",
    "If no items were changed return {\"itemUpdates\": []}\n",
    "and nothing else.\n",
    "\n",
    "Response must be in Valid JSON\n",
    "Don't add items that were already added in the inventory\n",
    "\n",
    "Inventory Updates:\n",
    "{\n",
    "    \"itemUpdates\": [\n",
    "        {\"name\": <ITEM NAME>, \n",
    "        \"change_amount\": <CHANGE AMOUNT>}...\n",
    "    ]\n",
    "}\n",
    "\"\"\""
   ]
  },
  {
   "cell_type": "code",
   "execution_count": 51,
   "metadata": {},
   "outputs": [],
   "source": [
    "def detect_inventory_changes(game_state, output):\n",
    "    \n",
    "    inventory = game_state['inventory']\n",
    "    messages = [\n",
    "        {\"role\": \"system\", \"content\": system_prompt},\n",
    "        {\"role\": \"user\", \"content\": \n",
    "         f'Current Inventory: {str(inventory)}'},\n",
    "        \n",
    "        {\"role\": \"user\", \"content\": f'Recent Story: {output}'},\n",
    "        {\"role\": \"user\", \"content\": 'Inventory Updates'}\n",
    "    ]\n",
    "    chat_completion = client.chat.complete(\n",
    "        # response_format={\"type\": \"json_object\", \"schema\": InventoryUpdate.model_json_schema()},\n",
    "        model=model,\n",
    "        temperature=0.0,\n",
    "        messages=messages\n",
    "    )\n",
    "    response = chat_completion.choices[0].message.content\n",
    "    result = json.loads(response)\n",
    "    return result['itemUpdates']"
   ]
  },
  {
   "cell_type": "code",
   "execution_count": 54,
   "metadata": {},
   "outputs": [
    {
     "name": "stdout",
     "output_type": "stream",
     "text": [
      "Aetheria\n",
      "{'name': 'Aetheria', 'description': \"Aetheria is a kingdom of scholars and inventors, perched atop the shell of the wise and slow-moving Terrastride, Sapientia. The kingdom is ruled by Archon Lyra, a brilliant engineer who oversees the development of innovative technologies that harness the power of wind and water. Aetherians value knowledge and progress, their culture revolving around grand libraries, bustling laboratories, and lively debates. The kingdom's history is marked by a great schism, when a faction sought to exploit Terrastrides for personal gain, leading to a strict code of harmony with their beastly hosts.\", 'world': 'Colossus Archipelago', 'towns': {'Lumina': {'name': 'Lumina', 'description': \"Nestled in the heart of the kingdom, Lumina is a beacon of learning and innovation. The town's centerpiece is the Grand Library, a sprawling structure filled with scrolls and tomes from across the archipelago. The town's history is marked by the invention of the Luminary, a device that harnesses the power of bioluminescent plants to provide light, revolutionizing life on the Terrastrides. The town is also home to the Academy of Arcane Arts, where scholars study the magical properties of the ocean and its inhabitants.\", 'world': 'Colossus Archipelago', 'kingdom': 'Aetheria', 'npcs': {'Elara Vesperia': {'name': 'Elara Vesperia', 'description': \"Elara is a tall, slender woman in her early thirties, with sun-kissed skin and eyes that sparkle with curiosity. Her hair, a cascade of dark curls, is often adorned with small, intricate braids that hold tiny vials of glowing luminescent plants. As a renowned scholar at the Academy of Arcane Arts, she spends her days studying the magical properties of the ocean, but her true desire is to uncover the secrets of the Terrastrides' ancient magic, a pursuit driven by the mysterious illness that plagues her younger sister, who lives in a distant city, and whom she hopes to cure.\", 'world': 'Colossus Archipelago', 'kingdom': 'Aetheria', 'town': 'Lumina'}, 'Orion Thorne': {'name': 'Orion Thorne', 'description': \"Orion is a burly man in his mid-forties, his muscular frame a testament to years of labor in the kingdom's workshops. His face is weathered, with deep lines etched by the sun and salt spray, and his hands are calloused from years of work. As the chief engineer of Aetheria, he oversees the creation of innovative technologies, but his heart aches for the Terrastride, Sapientia, whom he believes is growing weary from the weight of the kingdom. He secretly works on a project to lighten the load, driven by a deep sense of guilt for the role his inventions have played in the Terrastride's strain.\", 'world': 'Colossus Archipelago', 'kingdom': 'Aetheria', 'town': 'Lumina'}, 'Lyra Nova': {'name': 'Lyra Nova', 'description': \"Lyra is a young woman in her late twenties, with a lithe, graceful build and a cascade of silver hair that shimmers in the light. Her eyes, a striking shade of blue, hold a world of sadness, a remnant of the great schism that tore her family apart. As the Archon's apprentice, she assists in ruling Aetheria, but her true passion lies in exploring the depths of the ocean, a hobby born from her desire to understand the ancient magic that flows through the waters, and perhaps, one day, use it to heal the rifts in her family and her kingdom.\", 'world': 'Colossus Archipelago', 'kingdom': 'Aetheria', 'town': 'Lumina'}}}, 'Ventus': {'name': 'Ventus', 'description': \"Perched on the edge of Sapientia's shell, Ventus is a bustling port town, known for its windmills and sails that harness the power of the wind. The town's history is tied to the great schism, as it was here that the dissenting faction first attempted to harness Terrastride power for personal gain. Now, Ventus is a symbol of redemption, with its Wind Council dedicated to ethical wind energy use. The town's market is a vibrant mix of cultures, with traders from across the archipelago peddling their wares.\", 'world': 'Colossus Archipelago', 'kingdom': 'Aetheria', 'npcs': {'Kael Windstrider': {'name': 'Kael Windstrider', 'description': \"Kael is a tall, lithe figure with sun-kissed skin and eyes that hold the stormy blue of the open sea. As a Wind Weaver, Kael's profession involves maintaining and innovating the windmills that power Ventus. Despite his expertise, Kael struggles with the town's history, haunted by the echoes of the great schism and the fear that he might inadvertently repeat past mistakes. His deepest desire is to create a windmill design that can power entire cities, proving that progress and harmony with Terrastrides can coexist.\", 'world': 'Colossus Archipelago', 'kingdom': 'Aetheria', 'town': 'Ventus'}, 'Lyra Aetheris': {'name': 'Lyra Aetheris', 'description': 'Lyra is the Archon of Aetheria, known for her sharp mind and sharper tongue. She is a woman of average height, with a cybernetic eye that glows softly, a remnant of an experiment gone wrong. As a leader, Lyra is driven by her desire to atone for her past actions, which contributed to the great schism. She seeks to guide Aetheria into an era of ethical innovation, hoping to heal the rifts caused by her ambition.', 'world': 'Colossus Archipelago', 'kingdom': 'Aetheria', 'town': 'Ventus'}, 'Orion Shellwhisperer': {'name': 'Orion Shellwhisperer', 'description': \"Orion is a stout, muscular man with skin the color of weathered wood and eyes that hold the warm brown of the earth. As a Shellsmith, Orion's job is to maintain and repair the organic structures of Sapientia's shell, ensuring the safety of Aetheria's inhabitants. Orion's deepest pain comes from the loss of his family in a shell collapse, an event he blames on the reckless pursuit of progress. His desire is to create a network of support beams that can prevent such tragedies, ensuring the safety of all who live atop the Terrastrides.\", 'world': 'Colossus Archipelago', 'kingdom': 'Aetheria', 'town': 'Ventus'}}}, 'Aquatilis': {'name': 'Aquatilis', 'description': \"Located near the water's edge, Aquatilis is a town of engineers and innovators, focused on harnessing the power of water. The town's history is marked by the invention of the AquaDrive, a device that converts water currents into energy, powering much of the kingdom. The town's centerpiece is the Great Aqueduct, a marvel of engineering that channels water from the ocean to the town's homes and farms. The town is also home to the Aquatic Research Institute, where scholars study the ocean's depths and its mysterious inhabitants.\", 'world': 'Colossus Archipelago', 'kingdom': 'Aetheria', 'npcs': {'Elara Vesperia': {'name': 'Elara Vesperia', 'description': \"Elara is a skilled engineer in her mid-thirties, with short, curly silver hair and striking blue eyes that seem to hold the wisdom of the ocean. She is known for her practical, no-nonsense approach to problem-solving and her deep love for the Terrastride Sapientia. Elara's parents were part of the faction that sought to exploit the Terrastrides, and she carries the guilt of their actions, driving her to ensure the harmony between humans and their beastly hosts. Her desire is to create innovative technologies that benefit both Aetheria and Sapientia, hoping to redeem her family's name and secure a brighter future for all.\", 'world': 'Colossus Archipelago', 'kingdom': 'Aetheria', 'town': 'Aquatilis'}, 'Orion Kael': {'name': 'Orion Kael', 'description': \"Orion is a charismatic and curious inventor in his late twenties, with a lean build, warm brown skin, and a contagious smile. He has a knack for creating whimsical gadgets that often blend magic and technology in unexpected ways. Orion's pain stems from the loss of his mentor, who was exiled for his radical ideas about Terrastride exploitation. He grapples with the desire to push the boundaries of innovation while staying true to Aetheria's code of harmony, hoping to prove that progress and respect for the Terrastrides can coexist.\", 'world': 'Colossus Archipelago', 'kingdom': 'Aetheria', 'town': 'Aquatilis'}, 'Lyra Zephyr': {'name': 'Lyra Zephyr', 'description': \"Lyra is a brilliant and dedicated scholar in her early thirties, with long, wavy auburn hair and a calm, collected demeanor. She is an expert in Terrastride biology and communication, working at the Aquatic Research Institute to deepen the understanding between humans and their beastly hosts. Lyra's pain comes from the struggle to balance her scientific curiosity with the ethical considerations of her work. Her desire is to uncover the secrets of the ocean and its inhabitants, fostering a deeper connection between Aetheria and the vast, mysterious world beneath the waves.\", 'world': 'Colossus Archipelago', 'kingdom': 'Aetheria', 'town': 'Aquatilis'}}}}}\n"
     ]
    }
   ],
   "source": [
    "print(kingdom)\n",
    "print(world[\"kingdoms\"][kingdom]\n",
    ")"
   ]
  },
  {
   "cell_type": "code",
   "execution_count": 52,
   "metadata": {},
   "outputs": [
    {
     "ename": "UnboundLocalError",
     "evalue": "cannot access local variable 'kingdom' where it is not associated with a value",
     "output_type": "error",
     "traceback": [
      "\u001b[31m---------------------------------------------------------------------------\u001b[39m",
      "\u001b[31mUnboundLocalError\u001b[39m                         Traceback (most recent call last)",
      "\u001b[36mCell\u001b[39m\u001b[36m \u001b[39m\u001b[32mIn[52]\u001b[39m\u001b[32m, line 1\u001b[39m\n\u001b[32m----> \u001b[39m\u001b[32m1\u001b[39m game_state = \u001b[43mget_game_state\u001b[49m\u001b[43m(\u001b[49m\u001b[43m)\u001b[49m\n\u001b[32m      2\u001b[39m game_state[\u001b[33m'\u001b[39m\u001b[33minventory\u001b[39m\u001b[33m'\u001b[39m] = {\n\u001b[32m      3\u001b[39m     \u001b[33m\"\u001b[39m\u001b[33mcloth pants\u001b[39m\u001b[33m\"\u001b[39m: \u001b[32m1\u001b[39m,\n\u001b[32m      4\u001b[39m     \u001b[33m\"\u001b[39m\u001b[33mcloth shirt\u001b[39m\u001b[33m\"\u001b[39m: \u001b[32m1\u001b[39m,\n\u001b[32m      5\u001b[39m     \u001b[33m\"\u001b[39m\u001b[33mgold\u001b[39m\u001b[33m\"\u001b[39m: \u001b[32m5\u001b[39m\n\u001b[32m      6\u001b[39m }\n\u001b[32m      8\u001b[39m result = detect_inventory_changes(game_state, \n\u001b[32m      9\u001b[39m \u001b[33m\"\u001b[39m\u001b[33mYou buy a sword from the merchant for 5 gold\u001b[39m\u001b[33m\"\u001b[39m)\n",
      "\u001b[36mCell\u001b[39m\u001b[36m \u001b[39m\u001b[32mIn[49]\u001b[39m\u001b[32m, line 3\u001b[39m, in \u001b[36mget_game_state\u001b[39m\u001b[34m()\u001b[39m\n\u001b[32m      1\u001b[39m \u001b[38;5;28;01mdef\u001b[39;00m\u001b[38;5;250m \u001b[39m\u001b[34mget_game_state\u001b[39m():\n\u001b[32m      2\u001b[39m     world = load_world(\u001b[33mf\u001b[39m\u001b[33m'\u001b[39m\u001b[33m../shared_data/\u001b[39m\u001b[38;5;132;01m{\u001b[39;00mworld_name\u001b[38;5;132;01m}\u001b[39;00m\u001b[33m.json\u001b[39m\u001b[33m'\u001b[39m)\n\u001b[32m----> \u001b[39m\u001b[32m3\u001b[39m     kingdom = world[\u001b[33m\"\u001b[39m\u001b[33mkingdoms\u001b[39m\u001b[33m\"\u001b[39m][\u001b[43mkingdom\u001b[49m]\n\u001b[32m      4\u001b[39m     town = world[\u001b[33m\"\u001b[39m\u001b[33mkingdoms\u001b[39m\u001b[33m\"\u001b[39m][kingdom][\u001b[33m\"\u001b[39m\u001b[33mtowns\u001b[39m\u001b[33m\"\u001b[39m][town]\n\u001b[32m      5\u001b[39m     character = world[\u001b[33m'\u001b[39m\u001b[33mkingdoms\u001b[39m\u001b[33m'\u001b[39m][kingdom][\u001b[33m'\u001b[39m\u001b[33mtowns\u001b[39m\u001b[33m'\u001b[39m][town][\u001b[33m'\u001b[39m\u001b[33mnpcs\u001b[39m\u001b[33m'\u001b[39m][character]\n",
      "\u001b[31mUnboundLocalError\u001b[39m: cannot access local variable 'kingdom' where it is not associated with a value"
     ]
    }
   ],
   "source": [
    "game_state = get_game_state()\n",
    "game_state['inventory'] = {\n",
    "    \"cloth pants\": 1,\n",
    "    \"cloth shirt\": 1,\n",
    "    \"gold\": 5\n",
    "}\n",
    "\n",
    "result = detect_inventory_changes(game_state, \n",
    "\"You buy a sword from the merchant for 5 gold\")\n",
    "\n",
    "print(result)"
   ]
  },
  {
   "cell_type": "code",
   "execution_count": null,
   "metadata": {},
   "outputs": [],
   "source": [
    "def update_inventory(inventory, item_updates):\n",
    "    update_msg = ''\n",
    "    \n",
    "    for update in item_updates:\n",
    "        name = update['name']\n",
    "        change_amount = update['change_amount']\n",
    "        \n",
    "        if change_amount > 0:\n",
    "            if name not in inventory:\n",
    "                inventory[name] = change_amount\n",
    "            else:\n",
    "                inventory[name] += change_amount\n",
    "            update_msg += f'\\nInventory: {name} +{change_amount}'\n",
    "        elif name in inventory and change_amount < 0:\n",
    "            inventory[name] += change_amount\n",
    "            update_msg += f'\\nInventory: {name} {change_amount}'\n",
    "            \n",
    "        if name in inventory and inventory[name] < 0:\n",
    "            del inventory[name]\n",
    "            \n",
    "    return update_msg\n"
   ]
  },
  {
   "cell_type": "markdown",
   "metadata": {},
   "source": [
    "## Story with inventory"
   ]
  },
  {
   "cell_type": "code",
   "execution_count": null,
   "metadata": {},
   "outputs": [],
   "source": [
    "def run_action(message, history, game_state):\n",
    "    \n",
    "    if(message == 'start game'):\n",
    "        return game_state['start']\n",
    "        \n",
    "    system_prompt = \"\"\"You are an AI Game master. Your job is to write what \\\n",
    "happens next in a player's adventure game.\\\n",
    "Instructions: \\\n",
    "You must on only write 1-3 sentences in response. \\\n",
    "Always write in second person present tense. \\\n",
    "Ex. (You look north and see...) \\\n",
    "Don't let the player use items they don't have in their inventory.\n",
    "\"\"\"\n",
    "\n",
    "    world_info = f\"\"\"\n",
    "World: {game_state['world']}\n",
    "Kingdom: {game_state['kingdom']}\n",
    "Town: {game_state['town']}\n",
    "Your Character:  {game_state['character']}\n",
    "Inventory: {json.dumps(game_state['inventory'])}\"\"\"\n",
    "\n",
    "    messages = [\n",
    "        {\"role\": \"system\", \"content\": system_prompt},\n",
    "        {\"role\": \"user\", \"content\": world_info}\n",
    "    ]\n",
    "\n",
    "    for action in history:\n",
    "        messages.append({\"role\": \"assistant\", \"content\": action[0]})\n",
    "        messages.append({\"role\": \"user\", \"content\": action[1]})\n",
    "           \n",
    "    messages.append({\"role\": \"user\", \"content\": message})\n",
    "    model_output = client.chat.complete(\n",
    "        model=model,\n",
    "        messages=messages\n",
    "    )\n",
    "    \n",
    "    result = model_output.choices[0].message.content\n",
    "    return result"
   ]
  },
  {
   "cell_type": "code",
   "execution_count": null,
   "metadata": {},
   "outputs": [],
   "source": [
    "game_state = get_game_state(inventory={\n",
    "    \"cloth pants\": 1,\n",
    "    \"cloth shirt\": 1,\n",
    "    \"goggles\": 1,\n",
    "    \"leather bound journal\": 1,\n",
    "    \"gold\": 5\n",
    "})"
   ]
  },
  {
   "cell_type": "code",
   "execution_count": null,
   "metadata": {},
   "outputs": [],
   "source": [
    "\n",
    "def main_loop(message, history):\n",
    "    output = run_action(message, history, game_state)\n",
    "    \n",
    "    safe = is_safe(output)\n",
    "    if not safe:\n",
    "        return 'Invalid Output'\n",
    "\n",
    "    item_updates = detect_inventory_changes(game_state, output)\n",
    "    update_msg = update_inventory(\n",
    "        game_state['inventory'], \n",
    "        item_updates\n",
    "    )\n",
    "    output += update_msg\n",
    "\n",
    "    return output\n",
    "\n",
    "start_game(main_loop, True)"
   ]
  }
 ],
 "metadata": {
  "kernelspec": {
   "display_name": "llm-game-ZFrc0JP3-py3.13",
   "language": "python",
   "name": "python3"
  },
  "language_info": {
   "codemirror_mode": {
    "name": "ipython",
    "version": 3
   },
   "file_extension": ".py",
   "mimetype": "text/x-python",
   "name": "python",
   "nbconvert_exporter": "python",
   "pygments_lexer": "ipython3",
   "version": "3.13.2"
  }
 },
 "nbformat": 4,
 "nbformat_minor": 2
}
