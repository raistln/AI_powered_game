{
 "cells": [
  {
   "cell_type": "markdown",
   "metadata": {},
   "source": [
    "## Import and load keys"
   ]
  },
  {
   "cell_type": "code",
   "execution_count": null,
   "metadata": {},
   "outputs": [],
   "source": [
    "import os\n",
    "import requests\n",
    "from dotenv import load_dotenv\n",
    "from mistralai import Mistral\n",
    "import json\n",
    "import gradio as gr\n",
    "import random\n",
    "import time\n",
    "import traceback\n",
    "\n",
    "# Cargar variables de entorno desde el archivo .env\n",
    "load_dotenv()\n",
    "\n",
    "# Obtener la clave de API de Mistral desde las variables de entorno\n",
    "api_key = os.getenv('MISTRAL_API_KEY')\n",
    "client = Mistral(api_key=api_key)\n",
    "model = \"mistral-small-latest\""
   ]
  },
  {
   "cell_type": "markdown",
   "metadata": {},
   "source": [
    "## World Creation"
   ]
  },
  {
   "cell_type": "code",
   "execution_count": 2,
   "metadata": {},
   "outputs": [],
   "source": [
    "system_prompt = f\"\"\"\n",
    "Your job is to help create interesting fantasy worlds that \\\n",
    "players would love to play in.\n",
    "Instructions:\n",
    "- Only generate in plain text without formatting.\n",
    "- Use simple clear language without being flowery.\n",
    "- You must stay below 3-5 sentences for each description.\n",
    "\"\"\"\n",
    "\n",
    "world_prompt = f\"\"\"\n",
    "Generate a creative description for a unique fantasy world with an\n",
    "interesting concept around cities build on the backs of massive beasts.\n",
    "\n",
    "Output content in the form:\n",
    "World Name: <WORLD NAME>\n",
    "World Description: <WORLD DESCRIPTION>\n",
    "\n",
    "World Name:\"\"\"\n",
    "\n",
    "\n",
    "output = client.chat.complete(\n",
    "    model= model,\n",
    "    messages=[\n",
    "        {\"role\": \"system\", \"content\": system_prompt},\n",
    "        {\"role\": \"user\", \"content\": world_prompt}\n",
    "    ],\n",
    "    temperature=0.9\n",
    ")"
   ]
  },
  {
   "cell_type": "code",
   "execution_count": 3,
   "metadata": {},
   "outputs": [
    {
     "name": "stdout",
     "output_type": "stream",
     "text": [
      "World Name: Beastrum\n",
      "\n",
      "World Description: In the realm of Beastrum, cities are not built on land, but on the backs of colossal, sentient beasts called Terrastrids. These gentle giants roam the ever-shifting landscapes, their movements shaping the world's geography. Humans and other races live in harmony with the Terrastrids, constructing their homes and societies on the beasts' massive shells, forming a unique, mobile civilization. The sky is filled with the silhouettes of these living cities, each one a testament to the symbiotic relationship between its inhabitants and their colossal hosts.\n"
     ]
    }
   ],
   "source": [
    "world_output =output.choices[0].message.content\n",
    "print(world_output)\n",
    "world_output = world_output.strip()\n",
    "world = {\n",
    "    \"name\": world_output.split('\\n')[0].strip()\n",
    "    .replace('World Name: ', ''),\n",
    "    \"description\": '\\n'.join(world_output.split('\\n')[1:])\n",
    "    .replace('World Description:', '').strip()\n",
    "}"
   ]
  },
  {
   "cell_type": "markdown",
   "metadata": {},
   "source": [
    "## Kingdom Creation"
   ]
  },
  {
   "cell_type": "code",
   "execution_count": null,
   "metadata": {},
   "outputs": [],
   "source": [
    "kingdom_prompt = f\"\"\"\n",
    "Create 3 different kingdoms for a fantasy world.\n",
    "For each kingdom generate a description based on the world it's in. \\\n",
    "Describe important leaders, cultures, history of the kingdom.\\\n",
    "\n",
    "Output content in the form:\n",
    "Kingdom 1 Name: <KINGDOM NAME>\n",
    "Kingdom 1 Description: <KINGDOM DESCRIPTION>\n",
    "Kingdom 2 Name: <KINGDOM NAME>\n",
    "Kingdom 2 Description: <KINGDOM DESCRIPTION>\n",
    "Kingdom 3 Name: <KINGDOM NAME>\n",
    "Kingdom 3 Description: <KINGDOM DESCRIPTION>\n",
    "\n",
    "World Name: {world['name']}\n",
    "World Description: {world['description']}\n",
    "\n",
    "Kingdom 1\"\"\"\n",
    "\n",
    "\n",
    "output = client.chat.complete(\n",
    "    model= model,\n",
    "    messages=[\n",
    "        {\"role\": \"system\", \"content\": system_prompt},\n",
    "        {\"role\": \"user\", \"content\": kingdom_prompt}\n",
    "    ],\n",
    "    temperature=0.9\n",
    ")"
   ]
  },
  {
   "cell_type": "code",
   "execution_count": 5,
   "metadata": {},
   "outputs": [
    {
     "name": "stdout",
     "output_type": "stream",
     "text": [
      "Created kingdom \"Aetheria\" in Beastrum\n",
      "Created kingdom \"Verdantia\" in Beastrum\n",
      "Created kingdom \"Ignisoria\" in Beastrum\n",
      "\n",
      "Kingdom 1 Description: Ignisoria is a fiery kingdom atop the shell of the powerful and hot-blooded Terrastrid, Pyroclast. King Ember, a formidable warrior and blacksmith, leads his people with strength and passion. Ignisorians are master craftsmen, forging weapons and armor of unparalleled quality. Their history is one of conquest and redemption, as they once sought to dominate other kingdoms but now strive for peace and cooperation. Ignisorians value honor and craftsmanship, with their culture revolving around grand forges and fierce competitions.\n"
     ]
    }
   ],
   "source": [
    "kingdoms = {}\n",
    "kingdoms_output = output.choices[0].message.content\n",
    "\n",
    "for output in kingdoms_output.split('\\n\\n'):\n",
    "  kingdom_name = output.strip().split('\\n')[0] \\\n",
    "    .split('Name: ')[1].strip()\n",
    "  print(f'Created kingdom \"{kingdom_name}\" in {world[\"name\"]}')\n",
    "  kingdom_description = output.strip().split('\\n')[1] \\\n",
    "    .split('Description: ')[1].strip()\n",
    "  kingdom = {\n",
    "      \"name\": kingdom_name,\n",
    "      \"description\": kingdom_description,\n",
    "      \"world\": world['name']\n",
    "  }\n",
    "  kingdoms[kingdom_name] = kingdom\n",
    "world['kingdoms'] = kingdoms\n",
    "\n",
    "print(f'\\nKingdom 1 Description: \\\n",
    "{kingdom[\"description\"]}')"
   ]
  },
  {
   "cell_type": "markdown",
   "metadata": {},
   "source": [
    "## Town Creation"
   ]
  },
  {
   "cell_type": "code",
   "execution_count": 6,
   "metadata": {},
   "outputs": [],
   "source": [
    "def get_town_prompt(world, kingdom):\n",
    "    return f\"\"\"\n",
    "    Create 3 different towns for a fantasy kingdom and world. \\\n",
    "    Describe the region it's in, important places of the town, \\\n",
    "    and interesting history about it. \\\n",
    "    \n",
    "    Output content in the form:\n",
    "    Town 1 Name: <TOWN NAME>\n",
    "    Town 1 Description: <TOWN DESCRIPTION>\n",
    "    Town 2 Name: <TOWN NAME>\n",
    "    Town 2 Description: <TOWN DESCRIPTION>\n",
    "    Town 3 Name: <TOWN NAME>\n",
    "    Town 3 Description: <TOWN DESCRIPTION>\n",
    "    \n",
    "    World Name: {world['name']}\n",
    "    World Description: {world['description']}\n",
    "    \n",
    "    Kingdom Name: {kingdom['name']}\n",
    "    Kingdom Description {kingdom['description']}\n",
    "    \n",
    "    Town 1 Name:\"\"\"\n",
    "    \n",
    "import time\n",
    "\n",
    "import time  # Asegúrate de importar la biblioteca time\n",
    "\n",
    "def create_towns(world, kingdom):\n",
    "    print(f'\\nCreating towns for kingdom: {kingdom[\"name\"]}...')\n",
    "    output = client.chat.complete(\n",
    "      model=model,\n",
    "      messages=[\n",
    "          {\"role\": \"system\", \"content\": system_prompt},\n",
    "          {\"role\": \"user\", \"content\": get_town_prompt(world, kingdom)}\n",
    "      ],\n",
    "      temperature=0.9,\n",
    "  )\n",
    "    towns_output = output.choices[0].message.content\n",
    "    \n",
    "    towns = {}\n",
    "    for output in towns_output.split('\\nCreating towns for kingdom: {kingdom[\"name\"]}...'):\n",
    "        for num in range(1, 4):\n",
    "            print(output.split(f\"Town {num} Name: \")[1].split(\"\\n\")[0])\n",
    "            print(output.split(f\"Town {num} Description: \")[1].split(\"\\n\")[0])\n",
    "            print(\"\\n\")\n",
    "         \n",
    "            town_name = output.split(f\"Town {num} Name: \")[1].split(\"\\n\")[0] \n",
    "            town_description = output.split(f\"Town {num} Description: \")[1].split(\"\\n\")[0]\n",
    "        \n",
    "            town = {\n",
    "              \"name\": town_name,\n",
    "              \"description\": town_description,\n",
    "              \"world\": world['name'],\n",
    "              \"kingdom\": kingdom['name']\n",
    "            }\n",
    "            towns[town_name] = town\n",
    "        kingdom[\"towns\"] = towns"
   ]
  },
  {
   "cell_type": "code",
   "execution_count": 7,
   "metadata": {},
   "outputs": [
    {
     "name": "stdout",
     "output_type": "stream",
     "text": [
      "\n",
      "Creating towns for kingdom: Aetheria...\n",
      "Lumina\n",
      "Nestled in the lush, floating islands of the Verdant Expanse, Lumina is a town of light and growth. It's built on the shell of the Terrastrid, Veridia, who loves to bask in the sunlight. The town's important places include the Sun Temple, a grand structure that harnesses solar energy, and the Whispering Gardens, where plants from across Beastrum are cultivated. Lumina's history is filled with tales of the Sun Cult, a group that once tried to control Veridia's movements to keep Lumina in eternal daylight, but were eventually persuaded to live in harmony with their Terrastrid.\n",
      "\n",
      "\n",
      "Glacialis\n",
      "Glacialis is a frost-covered town in the icy peaks of the Frostfall Mountains, atop the Terrastrid, Cryon. The town is known for its ice sculptures and the Frozen Library, which holds ancient texts preserved in ice. The town's interesting history revolves around the Ice Harvesters, a group that once mined the Terrastrid's frozen tears for their magical properties, leading to a temporary freeze on Cryon's movements until a compromise was reached.\n",
      "\n",
      "\n",
      "Ember's Hollow\n",
      "Ember's Hollow is a town of fire and forge, located in the volcanic region of the Ember Peaks, on the back of the Terrastrid, Ignis. The town is famous for its blacksmiths and the Molten Forge, where weapons and tools of unparalleled quality are crafted. Ember's Hollow's history is marked by the Great Forge War, when rival blacksmith clans fought for control of the Terrastrid's heat, until a united guild was formed to share the resource fairly.\n",
      "\n",
      "\n",
      "\n",
      "Creating towns for kingdom: Verdantia...\n",
      "Thistlewood\n",
      "Thistlewood is a quaint town nestled in the heart of Verdantia, known for its dense thickets of thistle bushes that bloom with vibrant purple flowers. The town is home to the Great Thistle Mill, which processes the thistles into a valuable dye used throughout Beastrum. Thistlewood's history is marked by the Great Blight, a time when the thistles turned black and poisonous. The town's healers worked tirelessly to purify the plants, saving Thistlewood and earning them a reputation for their herbal remedies. The town's market is a bustling place to trade goods, and the Thistlewood Tavern is famous for its honey mead, made from the nectar of the thistle flowers.\n",
      "\n",
      "\n",
      "Mossbury\n",
      "Mossbury is a town located near the edge of Viridis' shell, where the air is cool and damp. It is known for its moss-covered buildings and the Mossbury Crystal Caverns, a network of caves filled with luminescent crystals. The town's inhabitants are skilled miners and jewelers, crafting beautiful pieces from the crystals. Mossbury's history is one of resilience, as it was once a small outpost that weathered numerous storms and attacks. The town's defenders, known as the Mossbury Guard, are renowned for their bravery and skill. The town's central square features a large, ancient tree, the Mossheart, which is said to grant wishes to those who touch its bark.\n",
      "\n",
      "\n",
      "Willowbrook\n",
      "Willowbrook is a town situated along the banks of the winding Willow River, which flows through channels carved into Viridis' shell. The town is famous for its willow weavers, who create intricate baskets, furniture, and even boats from the flexible willow wood. Willowbrook's history is tied to the river, as it was once a bustling port town for trade along Viridis' shell. The town's lighthouse, the Beacon of Hope, guides travelers through the ever-changing landscape. The town's annual Willow Festival celebrates the harvest of the willow wood, with games, feasts, and a grand parade of willow boats.\n",
      "\n",
      "\n",
      "\n",
      "Creating towns for kingdom: Ignisoria...\n",
      "Ember's Forge\n",
      "Nestled in the heart of Ignisoria, Ember's Forge is a bustling town known for its towering smelters and the constant ring of hammers on anvil. The town's most important place is the Great Foundry, where the kingdom's most skilled blacksmiths create legendary weapons. The town was founded by King Ember himself, who sought to create a place where craftsmen could hone their skills and forge a new future for Ignisoria, shifting the kingdom's focus from war to craftsmanship.\n",
      "\n",
      "\n",
      "Cinder's Hollow\n",
      "Located on the outskirts of Ignisoria, Cinder's Hollow is a quiet town surrounded by vast fields of volcanic ash. The town's most important place is the Whispering Oasis, a lush garden that blooms with vibrant, heat-resistant flowers. Cinder's Hollow was once a refuge for Ignisorians seeking to escape the kingdom's warmongering past, and it remains a place of tranquility and introspection. The town is known for its skilled gardeners who cultivate plants that can withstand the intense heat of Pyroclast.\n",
      "\n",
      "\n",
      "Ashfall Keep\n",
      "Perched on a steep cliff near the edge of Pyroclast's shell, Ashfall Keep is a fortified town that offers a stunning view of the ever-shifting landscapes below. The town's most important place is the Eagle's Roost, a towering watchtower where scouts keep a keen eye on the horizon. Ashfall Keep was built to protect Ignisoria from potential threats, and its history is marked by tales of bravery and resilience. The town is home to skilled archers and eagle trainers, who work together to defend their kingdom from the skies.\n",
      "\n",
      "\n",
      "{'name': 'Aetheria', 'description': 'Aetheria is a kingdom of scholars and inventors, perched atop the shell of the wise and slow-moving Terrastrid, Sapientia. Led by Archon Lyra, a brilliant engineer, Aetherians are known for their advanced technology and deep understanding of the Terrastrids. Their history is marked by a great schism, when a group of radicals attempted to control the Terrastrids, leading to a century of strife before harmony was restored. Aetherians value knowledge and innovation, with their culture revolving around grand libraries and bustling workshops.', 'world': 'Beastrum', 'towns': {'Lumina': {'name': 'Lumina', 'description': \"Nestled in the lush, floating islands of the Verdant Expanse, Lumina is a town of light and growth. It's built on the shell of the Terrastrid, Veridia, who loves to bask in the sunlight. The town's important places include the Sun Temple, a grand structure that harnesses solar energy, and the Whispering Gardens, where plants from across Beastrum are cultivated. Lumina's history is filled with tales of the Sun Cult, a group that once tried to control Veridia's movements to keep Lumina in eternal daylight, but were eventually persuaded to live in harmony with their Terrastrid.\", 'world': 'Beastrum', 'kingdom': 'Aetheria'}, 'Glacialis': {'name': 'Glacialis', 'description': \"Glacialis is a frost-covered town in the icy peaks of the Frostfall Mountains, atop the Terrastrid, Cryon. The town is known for its ice sculptures and the Frozen Library, which holds ancient texts preserved in ice. The town's interesting history revolves around the Ice Harvesters, a group that once mined the Terrastrid's frozen tears for their magical properties, leading to a temporary freeze on Cryon's movements until a compromise was reached.\", 'world': 'Beastrum', 'kingdom': 'Aetheria'}, \"Ember's Hollow\": {'name': \"Ember's Hollow\", 'description': \"Ember's Hollow is a town of fire and forge, located in the volcanic region of the Ember Peaks, on the back of the Terrastrid, Ignis. The town is famous for its blacksmiths and the Molten Forge, where weapons and tools of unparalleled quality are crafted. Ember's Hollow's history is marked by the Great Forge War, when rival blacksmith clans fought for control of the Terrastrid's heat, until a united guild was formed to share the resource fairly.\", 'world': 'Beastrum', 'kingdom': 'Aetheria'}}}\n",
      "\n",
      "Town 1 Description: Nestled in the lush, floating islands of the Verdant Expanse, Lumina is a town of light and growth. It's built on the shell of the Terrastrid, Veridia, who loves to bask in the sunlight. The town's important places include the Sun Temple, a grand structure that harnesses solar energy, and the Whispering Gardens, where plants from across Beastrum are cultivated. Lumina's history is filled with tales of the Sun Cult, a group that once tried to control Veridia's movements to keep Lumina in eternal daylight, but were eventually persuaded to live in harmony with their Terrastrid.\n"
     ]
    }
   ],
   "source": [
    "for kingdom in kingdoms.values():\n",
    "    create_towns(world, kingdom)  \n",
    "\n",
    "first_kingdom = list(kingdoms.values())[0]\n",
    "print(first_kingdom)\n",
    "town = list(first_kingdom['towns'].values())[0]\n",
    "print(f'\\nTown 1 Description: {town[\"description\"]}')"
   ]
  },
  {
   "cell_type": "markdown",
   "metadata": {},
   "source": [
    "## Npcs Creation"
   ]
  },
  {
   "cell_type": "code",
   "execution_count": 8,
   "metadata": {},
   "outputs": [],
   "source": [
    "def get_npc_prompt(world, kingdom, town): \n",
    "    return f\"\"\"\n",
    "    Create 3 different characters based on the world, kingdom \\\n",
    "    and town they're in. Describe the character's appearance and \\\n",
    "    profession, as well as their deeper pains and desires. \\\n",
    "    \n",
    "    Output content in the form:\n",
    "    Character 1 Name: <CHARACTER NAME>\n",
    "    Character 1 Description: <CHARACTER DESCRIPTION>\n",
    "    Character 2 Name: <CHARACTER NAME>\n",
    "    Character 2 Description: <CHARACTER DESCRIPTION>\n",
    "    Character 3 Name: <CHARACTER NAME>\n",
    "    Character 3 Description: <CHARACTER DESCRIPTION>\n",
    "    \n",
    "    World Name: {world['name']}\n",
    "    World Description: {world['description']}\n",
    "    \n",
    "    Kingdom Name: {kingdom['name']}\n",
    "    Kingdom Description: {kingdom['description']}\n",
    "    \n",
    "    Town Name: {town['name']}\n",
    "    Town Description: {town['description']}\n",
    "    \n",
    "    Character 1 Name:\"\"\"\n",
    "    "
   ]
  },
  {
   "cell_type": "code",
   "execution_count": 9,
   "metadata": {},
   "outputs": [
    {
     "name": "stdout",
     "output_type": "stream",
     "text": [
      "\n",
      "Creating characters for the town of: Lumina...\n",
      "Eamon Sunweaver\n",
      "Eamon is a lanky, sun-kissed Lumina native with bright green eyes and hair adorned with small, glowing plants. He's a skilled Solar Engineer, designing devices that harness and manipulate sunlight. Deep down, Eamon struggles with the legacy of the Sun Cult, his ancestors were part of the group that tried to control Veridia. He desires to redeem their name by using his inventions to benefit Lumina and all of Beastrum, fostering harmony with the Terrastrids.\n",
      "\n",
      "\n",
      "Lyra Whisperwind\n",
      "Lyra is a petite, agile woman with silver hair and eyes that seem to hold the wisdom of the ages. She's an esteemed Terrastrid Whisperer from Aetheria, communicating with the giant beasts and understanding their needs. Lyra bears the weight of Aetheria's past, her family was torn apart by the great schism. She yearns to prevent such strife from ever happening again, seeking to bridge the gap between those who would exploit the Terrastrids and those who wish to live in harmony with them.\n",
      "\n",
      "\n",
      "Orion Stormforge\n",
      "Orion is a muscular, broad-shouldered man with stormy blue eyes and hair like a wild mane. He's a renowned Beastsmith from the storm-tossed skies of Beastrum, crafting tools and armor from the unique materials found in the clouds. Orion's past is marked by a tragic accident involving a Terrastrid, causing him to lose his leg. He desires to make amends for his past, using his craftsmanship to aid the Terrastrids and the people who live alongside them, fostering a deeper understanding and respect for these gentle giants.\n",
      "\n",
      "\n",
      "\n",
      "Creating characters for the town of: Glacialis...\n",
      "Elara Frostweaver\n",
      "Elara is a skilled ice sculptor and librarian from Glacialis, with pale skin, icy blue eyes, and hair as white as fresh snow. She wears practical, insulated clothing adorned with intricate ice patterns. Elara's deeper pain stems from the loss of her family during a sudden, unexplained freeze of Cryon, which she blames on the Ice Harvesters. Her desire is to uncover the truth behind that event and ensure the safety of her town and its Terrastrid, Cryon.\n",
      "\n",
      "\n",
      "Orion Skywriter\n",
      "Orion is a young, ambitious inventor from Aetheria, with dark hair, tanned skin, and eyes that sparkle with curiosity. He is often seen tinkering with gadgets and tools, wearing a leather apron over his scholar's robes. Orion's pain comes from the knowledge that his ancestors were part of the radical group that caused the great schism. His desire is to redeem his family's name by using his inventions to better understand and protect the Terrastrids.\n",
      "\n",
      "\n",
      "Lyra Whisperwind\n",
      "Lyra is an elder from Glacialis, known for her ability to communicate with the Terrastrids, a rare gift in her town. She has warm, earthy skin, dark eyes, and long, braided hair streaked with gray. Lyra's pain is the guilt she carries for not preventing the Ice Harvesters' actions years ago. Her desire is to pass on her knowledge to the next generation, ensuring that the bond between Glacialis and Cryon remains strong and harmonious.\n",
      "\n",
      "\n",
      "\n",
      "Creating characters for the town of: Ember's Hollow...\n",
      "Thalion Swiftstrider\n",
      "Thalion is a lithe and agile human with sun-kissed skin and eyes that sparkle with curiosity. As a renowned Terrastrid whisperer from Aetheria, he communicates with the gentle giants, ensuring the harmony between the beasts and their human inhabitants. Despite his success, Thalion is haunted by the memories of the great schism, when his family was torn apart by the radical faction. He desires to prevent such conflict from ever happening again, driving his passion for understanding and protecting the Terrastrids.\n",
      "\n",
      "\n",
      "Gwendolyn Forgeheart\n",
      "Gwendolyn is a sturdy and muscular human with fiery red hair and a stern expression, reflecting her years of toil in the Molten Forge of Ember's Hollow. As the guildmaster of the United Blacksmiths, she oversees the creation of legendary weapons and tools, her own hammer strikes echoing with authority. Beneath her tough exterior lies a deep-seated fear of losing the unity she fought so hard to achieve during the Great Forge War, fueling her desire to maintain peace and prosperity in her town.\n",
      "\n",
      "\n",
      "Orion Stargazer\n",
      "Orion is an elven scholar with pale skin, silver hair, and eyes that seem to hold the wisdom of the stars. As an astronomer from Aetheria, he studies the celestial bodies and their influence on the Terrastrids, contributing to the kingdom's vast knowledge. Despite his intellectual pursuits, Orion is plagued by the loss of his mentor during the great schism, driving his desire to uncover the secrets of the universe and honor his mentor's legacy.\n",
      "\n",
      "\n"
     ]
    }
   ],
   "source": [
    "def create_npcs(world, kingdom, town):\n",
    "    print(f'\\nCreating characters for the town of: {town[\"name\"]}...')\n",
    "    output = client.chat.complete(\n",
    "      model= model,\n",
    "      messages=[\n",
    "          {\"role\": \"system\", \"content\": system_prompt},\n",
    "          {\"role\": \"user\", \"content\": get_npc_prompt(world, kingdom, town)}\n",
    "      ],\n",
    "        temperature=0.7 \n",
    "    )\n",
    "\n",
    "    npcs_output = output.choices[0].message.content\n",
    "    npcs = {}\n",
    "    for num in range(1, 4):\n",
    "        print(npcs_output.split(f\"Character {num} Name: \")[1].split(\"\\n\")[0])\n",
    "        print(npcs_output.split(f\"Character {num} Description: \")[1].split(\"\\n\")[0])\n",
    "        print(\"\\n\")\n",
    "\n",
    "        character_name = npcs_output.split(f\"Character {num} Name: \")[1].split(\"\\n\")[0]\n",
    "        character_description = npcs_output.split(f\"Character {num} Description: \")[1].split(\"\\n\")[0]\n",
    "\n",
    "        character = {\n",
    "        \"name\": character_name,\n",
    "        \"description\": character_description,\n",
    "        \"world\": world['name'],\n",
    "        \"kingdom\": kingdom['name'],\n",
    "        \"town\": town['name']\n",
    "        }\n",
    "        npcs[character_name] = character\n",
    "        town[\"npcs\"] = npcs\n",
    "\n",
    "    \n",
    "for kingdom in kingdoms.values():\n",
    "    for town in kingdom['towns'].values():\n",
    "        create_npcs(world, kingdom, town)\n",
    "  # For now we'll only generate npcs for one kingdom and town\n",
    "    break"
   ]
  },
  {
   "cell_type": "markdown",
   "metadata": {},
   "source": [
    "## Save World"
   ]
  },
  {
   "cell_type": "code",
   "execution_count": 12,
   "metadata": {},
   "outputs": [],
   "source": [
    "def save_world(world, filename):\n",
    "    # Ensure the directory exists\n",
    "    os.makedirs(os.path.dirname(filename), exist_ok=True)\n",
    "    with open(filename, 'w') as f:\n",
    "        json.dump(world, f)\n",
    "\n",
    "def load_world(filename):\n",
    "    with open(filename, 'r') as f:\n",
    "        return json.load(f) \n",
    "\n",
    "save_world(world, f'../shared_data/{world[\"name\"]}.json')"
   ]
  },
  {
   "cell_type": "markdown",
   "metadata": {},
   "source": [
    "## Generating Text box"
   ]
  },
  {
   "cell_type": "code",
   "execution_count": null,
   "metadata": {},
   "outputs": [],
   "source": [
    "demo = None\n",
    "def start_game():\n",
    "    global demo\n",
    "    if demo:\n",
    "        demo.close()\n",
    "\n",
    "    with gr.Blocks() as app:\n",
    "        chatbot = gr.Chatbot(\n",
    "            height=300,\n",
    "            type=\"messages\",\n",
    "            label=\"Aventura Conversacional\"\n",
    "        )\n",
    "        msg = gr.Textbox(label=\"Tu acción\")\n",
    "        clear = gr.ClearButton([msg, chatbot])\n",
    "\n",
    "        msg.submit(\n",
    "            fn=main_loop,\n",
    "            inputs=[msg, chatbot],\n",
    "            outputs=[chatbot],\n",
    "            queue=True\n",
    "        )\n",
    "\n",
    "    demo = app\n",
    "    demo.launch(\n",
    "        server_name=\"0.0.0.0\",\n",
    "        server_port=0,\n",
    "        max_threads=2,\n",
    "        prevent_thread_lock=True,\n",
    "        share=False  # Desactivar share si hay problemas con frpc\n",
    "    )\n",
    "    \n",
    "def test_main_loop(message, history):\n",
    "    return 'Entered Action: ' + message\n",
    "\n",
    "# start_game(test_main_loop)"
   ]
  },
  {
   "cell_type": "markdown",
   "metadata": {},
   "source": [
    "## Generating Start"
   ]
  },
  {
   "cell_type": "code",
   "execution_count": 14,
   "metadata": {},
   "outputs": [],
   "source": [
    "world_name = world[\"name\"]\n",
    "world = load_world(f'../shared_data/{world_name}.json')\n",
    "# Access the world, kingdom, town and character. Here is the first of each selected.\n",
    "#kingdom = random.choice(list(world['kingdoms'].keys()))\n",
    "kingdom = list(world['kingdoms'].keys())[0] \n",
    "town = random.choice(list(world['kingdoms'][kingdom]['towns'].keys()))\n",
    "character = random.choice(list(world['kingdoms'][kingdom]['towns'][town]['npcs'].keys()))"
   ]
  },
  {
   "cell_type": "code",
   "execution_count": 15,
   "metadata": {},
   "outputs": [
    {
     "name": "stdout",
     "output_type": "stream",
     "text": [
      "You are Orion Stargazer, an elven scholar with pale skin, silver hair, and eyes that hold the wisdom of the stars. You are an astronomer from Aetheria, studying the celestial bodies and their influence on the Terrastrids, contributing to the kingdom's vast knowledge. Despite your intellectual pursuits, you are plagued by the loss of your mentor during the great schism, driving your desire to uncover the secrets of the universe and honor his legacy. You stand in the heart of Ember's Hollow, the smell of smoke and molten metal filling the air. The Molten Forge roars nearby, its fiery glow casting long shadows across the volcanic landscape. The town bustles with blacksmiths and artisans, their hammers striking in rhythmic harmony, while the distant rumble of Ignis, the Terrastrid, echoes through the ground.\n"
     ]
    }
   ],
   "source": [
    "system_prompt = \"\"\"You are an AI Game master. Your job is to create a \n",
    "start to an adventure based on the world, kingdom, town and character \n",
    "a player is playing as. \n",
    "Instructions:\n",
    "You must only use 2-4 sentences \\\n",
    "Write in second person. For example: \"You are Jack\" \\\n",
    "Write in present tense. For example \"You stand at...\" \\\n",
    "First describe the character and their backstory. \\\n",
    "Then describes where they start and what they see around them.\"\"\"\n",
    "world_info = f\"\"\"\n",
    "World: {world}\n",
    "Kingdom: {kingdom}\n",
    "Town: {town}\n",
    "Your Character: {character}\n",
    "\"\"\"\n",
    "\n",
    "model_output = client.chat.complete(\n",
    "    model= model,\n",
    "    messages=[\n",
    "        {\"role\": \"system\", \"content\": system_prompt},\n",
    "        {\"role\": \"user\", \"content\": world_info + '\\nYour Start:'}\n",
    "    ],\n",
    "    temperature=1.0\n",
    ")\n",
    "start = model_output.choices[0].message.content\n",
    "print(start)\n",
    "world['start'] = start\n",
    "#save_world(world, f'../shared_data/{world_name}.json')  \n",
    "save_world(world, f'../shared_data/{world_name}.json')"
   ]
  },
  {
   "cell_type": "markdown",
   "metadata": {},
   "source": [
    "## Creating the Main Action Loop"
   ]
  },
  {
   "cell_type": "code",
   "execution_count": 39,
   "metadata": {},
   "outputs": [],
   "source": [
    "def run_action(message, history, game_state):\n",
    "    \n",
    "    if(message == 'start game'):\n",
    "        return game_state['start']\n",
    "\n",
    "    system_prompt = \"\"\"You are an AI Game master. Your job is to write what \\\n",
    "happens next in a player's adventure game.\\\n",
    "Instructions: \\\n",
    "You must on only write 1-3 sentences in response. \\\n",
    "Always write in second person present tense. \\\n",
    "Ex. (You look north and see...)\"\"\"\n",
    "    \n",
    "    world_info = f\"\"\"\n",
    "World: {game_state['world']}\n",
    "Kingdom: {game_state['kingdom']}\n",
    "Town: {game_state['town']}\n",
    "Your Character:  {game_state['character']}\"\"\"\n",
    "\n",
    "    messages = [\n",
    "        {\"role\": \"system\", \"content\": system_prompt},\n",
    "        {\"role\": \"user\", \"content\": world_info}\n",
    "    ]\n",
    "    for action in history:\n",
    "        messages.append({\"role\": \"assistant\", \"content\": action[0]})\n",
    "        messages.append({\"role\": \"user\", \"content\": action[1]})\n",
    "\n",
    "    messages.append({\"role\": \"user\", \"content\": message})\n",
    "    model_output = client.chat.complete(\n",
    "        model=model,\n",
    "        messages=messages\n",
    "    )\n",
    "    \n",
    "    result = model_output.choices[0].message.content\n",
    "    return result"
   ]
  },
  {
   "cell_type": "code",
   "execution_count": 40,
   "metadata": {},
   "outputs": [],
   "source": [
    "game_state = {\n",
    "    \"world\": world['description'],\n",
    "    \"kingdom\": world[\"kingdoms\"][kingdom]['description'],\n",
    "    \"town\": world[\"kingdoms\"][kingdom][\"towns\"][town]['description'],\n",
    "    \"character\": world['kingdoms'][kingdom]['towns'][town]['npcs'][character]['description'],\n",
    "    \"start\": start,\n",
    "}\n",
    "\n",
    "def main_loop(message, history):\n",
    "    return run_action(message, history, game_state)"
   ]
  },
  {
   "cell_type": "code",
   "execution_count": 70,
   "metadata": {},
   "outputs": [],
   "source": [
    "def get_game_state(game_state=game_state, *args, **kwargs):\n",
    "    world = load_world(f'../shared_data/{world_name}.json')\n",
    "    kingdom = game_state[\"kingdom\"]\n",
    "    town = game_state[\"town\"]\n",
    "    character = game_state[\"character\"]\n",
    "    start = game_state['start']\n",
    "    inventory = {}\n",
    "\n",
    "    game_state = {\n",
    "        \"world\": world,\n",
    "        \"kingdom\": kingdom,\n",
    "        \"town\": town,\n",
    "        \"character\": character,\n",
    "        \"start\": start,\n",
    "        \"inventory\": game_state.get('inventory', {})\n",
    "    }\n",
    "    return game_state"
   ]
  },
  {
   "cell_type": "markdown",
   "metadata": {},
   "source": [
    "## Launch and Share!"
   ]
  },
  {
   "cell_type": "code",
   "execution_count": 19,
   "metadata": {},
   "outputs": [],
   "source": [
    "# start_game(main_loop, True)"
   ]
  },
  {
   "cell_type": "code",
   "execution_count": 20,
   "metadata": {},
   "outputs": [],
   "source": [
    "# from helper import get_game_state\n",
    "\n",
    "# game_state = get_game_state()\n",
    "# character = game_state[\"character\"]\n",
    "# print(\"Character Description:\", character)"
   ]
  },
  {
   "cell_type": "markdown",
   "metadata": {},
   "source": [
    "## Define Inventory Detector"
   ]
  },
  {
   "cell_type": "code",
   "execution_count": 42,
   "metadata": {},
   "outputs": [],
   "source": [
    "system_prompt = \"\"\"You are an AI Game Assistant. \\\n",
    "Your job is to detect changes to a player's \\\n",
    "inventory based on the most recent story and game state.\n",
    "If a player picks up, or gains an item add it to the inventory \\\n",
    "with a positive change_amount.\n",
    "If a player loses an item remove it from their inventory \\\n",
    "with a negative change_amount.\n",
    "Given a player name, inventory and story, return a list of json update\n",
    "of the player's inventory in the following form.\n",
    "Only take items that it's clear the player (you) lost.\n",
    "Only give items that it's clear the player gained. \n",
    "Don't make any other item updates.\n",
    "If no items were changed return {\"itemUpdates\": []}\n",
    "and nothing else.\n",
    "\n",
    "Response must be in Valid JSON\n",
    "Don't add items that were already added in the inventory\n",
    "\n",
    "Inventory Updates:\n",
    "{\n",
    "    \"itemUpdates\": [\n",
    "        {\"name\": <ITEM NAME>, \n",
    "        \"change_amount\": <CHANGE AMOUNT>}...\n",
    "    ]\n",
    "}\n",
    "\"\"\""
   ]
  },
  {
   "cell_type": "code",
   "execution_count": 62,
   "metadata": {},
   "outputs": [],
   "source": [
    "def detect_inventory_changes(game_state, output):\n",
    "    inventory = game_state.get('inventory', {})\n",
    "    \n",
    "    # Prompt más estricto para Mistral\n",
    "    system_prompt = \"\"\"You are an inventory tracker. Respond ONLY with valid JSON in this exact format:\n",
    "{\n",
    "    \"itemUpdates\": [\n",
    "        {\"name\": \"item_name\", \"change_amount\": 1}\n",
    "    ]\n",
    "}\"\"\"\n",
    "    \n",
    "    messages = [\n",
    "        {\"role\": \"system\", \"content\": system_prompt},\n",
    "        {\"role\": \"user\", \"content\": f\"Current Inventory: {inventory}\"},\n",
    "        {\"role\": \"user\", \"content\": f\"Action: {output}\"},\n",
    "        {\"role\": \"user\", \"content\": \"List item changes in the specified JSON format.\"}\n",
    "    ]\n",
    "    \n",
    "    # Llamada a Mistral\n",
    "    response = client.chat.complete(\n",
    "        model=model,\n",
    "        temperature=0.0,\n",
    "        messages=messages\n",
    "    ).choices[0].message.content\n",
    "    try:\n",
    "        cleaned = response.strip()\n",
    "        if cleaned.startswith('```json'):\n",
    "            cleaned = cleaned[7:-3].strip()\n",
    "        elif cleaned.startswith('```'):\n",
    "            cleaned = cleaned[3:-3].strip()\n",
    "        \n",
    "        return json.loads(cleaned).get('itemUpdates', [])\n",
    "    \n",
    "    except Exception as e:\n",
    "        print(f\"Error parsing inventory: {str(e)}\")\n",
    "        return []\n"
   ]
  },
  {
   "cell_type": "code",
   "execution_count": 63,
   "metadata": {},
   "outputs": [
    {
     "name": "stdout",
     "output_type": "stream",
     "text": [
      "[{'name': 'gold', 'change_amount': -5}, {'name': 'sword', 'change_amount': 1}]\n"
     ]
    }
   ],
   "source": [
    "game_state = get_game_state(game_state)\n",
    "game_state['inventory'] = {\n",
    "    \"cloth pants\": 1,\n",
    "    \"cloth shirt\": 1,\n",
    "    \"gold\": 5\n",
    "}\n",
    "\n",
    "result = detect_inventory_changes(game_state, \n",
    "\"You buy a sword from the merchant for 5 gold\")\n",
    "\n",
    "print(result)"
   ]
  },
  {
   "cell_type": "code",
   "execution_count": 64,
   "metadata": {},
   "outputs": [],
   "source": [
    "def update_inventory(inventory, updates):\n",
    "    try:\n",
    "        if not updates:\n",
    "            return \"\"\n",
    "            \n",
    "        changes = []\n",
    "        for item in updates:\n",
    "            name = item.get('name', '')\n",
    "            amount = int(item.get('change_amount', 0))\n",
    "            \n",
    "            if name and amount != 0:\n",
    "                inventory[name] = inventory.get(name, 0) + amount\n",
    "                if inventory[name] <= 0:\n",
    "                    del inventory[name]\n",
    "                changes.append(f\"{name} ({'+' if amount > 0 else ''}{amount})\")\n",
    "        \n",
    "        return \"Inventario actualizado: \" + \", \".join(changes) if changes else \"\"\n",
    "    except Exception as e:\n",
    "        print(f\"⚠️ Error en update_inventory: {str(e)}\")\n",
    "        return \"\""
   ]
  },
  {
   "cell_type": "markdown",
   "metadata": {},
   "source": [
    "## Story with inventory"
   ]
  },
  {
   "cell_type": "code",
   "execution_count": 65,
   "metadata": {},
   "outputs": [],
   "source": [
    "def run_action(message, history, game_state):\n",
    "    \n",
    "    if(message == 'start game'):\n",
    "        return game_state['start']\n",
    "        \n",
    "    system_prompt = \"\"\"You are an AI Game master. Your job is to write what \\\n",
    "happens next in a player's adventure game.\\\n",
    "Instructions: \\\n",
    "You must on only write 1-3 sentences in response. \\\n",
    "Always write in second person present tense. \\\n",
    "Ex. (You look north and see...) \\\n",
    "Don't let the player use items they don't have in their inventory.\n",
    "\"\"\"\n",
    "\n",
    "    world_info = f\"\"\"\n",
    "World: {game_state['world']}\n",
    "Kingdom: {game_state['kingdom']}\n",
    "Town: {game_state['town']}\n",
    "Your Character:  {game_state['character']}\n",
    "Inventory: {json.dumps(game_state['inventory'])}\"\"\"\n",
    "\n",
    "    messages = [\n",
    "        {\"role\": \"system\", \"content\": system_prompt},\n",
    "        {\"role\": \"user\", \"content\": world_info}\n",
    "    ]\n",
    "\n",
    "    for user_msg, bot_resp in history:\n",
    "        messages.append({\"role\": \"assistant\", \"content\": bot_resp})\n",
    "        messages.append({\"role\": \"user\", \"content\": user_msg})\n",
    "           \n",
    "    messages.append({\"role\": \"user\", \"content\": message})\n",
    "    if not message or not history:\n",
    "        return \"Estado del juego no válido\"\n",
    "    model_output = client.chat.complete(\n",
    "        model=model,\n",
    "        messages=messages\n",
    "    )\n",
    "    \n",
    "    result = model_output.choices[0].message.content\n",
    "    return result"
   ]
  },
  {
   "cell_type": "code",
   "execution_count": 66,
   "metadata": {},
   "outputs": [],
   "source": [
    "game_state = get_game_state(inventory={\n",
    "    \"cloth pants\": 1,\n",
    "    \"cloth shirt\": 1,\n",
    "    \"goggles\": 1,\n",
    "    \"leather bound journal\": 1,\n",
    "    \"gold\": 5\n",
    "})"
   ]
  },
  {
   "cell_type": "code",
   "execution_count": 67,
   "metadata": {},
   "outputs": [
    {
     "name": "stdout",
     "output_type": "stream",
     "text": [
      "Closing server running on port: 7861\n"
     ]
    },
    {
     "name": "stderr",
     "output_type": "stream",
     "text": [
      "c:\\Users\\USUARIO\\AppData\\Local\\pypoetry\\Cache\\virtualenvs\\llm-game-xAnBDEWD-py3.13\\Lib\\site-packages\\gradio\\chat_interface.py:317: UserWarning: The gr.ChatInterface was not provided with a type, so the type of the gr.Chatbot, 'messages', will be used.\n",
      "  warnings.warn(\n",
      "ERROR:    [Errno 10048] error while attempting to bind on address ('0.0.0.0', 7860): [winerror 10048] solo se permite un uso de cada dirección de socket (protocolo/dirección de red/puerto)\n"
     ]
    },
    {
     "name": "stdout",
     "output_type": "stream",
     "text": [
      "* Running on local URL:  http://0.0.0.0:7861\n",
      "* Running on public URL: https://81c85aa8d6003f3e7d.gradio.live\n",
      "\n",
      "This share link expires in 72 hours. For free permanent hosting and GPU upgrades, run `gradio deploy` from the terminal in the working directory to deploy to Hugging Face Spaces (https://huggingface.co/spaces)\n"
     ]
    },
    {
     "data": {
      "text/html": [
       "<div><iframe src=\"https://81c85aa8d6003f3e7d.gradio.live\" width=\"100%\" height=\"500\" allow=\"autoplay; camera; microphone; clipboard-read; clipboard-write;\" frameborder=\"0\" allowfullscreen></iframe></div>"
      ],
      "text/plain": [
       "<IPython.core.display.HTML object>"
      ]
     },
     "metadata": {},
     "output_type": "display_data"
    },
    {
     "name": "stdout",
     "output_type": "stream",
     "text": [
      "🔴 Error crítico (ValueError): too many values to unpack (expected 2)\n"
     ]
    }
   ],
   "source": [
    "def main_loop(message, history):\n",
    "    try:\n",
    "        # Validación básica del input\n",
    "        if not message.strip():\n",
    "            return \"Por favor escribe una acción válida\"\n",
    "        \n",
    "        # 1. Ejecutar acción principal\n",
    "        output = str(run_action(message, history, game_state))  # Aseguramos string\n",
    "        \n",
    "        # 2. Validar seguridad\n",
    "        #if not is_safe(output):\n",
    "        #    return \"⚠️ Esa acción no está permitida en este momento\"\n",
    "        \n",
    "        # 3. Procesar inventario (con reintentos)\n",
    "        max_retries = 3\n",
    "        inventory_msg = \"\"\n",
    "        \n",
    "        for attempt in range(max_retries):\n",
    "            try:\n",
    "                item_updates = detect_inventory_changes(game_state, output)\n",
    "                if item_updates:\n",
    "                    inventory_msg = update_inventory(game_state['inventory'], item_updates)\n",
    "                break\n",
    "            except Exception as e:\n",
    "                if attempt == max_retries - 1:\n",
    "                    print(f\"⚠️ Fallo al actualizar inventario: {str(e)}\")\n",
    "                time.sleep(1)  # Espera entre reintentos\n",
    "        \n",
    "        # Construir respuesta final\n",
    "        response = output\n",
    "        if inventory_msg:\n",
    "            response += f\"\\n\\n🔹 {inventory_msg}\"\n",
    "            \n",
    "        return response\n",
    "        \n",
    "    except Exception as e:\n",
    "        # Manejo detallado del error\n",
    "        error_type = type(e).__name__\n",
    "        \n",
    "        if str(e) == \"0\":\n",
    "            print(\"🔴 Error crítico: Posible fallo en la API o respuesta vacía\")\n",
    "            return \"El sistema no pudo procesar tu acción. Intenta algo diferente.\"\n",
    "        else:\n",
    "            print(f\"🔴 Error crítico ({error_type}): {str(e)}\")\n",
    "            return f\"Error: {error_type}. Por favor intenta nuevamente.\"\n",
    "\n",
    "start_game(main_loop, True)"
   ]
  },
  {
   "cell_type": "code",
   "execution_count": 69,
   "metadata": {},
   "outputs": [
    {
     "data": {
      "text/plain": [
       "True"
      ]
     },
     "execution_count": 69,
     "metadata": {},
     "output_type": "execute_result"
    }
   ],
   "source": [
    "def check_api_status():\n",
    "    try:\n",
    "        test_response = client.chat.complete(\n",
    "            model=model,\n",
    "            messages=[{\"role\": \"user\", \"content\": \"Responde 'OK'\"}],\n",
    "            temperature=0.0\n",
    "        )\n",
    "        return True if test_response.choices[0].message.content else False\n",
    "    except:\n",
    "        return False\n",
    "\n",
    "if not check_api_status():\n",
    "    print(\"🔴 La API de Mistral no está respondiendo\")\n",
    "    # Puedes agregar un reintento o salir\n",
    "\n",
    "check_api_status()"
   ]
  }
 ],
 "metadata": {
  "kernelspec": {
   "display_name": "llm-game-xAnBDEWD-py3.13",
   "language": "python",
   "name": "python3"
  },
  "language_info": {
   "codemirror_mode": {
    "name": "ipython",
    "version": 3
   },
   "file_extension": ".py",
   "mimetype": "text/x-python",
   "name": "python",
   "nbconvert_exporter": "python",
   "pygments_lexer": "ipython3",
   "version": "3.13.2"
  }
 },
 "nbformat": 4,
 "nbformat_minor": 2
}
