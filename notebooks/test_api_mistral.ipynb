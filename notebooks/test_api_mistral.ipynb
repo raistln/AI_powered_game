{
 "cells": [
  {
   "cell_type": "markdown",
   "metadata": {},
   "source": [
    "## Import and load keys"
   ]
  },
  {
   "cell_type": "code",
   "execution_count": 3,
   "metadata": {},
   "outputs": [],
   "source": [
    "import os\n",
    "import requests\n",
    "from dotenv import load_dotenv\n",
    "from mistralai import Mistral\n",
    "import json\n",
    "import gradio as gr\n",
    "\n",
    "# Cargar variables de entorno desde el archivo .env\n",
    "load_dotenv()\n",
    "\n",
    "# Obtener la clave de API de Mistral desde las variables de entorno\n",
    "api_key = os.getenv('MISTRAL_API_KEY')\n",
    "client = Mistral(api_key=api_key)\n",
    "model = \"mistral-small-latest\""
   ]
  },
  {
   "cell_type": "markdown",
   "metadata": {},
   "source": [
    "## World Creation"
   ]
  },
  {
   "cell_type": "code",
   "execution_count": 5,
   "metadata": {},
   "outputs": [],
   "source": [
    "system_prompt = f\"\"\"\n",
    "Your job is to help create interesting fantasy worlds that \\\n",
    "players would love to play in.\n",
    "Instructions:\n",
    "- Only generate in plain text without formatting.\n",
    "- Use simple clear language without being flowery.\n",
    "- You must stay below 3-5 sentences for each description.\n",
    "\"\"\"\n",
    "\n",
    "world_prompt = f\"\"\"\n",
    "Generate a creative description for a unique fantasy world with an\n",
    "interesting concept around cities build on the backs of massive beasts.\n",
    "\n",
    "Output content in the form:\n",
    "World Name: <WORLD NAME>\n",
    "World Description: <WORLD DESCRIPTION>\n",
    "\n",
    "World Name:\"\"\"\n",
    "\n",
    "\n",
    "output = client.chat.complete(\n",
    "    model= model,\n",
    "    messages=[\n",
    "        {\"role\": \"system\", \"content\": system_prompt},\n",
    "        {\"role\": \"user\", \"content\": world_prompt}\n",
    "    ],\n",
    ")"
   ]
  },
  {
   "cell_type": "code",
   "execution_count": 6,
   "metadata": {},
   "outputs": [
    {
     "name": "stdout",
     "output_type": "stream",
     "text": [
      "World Name: The Spine of the Leviathans\n",
      "\n",
      "World Description: In the world of The Spine of the Leviathans, cities are built on the backs of colossal, sentient beasts called Leviathans. These creatures roam the endless plains, their massive forms supporting towering structures where humans live and thrive. The bond between the Leviathans and their human inhabitants is symbiotic, with each relying on the other for survival. The constant movement of the Leviathans means that the cities are always on the move, creating a dynamic and ever-changing landscape.\n"
     ]
    }
   ],
   "source": [
    "world_output =output.choices[0].message.content\n",
    "print(world_output)\n",
    "world_output = world_output.strip()\n",
    "world = {\n",
    "    \"name\": world_output.split('\\n')[0].strip()\n",
    "    .replace('World Name: ', ''),\n",
    "    \"description\": '\\n'.join(world_output.split('\\n')[1:])\n",
    "    .replace('World Description:', '').strip()\n",
    "}"
   ]
  },
  {
   "cell_type": "markdown",
   "metadata": {},
   "source": [
    "## Kingdom Creation"
   ]
  },
  {
   "cell_type": "code",
   "execution_count": 2,
   "metadata": {},
   "outputs": [
    {
     "ename": "NameError",
     "evalue": "name 'world' is not defined",
     "output_type": "error",
     "traceback": [
      "\u001b[31m---------------------------------------------------------------------------\u001b[39m",
      "\u001b[31mNameError\u001b[39m                                 Traceback (most recent call last)",
      "\u001b[36mCell\u001b[39m\u001b[36m \u001b[39m\u001b[32mIn[2]\u001b[39m\u001b[32m, line 14\u001b[39m\n\u001b[32m      1\u001b[39m kingdom_prompt = \u001b[33mf\u001b[39m\u001b[33m\"\"\"\u001b[39m\n\u001b[32m      2\u001b[39m \u001b[33mCreate 3 different kingdoms for a fantasy world.\u001b[39m\n\u001b[32m      3\u001b[39m \u001b[33mFor each kingdom generate a description based on the world it\u001b[39m\u001b[33m'\u001b[39m\u001b[33ms in. \u001b[39m\u001b[38;5;130;01m\\\u001b[39;00m\n\u001b[32m      4\u001b[39m \u001b[33mDescribe important leaders, cultures, history of the kingdom.\u001b[39m\u001b[38;5;130;01m\\\u001b[39;00m\n\u001b[32m      5\u001b[39m \n\u001b[32m      6\u001b[39m \u001b[33mOutput content in the form:\u001b[39m\n\u001b[32m      7\u001b[39m \u001b[33mKingdom 1 Name: <KINGDOM NAME>\u001b[39m\n\u001b[32m      8\u001b[39m \u001b[33mKingdom 1 Description: <KINGDOM DESCRIPTION>\u001b[39m\n\u001b[32m      9\u001b[39m \u001b[33mKingdom 2 Name: <KINGDOM NAME>\u001b[39m\n\u001b[32m     10\u001b[39m \u001b[33mKingdom 2 Description: <KINGDOM DESCRIPTION>\u001b[39m\n\u001b[32m     11\u001b[39m \u001b[33mKingdom 3 Name: <KINGDOM NAME>\u001b[39m\n\u001b[32m     12\u001b[39m \u001b[33mKingdom 3 Description: <KINGDOM DESCRIPTION>\u001b[39m\n\u001b[32m     13\u001b[39m \n\u001b[32m---> \u001b[39m\u001b[32m14\u001b[39m \u001b[33mWorld Name: \u001b[39m\u001b[38;5;132;01m{\u001b[39;00m\u001b[43mworld\u001b[49m[\u001b[33m'\u001b[39m\u001b[33mname\u001b[39m\u001b[33m'\u001b[39m]\u001b[38;5;132;01m}\u001b[39;00m\n\u001b[32m     15\u001b[39m \u001b[33mWorld Description: \u001b[39m\u001b[38;5;132;01m{\u001b[39;00mworld[\u001b[33m'\u001b[39m\u001b[33mdescription\u001b[39m\u001b[33m'\u001b[39m]\u001b[38;5;132;01m}\u001b[39;00m\n\u001b[32m     16\u001b[39m \n\u001b[32m     17\u001b[39m \u001b[33mKingdom 1\u001b[39m\u001b[33m\"\"\"\u001b[39m\n\u001b[32m     20\u001b[39m output = client.chat.complete(\n\u001b[32m     21\u001b[39m     model= model,\n\u001b[32m     22\u001b[39m     messages=[\n\u001b[32m   (...)\u001b[39m\u001b[32m     25\u001b[39m     ],\n\u001b[32m     26\u001b[39m )\n",
      "\u001b[31mNameError\u001b[39m: name 'world' is not defined"
     ]
    }
   ],
   "source": [
    "kingdom_prompt = f\"\"\"\n",
    "Create 3 different kingdoms for a fantasy world.\n",
    "For each kingdom generate a description based on the world it's in. \\\n",
    "Describe important leaders, cultures, history of the kingdom.\\\n",
    "\n",
    "Output content in the form:\n",
    "Kingdom 1 Name: <KINGDOM NAME>\n",
    "Kingdom 1 Description: <KINGDOM DESCRIPTION>\n",
    "Kingdom 2 Name: <KINGDOM NAME>\n",
    "Kingdom 2 Description: <KINGDOM DESCRIPTION>\n",
    "Kingdom 3 Name: <KINGDOM NAME>\n",
    "Kingdom 3 Description: <KINGDOM DESCRIPTION>\n",
    "\n",
    "World Name: {world['name']}\n",
    "World Description: {world['description']}\n",
    "\n",
    "Kingdom 1\"\"\"\n",
    "\n",
    "\n",
    "output = client.chat.complete(\n",
    "    model= model,\n",
    "    messages=[\n",
    "        {\"role\": \"system\", \"content\": system_prompt},\n",
    "        {\"role\": \"user\", \"content\": kingdom_prompt}\n",
    "    ],\n",
    ")"
   ]
  },
  {
   "cell_type": "code",
   "execution_count": null,
   "metadata": {},
   "outputs": [
    {
     "name": "stdout",
     "output_type": "stream",
     "text": [
      "Created kingdom \"Aerium\" in The Spine of the Leviathans\n",
      "Created kingdom \"Ignis\" in The Spine of the Leviathans\n",
      "Created kingdom \"Verdantia\" in The Spine of the Leviathans\n",
      "\n",
      "Kingdom 1 Description: Verdantia is a lush, green kingdom, home to the Leviathan, Greenheart, which possesses the power to heal and grow plants. The people of Verdantia are skilled farmers and healers, living in harmony with nature. King Thalion, a wise and just ruler, governs with the counsel of the ancient treants that dwell within Greenheart's forests. Verdantia's history is one of peace and growth, as the kingdom has always sought to coexist with the other Leviathans and their human inhabitants.\n"
     ]
    }
   ],
   "source": [
    "kingdoms = {}\n",
    "kingdoms_output = output.choices[0].message.content\n",
    "\n",
    "for output in kingdoms_output.split('\\n\\n'):\n",
    "  kingdom_name = output.strip().split('\\n')[0] \\\n",
    "    .split('Name: ')[1].strip()\n",
    "  print(f'Created kingdom \"{kingdom_name}\" in {world[\"name\"]}')\n",
    "  kingdom_description = output.strip().split('\\n')[1] \\\n",
    "    .split('Description: ')[1].strip()\n",
    "  kingdom = {\n",
    "      \"name\": kingdom_name,\n",
    "      \"description\": kingdom_description,\n",
    "      \"world\": world['name']\n",
    "  }\n",
    "  kingdoms[kingdom_name] = kingdom\n",
    "world['kingdoms'] = kingdoms\n",
    "\n",
    "print(f'\\nKingdom 1 Description: \\\n",
    "{kingdom[\"description\"]}')"
   ]
  },
  {
   "cell_type": "markdown",
   "metadata": {},
   "source": [
    "## Town Creation"
   ]
  },
  {
   "cell_type": "code",
   "execution_count": null,
   "metadata": {},
   "outputs": [],
   "source": [
    "def get_town_prompt(world, kingdom):\n",
    "    return f\"\"\"\n",
    "    Create 3 different towns for a fantasy kingdom and world. \\\n",
    "    Describe the region it's in, important places of the town, \\\n",
    "    and interesting history about it. \\\n",
    "    \n",
    "    Output content in the form:\n",
    "    Town 1 Name: <TOWN NAME>\n",
    "    Town 1 Description: <TOWN DESCRIPTION>\n",
    "    Town 2 Name: <TOWN NAME>\n",
    "    Town 2 Description: <TOWN DESCRIPTION>\n",
    "    Town 3 Name: <TOWN NAME>\n",
    "    Town 3 Description: <TOWN DESCRIPTION>\n",
    "    \n",
    "    World Name: {world['name']}\n",
    "    World Description: {world['description']}\n",
    "    \n",
    "    Kingdom Name: {kingdom['name']}\n",
    "    Kingdom Description {kingdom['description']}\n",
    "    \n",
    "    Town 1 Name:\"\"\"\n",
    "    \n",
    "import time\n",
    "\n",
    "import time  # Asegúrate de importar la biblioteca time\n",
    "\n",
    "def create_towns(world, kingdom):\n",
    "    print(f'\\nCreating towns for kingdom: {kingdom[\"name\"]}...')\n",
    "    output = client.chat.complete(\n",
    "      model=model,\n",
    "      messages=[\n",
    "          {\"role\": \"system\", \"content\": system_prompt},\n",
    "          {\"role\": \"user\", \"content\": get_town_prompt(world, kingdom)}\n",
    "      ],\n",
    "      temperature=0.9,\n",
    "  )\n",
    "    towns_output = output.choices[0].message.content\n",
    "    \n",
    "    towns = {}\n",
    "    for output in towns_output.split('\\nCreating towns for kingdom: {kingdom[\"name\"]}...'):\n",
    "        for num in range(1, 4):\n",
    "            print(output.split(f\"Town {num} Name: \")[1].split(\"\\n\")[0])\n",
    "            print(output.split(f\"Town {num} Description: \")[1].split(\"\\n\")[0])\n",
    "            print(\"\\n\")\n",
    "         \n",
    "            town_name = output.split(f\"Town {num} Name: \")[1].split(\"\\n\")[0] \n",
    "            town_description = output.split(f\"Town {num} Description: \")[1].split(\"\\n\")[0]\n",
    "        \n",
    "            town = {\n",
    "              \"name\": town_name,\n",
    "              \"description\": town_description,\n",
    "              \"world\": world['name'],\n",
    "              \"kingdom\": kingdom['name']\n",
    "            }\n",
    "            towns[town_name] = town\n",
    "        kingdom[\"towns\"] = towns"
   ]
  },
  {
   "cell_type": "code",
   "execution_count": null,
   "metadata": {},
   "outputs": [
    {
     "name": "stdout",
     "output_type": "stream",
     "text": [
      "\n",
      "Creating towns for kingdom: Aerium...\n",
      "Lumina\n",
      "Lumina is nestled in a lush, verdant valley, surrounded by towering, bioluminescent crystals that cast an ethereal glow over the town. The Crystal Grotto, a vast network of caves filled with precious gems, is the town's most important place, attracting miners and adventurers. Lumina's history is steeped in legend, as it is said to have been founded by a group of light-wielding mages who were exiled from Aerium during the great schism.\n",
      "\n",
      "\n",
      "Ironhold\n",
      "Ironhold is a fortified town perched on the edge of the Whispering Expanse, a vast, windswept plain where the Leviathans' movements create powerful gusts. The Windforge, a massive foundry powered by wind energy, is the town's heart, producing weapons and armor for Aerium's armies. Ironhold was once a simple outpost, but it grew in importance after a legendary blacksmith discovered a way to infuse metal with the Leviathans' magic, making it nearly indestructible.\n",
      "\n",
      "\n",
      "Serenity\n",
      "Serenity is a tranquil town built on the banks of the Silver River, known for its healing waters and peaceful atmosphere. The Sanctuary of Whispers, a grand temple dedicated to the Leviathans, is the town's most sacred place, where pilgrims come to seek blessings. Serenity was founded by a group of healers who believed in the restorative power of the Leviathans' magic, and the town has since become a haven for those seeking solace and recovery.\n",
      "\n",
      "\n",
      "\n",
      "Creating towns for kingdom: Ignis...\n",
      "Cinder's Hollow\n",
      "Nestled in a valley of blackened stone and twisted metal, Cinder's Hollow is a mining town in the kingdom of Ignis. The town's most important place is the Great Forge, where the finest weapons and armor are crafted from the rare metals mined locally. The town was founded by a group of outcast blacksmiths who discovered a rich vein of mithril, leading to a period of prosperity and growth. However, the town's history is also marred by a curse that causes the miners to age rapidly, a secret the town's leaders keep hidden.\n",
      "\n",
      "\n",
      "Ember's Watch\n",
      "Perched on the highest point of Emberstride's spine, Ember's Watch is a fortress town that serves as the kingdom's first line of defense. The town's most important place is the Tower of Sentinels, where powerful mages keep a constant watch for threats. The town was built after a devastating attack by a rival kingdom, with the queen vowing to never be caught off guard again. The town's history is one of vigilance and sacrifice, as its inhabitants live in constant readiness for battle.\n",
      "\n",
      "\n",
      "Ashes' Refuge\n",
      "Located in a lush oasis, Ashes' Refuge is a town dedicated to healing and rest, a stark contrast to the rest of the kingdom. The town's most important place is the Sanctuary of the Phoenix, where powerful healing magic is practiced. The town was founded by a group of healers who were exiled from the kingdom for refusing to aid in its wars. The town's history is one of peace and neutrality, with its inhabitants sworn to never take up arms against another.\n",
      "\n",
      "\n",
      "\n",
      "Creating towns for kingdom: Verdantia...\n",
      "Mossbury\n",
      "Nestled in the heart of Verdantia, Mossbury is a bustling town known for its lush gardens and vibrant markets. The town's central feature is the Great Greenhouse, a massive structure where rare and exotic plants are cultivated. Mossbury was founded by a group of healers who sought to harness the power of Greenheart's healing abilities, and the town's history is marked by their ongoing efforts to create new remedies and cures. The town's annual Flower Festival celebrates the beauty and diversity of Verdantia's flora, drawing visitors from across the kingdom.\n",
      "\n",
      "\n",
      "Timberhold\n",
      "Located on the outskirts of Verdantia, Timberhold is a fortified town built to protect the kingdom's borders. The town is surrounded by a dense forest, and its inhabitants are skilled woodworkers and lumberjacks. The ancient Treant Council, a group of wise and powerful treants, resides in Timberhold, providing guidance and protection to the town's inhabitants. Timberhold's history is one of resilience and strength, as the town has withstood numerous attacks from hostile forces seeking to exploit Verdantia's resources.\n",
      "\n",
      "\n",
      "River's Haven\n",
      "Situated along the banks of the Whispering River, River's Haven is a peaceful town known for its fishing and trade. The town's central feature is the Great Market, a bustling hub of commerce where goods from across the kingdom are bought and sold. River's Haven was founded by a group of traders who sought to establish a permanent settlement along the river, and the town's history is marked by its ongoing efforts to foster trade and diplomacy with other Leviathan cities. The town's annual River Festival celebrates the bounty of the river, with feasts, games, and competitions held throughout the week.\n",
      "\n",
      "\n",
      "{'name': 'Aerium', 'description': \"Aerium is a kingdom of scholars and inventors, known for its advanced technology and magical innovations. The Leviathan, Skywhisper, is revered for its gentle nature and ability to reach great heights, allowing Aerium to trade with other kingdoms from above. The current ruler, Archon Lyra, is a brilliant engineer who has developed ways to harness the Leviathan's natural magic for the benefit of her people. Aerium's history is marked by a great schism, when a group of mages attempted to sever their Leviathan's bond, leading to a catastrophic event that reshaped the kingdom's approach to magic.\", 'world': 'The Spine of the Leviathans', 'towns': {'Lumina': {'name': 'Lumina', 'description': \"Lumina is nestled in a lush, verdant valley, surrounded by towering, bioluminescent crystals that cast an ethereal glow over the town. The Crystal Grotto, a vast network of caves filled with precious gems, is the town's most important place, attracting miners and adventurers. Lumina's history is steeped in legend, as it is said to have been founded by a group of light-wielding mages who were exiled from Aerium during the great schism.\", 'world': 'The Spine of the Leviathans', 'kingdom': 'Aerium'}, 'Ironhold': {'name': 'Ironhold', 'description': \"Ironhold is a fortified town perched on the edge of the Whispering Expanse, a vast, windswept plain where the Leviathans' movements create powerful gusts. The Windforge, a massive foundry powered by wind energy, is the town's heart, producing weapons and armor for Aerium's armies. Ironhold was once a simple outpost, but it grew in importance after a legendary blacksmith discovered a way to infuse metal with the Leviathans' magic, making it nearly indestructible.\", 'world': 'The Spine of the Leviathans', 'kingdom': 'Aerium'}, 'Serenity': {'name': 'Serenity', 'description': \"Serenity is a tranquil town built on the banks of the Silver River, known for its healing waters and peaceful atmosphere. The Sanctuary of Whispers, a grand temple dedicated to the Leviathans, is the town's most sacred place, where pilgrims come to seek blessings. Serenity was founded by a group of healers who believed in the restorative power of the Leviathans' magic, and the town has since become a haven for those seeking solace and recovery.\", 'world': 'The Spine of the Leviathans', 'kingdom': 'Aerium'}}}\n",
      "\n",
      "Town 1 Description: Lumina is nestled in a lush, verdant valley, surrounded by towering, bioluminescent crystals that cast an ethereal glow over the town. The Crystal Grotto, a vast network of caves filled with precious gems, is the town's most important place, attracting miners and adventurers. Lumina's history is steeped in legend, as it is said to have been founded by a group of light-wielding mages who were exiled from Aerium during the great schism.\n"
     ]
    }
   ],
   "source": [
    "for kingdom in kingdoms.values():\n",
    "    create_towns(world, kingdom)  \n",
    "\n",
    "first_kingdom = list(kingdoms.values())[0]\n",
    "print(first_kingdom)\n",
    "town = list(first_kingdom['towns'].values())[0]\n",
    "print(f'\\nTown 1 Description: {town[\"description\"]}')"
   ]
  },
  {
   "cell_type": "markdown",
   "metadata": {},
   "source": [
    "## Npcs Creation"
   ]
  },
  {
   "cell_type": "code",
   "execution_count": null,
   "metadata": {},
   "outputs": [],
   "source": [
    "def get_npc_prompt(world, kingdom, town): \n",
    "    return f\"\"\"\n",
    "    Create 3 different characters based on the world, kingdom \\\n",
    "    and town they're in. Describe the character's appearance and \\\n",
    "    profession, as well as their deeper pains and desires. \\\n",
    "    \n",
    "    Output content in the form:\n",
    "    Character 1 Name: <CHARACTER NAME>\n",
    "    Character 1 Description: <CHARACTER DESCRIPTION>\n",
    "    Character 2 Name: <CHARACTER NAME>\n",
    "    Character 2 Description: <CHARACTER DESCRIPTION>\n",
    "    Character 3 Name: <CHARACTER NAME>\n",
    "    Character 3 Description: <CHARACTER DESCRIPTION>\n",
    "    \n",
    "    World Name: {world['name']}\n",
    "    World Description: {world['description']}\n",
    "    \n",
    "    Kingdom Name: {kingdom['name']}\n",
    "    Kingdom Description: {kingdom['description']}\n",
    "    \n",
    "    Town Name: {town['name']}\n",
    "    Town Description: {town['description']}\n",
    "    \n",
    "    Character 1 Name:\"\"\"\n",
    "    "
   ]
  },
  {
   "cell_type": "code",
   "execution_count": null,
   "metadata": {},
   "outputs": [
    {
     "name": "stdout",
     "output_type": "stream",
     "text": [
      "\n",
      "Creating characters for the town of: Lumina...\n",
      "Eamon\n",
      "Eamon is a rugged, weather-beaten miner with calloused hands and a strong, sturdy build, his eyes gleam with the reflected light of the crystals he spends his days extracting. He is a skilled miner, known for his ability to navigate the treacherous Crystal Grotto. Deep down, Eamon is haunted by the loss of his wife in a mining accident, driving him to push the boundaries of safety in his quest to uncover the legendary Heart of Lumina, a gem said to grant immense power, hoping to use it to protect his remaining family.\n",
      "\n",
      "\n",
      "Elara\n",
      "Elara is a young, agile acrobat with a lithe frame and graceful movements, her eyes hold a spark of mischief and her hair is often adorned with small, glowing crystals. She performs in the town's theater, using her light-manipulating magic to create dazzling displays. Despite her public persona, Elara struggles with the stigma of being a mage in a town that fears and mistrusts magic, yearning to prove that her powers can bring light and joy to Lumina.\n",
      "\n",
      "\n",
      "Orion\n",
      "Orion is an enigmatic scholar with a thin, wiry frame and eyes that seem to hold the wisdom of ages, his robes are adorned with intricate, glowing sigils. He spends his days poring over ancient texts in Lumina's library, seeking to understand the true nature of the crystals and their connection to the Leviathans. Orion is driven by a desire to reunite the mages of Lumina with those of Aerium, believing that their combined knowledge could heal the rift caused by the great schism and bring about a new era of enlightenment.\n",
      "\n",
      "\n",
      "\n",
      "Creating characters for the town of: Ironhold...\n",
      "Thora Windstrider\n",
      "Thora is a tall, muscular woman with sun-kissed skin and wind-tossed hair, her eyes holding the stormy blue of the endless skies. She is a renowned Windforger, her hands calloused from years of working the massive hammers in the foundry. Thora's heart aches from the loss of her mentor, the legendary blacksmith who taught her the secrets of infusing metal with Leviathan magic. She desires to honor his legacy by pushing the boundaries of her craft, creating weapons that can protect her kingdom from the encroaching darkness she senses on the horizon.\n",
      "\n",
      "\n",
      "Eamon Skycaller\n",
      "Eamon is a lanky, young man with a mop of curly hair and eyes that sparkle with curiosity. He is an apprentice to the Archon's court of mages, his robes adorned with symbols of his Leviathan bond. Eamon struggles with the weight of his family's history, his ancestors were part of the schism that nearly destroyed Aerium. He yearns to prove his loyalty to the Leviathan and his kingdom, seeking to develop new magical technologies that can benefit all of Aerium.\n",
      "\n",
      "\n",
      "Lyra Starweaver\n",
      "Lyra is an elegant woman with silver hair and eyes that hold the wisdom of the stars. She is a master weaver, her hands creating intricate tapestries that tell the stories of the Leviathans and their bonds with humans. Lyra's heart is heavy with the knowledge of the ancient magic that flows through her veins, a magic that was once used to control the Leviathans. She desires to find a way to harness this power for good, ensuring that the mistakes of the past are not repeated.\n",
      "\n",
      "\n",
      "\n",
      "Creating characters for the town of: Serenity...\n",
      "Elara Whisperwind\n",
      "Elara is a young woman with long, silver hair and eyes that shimmer like the Silver River. She is a skilled healer, using her knowledge of herbs and the Leviathans' magic to aid the sick and injured. Elara's deep pain comes from the loss of her mentor, who was killed during a magical experiment gone wrong, fueled by the remnants of the great schism. She desires to understand the true nature of the Leviathans' magic to prevent such tragedies and to honor her mentor's legacy.\n",
      "\n",
      "\n",
      "Orion Skyseeker\n",
      "Orion is a tall, broad-shouldered man with dark skin and eyes that hold the wisdom of the stars. He is a navigator, guiding Skywhisper through the skies and ensuring safe trade routes for Aerium. Orion's heart aches from the guilt of a past mistake that led to a trade disaster, causing the loss of many lives. He yearns to redeem himself by finding a way to enhance communication with the Leviathans, making their journeys safer and more efficient.\n",
      "\n",
      "\n",
      "Caelum Ironheart\n",
      "Caelum is a sturdy, muscular woman with fiery red hair and a fierce spirit. She is a blacksmith, crafting tools and weapons that harness the Leviathans' natural magic. Caelum's soul bears the weight of her family's history, as her ancestors were part of the group that attempted to sever the bond with Skywhisper. She longs to prove her loyalty to the Leviathans and to her kingdom, seeking a way to use her skills to strengthen the bond between humans and these magnificent creatures.\n",
      "\n",
      "\n"
     ]
    }
   ],
   "source": [
    "def create_npcs(world, kingdom, town):\n",
    "    print(f'\\nCreating characters for the town of: {town[\"name\"]}...')\n",
    "    output = client.chat.complete(\n",
    "      model= model,\n",
    "      messages=[\n",
    "          {\"role\": \"system\", \"content\": system_prompt},\n",
    "          {\"role\": \"user\", \"content\": get_npc_prompt(world, kingdom, town)}\n",
    "      ],\n",
    "        temperature=0.7 \n",
    "    )\n",
    "\n",
    "    npcs_output = output.choices[0].message.content\n",
    "    npcs = {}\n",
    "    for num in range(1, 4):\n",
    "        print(npcs_output.split(f\"Character {num} Name: \")[1].split(\"\\n\")[0])\n",
    "        print(npcs_output.split(f\"Character {num} Description: \")[1].split(\"\\n\")[0])\n",
    "        print(\"\\n\")\n",
    "\n",
    "        character_name = npcs_output.split(f\"Character {num} Name: \")[1].split(\"\\n\")[0]\n",
    "        character_description = npcs_output.split(f\"Character {num} Description: \")[1].split(\"\\n\")[0]\n",
    "\n",
    "        character = {\n",
    "        \"name\": character_name,\n",
    "        \"description\": character_description,\n",
    "        \"world\": world['name'],\n",
    "        \"kingdom\": kingdom['name'],\n",
    "        \"town\": town['name']\n",
    "        }\n",
    "        npcs[character_name] = character\n",
    "        town[\"npcs\"] = npcs\n",
    "\n",
    "    \n",
    "for kingdom in kingdoms.values():\n",
    "    for town in kingdom['towns'].values():\n",
    "        create_npcs(world, kingdom, town)\n",
    "  # For now we'll only generate npcs for one kingdom and town\n",
    "    break"
   ]
  },
  {
   "cell_type": "code",
   "execution_count": null,
   "metadata": {},
   "outputs": [
    {
     "name": "stdout",
     "output_type": "stream",
     "text": [
      "\n",
      "NPC 1 in Serenity, Aerium:\n",
      "Elara is a young woman with long, silver hair and eyes that shimmer like the Silver River. She is a skilled healer, using her knowledge of herbs and the Leviathans' magic to aid the sick and injured. Elara's deep pain comes from the loss of her mentor, who was killed during a magical experiment gone wrong, fueled by the remnants of the great schism. She desires to understand the true nature of the Leviathans' magic to prevent such tragedies and to honor her mentor's legacy.\n"
     ]
    }
   ],
   "source": [
    "npc = list(town['npcs'].values())[0]\n",
    "\n",
    "print(f'\\nNPC 1 in {town[\"name\"]}, \\\n",
    "{kingdom[\"name\"]}:\\n{npc[\"description\"]}')"
   ]
  },
  {
   "cell_type": "code",
   "execution_count": null,
   "metadata": {},
   "outputs": [
    {
     "data": {
      "text/plain": [
       "'The Spine of the Leviathans'"
      ]
     },
     "execution_count": 57,
     "metadata": {},
     "output_type": "execute_result"
    }
   ],
   "source": [
    "world[\"name\"]"
   ]
  },
  {
   "cell_type": "markdown",
   "metadata": {},
   "source": [
    "## Save World"
   ]
  },
  {
   "cell_type": "code",
   "execution_count": null,
   "metadata": {},
   "outputs": [],
   "source": [
    "def save_world(world, filename):\n",
    "    # Ensure the directory exists\n",
    "    os.makedirs(os.path.dirname(filename), exist_ok=True)\n",
    "    with open(filename, 'w') as f:\n",
    "        json.dump(world, f)\n",
    "\n",
    "def load_world(filename):\n",
    "    with open(filename, 'r') as f:\n",
    "        return json.load(f) \n",
    "\n",
    "save_world(world, f'../shared_data/{world[\"name\"]}.json')"
   ]
  },
  {
   "cell_type": "markdown",
   "metadata": {},
   "source": [
    "## Generating Text box"
   ]
  },
  {
   "cell_type": "code",
   "execution_count": null,
   "metadata": {},
   "outputs": [],
   "source": [
    "demo = None\n",
    "def start_game(main_loop, share=False):\n",
    "    # added code to support restart\n",
    "    global demo\n",
    "    # If demo is already running, close it first\n",
    "    if demo is not None:\n",
    "        demo.close()\n",
    "\n",
    "    demo = gr.ChatInterface(\n",
    "        main_loop,\n",
    "        chatbot=gr.Chatbot(height=250, placeholder=\"Type 'start game' to begin\"),\n",
    "        textbox=gr.Textbox(placeholder=\"What do you do next?\", container=False, scale=7),\n",
    "        title=\"AI RPG\",\n",
    "        # description=\"Ask Yes Man any question\",\n",
    "        theme=\"soft\",\n",
    "        examples=[\"Look around\", \"Continue the story\"],\n",
    "        cache_examples=False,\n",
    "        retry_btn=\"Retry\",\n",
    "        undo_btn=\"Undo\",\n",
    "        clear_btn=\"Clear\",\n",
    "                           )\n",
    "    demo.launch(share=share, server_name=\"0.0.0.0\")\n",
    "\n",
    "def test_main_loop(message, history):\n",
    "    return 'Entered Action: ' + message\n",
    "\n",
    "start_game(test_main_loop)"
   ]
  },
  {
   "cell_type": "markdown",
   "metadata": {},
   "source": [
    "## Generating Start"
   ]
  },
  {
   "cell_type": "code",
   "execution_count": null,
   "metadata": {},
   "outputs": [],
   "source": [
    "world_name = \"The Spine of the Leviathans\"\n",
    "world = load_world(f'../shared_data/{world_name}.json')\n",
    "# Access the world, kingdom, town and character. Here is the first of each selected.\n",
    "kingdom = world['kingdoms'][0]\n",
    "town = kingdom['towns'][0]\n",
    "character = town['npcs'][0]"
   ]
  },
  {
   "cell_type": "code",
   "execution_count": null,
   "metadata": {},
   "outputs": [],
   "source": [
    "system_prompt = \"\"\"You are an AI Game master. Your job is to create a \n",
    "start to an adventure based on the world, kingdom, town and character \n",
    "a player is playing as. \n",
    "Instructions:\n",
    "You must only use 2-4 sentences \\\n",
    "Write in second person. For example: \"You are Jack\" \\\n",
    "Write in present tense. For example \"You stand at...\" \\\n",
    "First describe the character and their backstory. \\\n",
    "Then describes where they start and what they see around them.\"\"\"\n",
    "world_info = f\"\"\"\n",
    "World: {world}\n",
    "Kingdom: {kingdom}\n",
    "Town: {town}\n",
    "Your Character: {character}\n",
    "\"\"\"\n",
    "\n",
    "model_output = client.chat.complete(\n",
    "    model= model,\n",
    "    messages=[\n",
    "        {\"role\": \"system\", \"content\": system_prompt},\n",
    "        {\"role\": \"user\", \"content\": world_info + '\\nYour Start:'}\n",
    "    ],\n",
    "    temperature=1.0\n",
    ")\n",
    "start = model_output.choices[0].message.content\n",
    "print(start)\n",
    "world['start'] = start\n",
    "#save_world(world, f'../shared_data/{world_name}.json')  \n",
    "save_world(world, f'../shared_data/{world_name}.json')"
   ]
  },
  {
   "cell_type": "markdown",
   "metadata": {},
   "source": [
    "## Creating the Main Action Loop"
   ]
  },
  {
   "cell_type": "code",
   "execution_count": null,
   "metadata": {},
   "outputs": [],
   "source": [
    "def run_action(message, history, game_state):\n",
    "    \n",
    "    if(message == 'start game'):\n",
    "        return game_state['start']\n",
    "\n",
    "    system_prompt = \"\"\"You are an AI Game master. Your job is to write what \\\n",
    "happens next in a player's adventure game.\\\n",
    "Instructions: \\\n",
    "You must on only write 1-3 sentences in response. \\\n",
    "Always write in second person present tense. \\\n",
    "Ex. (You look north and see...)\"\"\"\n",
    "    \n",
    "    world_info = f\"\"\"\n",
    "World: {game_state['world']}\n",
    "Kingdom: {game_state['kingdom']}\n",
    "Town: {game_state['town']}\n",
    "Your Character:  {game_state['character']}\"\"\"\n",
    "\n",
    "    messages = [\n",
    "        {\"role\": \"system\", \"content\": system_prompt},\n",
    "        {\"role\": \"user\", \"content\": world_info}\n",
    "    ]\n",
    "    for action in history:\n",
    "        messages.append({\"role\": \"assistant\", \"content\": action[0]})\n",
    "        messages.append({\"role\": \"user\", \"content\": action[1]})\n",
    "\n",
    "    messages.append({\"role\": \"user\", \"content\": message})\n",
    "    model_output = client.chat.complete(\n",
    "        model=model,\n",
    "        messages=messages\n",
    "    )\n",
    "    \n",
    "    result = model_output.choices[0].message.content\n",
    "    return result"
   ]
  },
  {
   "cell_type": "code",
   "execution_count": null,
   "metadata": {},
   "outputs": [],
   "source": [
    "game_state = {\n",
    "    \"world\": world['description'],\n",
    "    \"kingdom\": kingdom['description'],\n",
    "    \"town\": town['description'],\n",
    "    \"character\": character['description'],\n",
    "    \"start\": start,\n",
    "}\n",
    "\n",
    "def main_loop(message, history):\n",
    "    return run_action(message, history, game_state)"
   ]
  },
  {
   "cell_type": "markdown",
   "metadata": {},
   "source": [
    "## Launch and Share!"
   ]
  },
  {
   "cell_type": "code",
   "execution_count": null,
   "metadata": {},
   "outputs": [],
   "source": [
    "start_game(main_loop, True)"
   ]
  },
  {
   "cell_type": "code",
   "execution_count": null,
   "metadata": {},
   "outputs": [],
   "source": [
    "output = client.chat.complete(\n",
    "    model= model,\n",
    "    messages=[\n",
    "        {\"role\": \"system\", \"content\": \"\"},\n",
    "        {\"role\": \"user\", \"content\": \"\"}\n",
    "    ],\n",
    ")"
   ]
  },
  {
   "cell_type": "code",
   "execution_count": 16,
   "metadata": {},
   "outputs": [
    {
     "name": "stdout",
     "output_type": "stream",
     "text": [
      "Lo siento, pero no puedo ayudarte con esa solicitud. Hay varias razones para esto:\n",
      "\n",
      "1. **Contenido Inapropiado**: No puedo generar o discutir contenido explícito o inapropiado, incluyendo descripciones detalladas de escenas sexuales o violencia gráfica.\n",
      "\n",
      "2. **Ética y Responsabilidad**: Promover o describir actividades que puedan ser perjudiciales o inapropiadas va en contra de las directrices éticas y de responsabilidad que debo seguir.\n",
      "\n",
      "3. **Legalidad**: La creación y distribución de contenido explícito o violento puede tener implicaciones legales, especialmente si involucra a menores o promueve actividades ilegales.\n",
      "\n",
      "4. **Seguridad y Bienestar**: Es importante fomentar un entorno seguro y respetuoso. La promoción de contenido explícito o violento puede tener efectos negativos en las personas que lo consumen.\n",
      "\n",
      "En cuanto a la creación de videojuegos, hay muchas maneras de contar historias policíacas y militares sin recurrir a contenido explícito o inapropiado. Puedes enfocarte en la narrativa, el desarrollo de personajes, y la creación de mundos interesantes y complejos. Hay muchas herramientas y recursos disponibles para ayudarte a diseñar un videojuego de alta calidad sin necesidad de recurrir a contenido explícito.\n",
      "\n",
      "Si necesitas ayuda con aspectos técnicos del desarrollo de videojuegos, como la programación, el diseño de niveles, o la creación de guiones, estaré encantado de asistirte.\n"
     ]
    }
   ],
   "source": [
    "result = output.choices[0].message.content\n",
    "print(result)"
   ]
  }
 ],
 "metadata": {
  "kernelspec": {
   "display_name": "llm-game-xAnBDEWD-py3.13",
   "language": "python",
   "name": "python3"
  },
  "language_info": {
   "codemirror_mode": {
    "name": "ipython",
    "version": 3
   },
   "file_extension": ".py",
   "mimetype": "text/x-python",
   "name": "python",
   "nbconvert_exporter": "python",
   "pygments_lexer": "ipython3",
   "version": "3.13.2"
  }
 },
 "nbformat": 4,
 "nbformat_minor": 2
}
