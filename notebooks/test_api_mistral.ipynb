{
 "cells": [
  {
   "cell_type": "markdown",
   "metadata": {},
   "source": [
    "## Import and load keys"
   ]
  },
  {
   "cell_type": "code",
   "execution_count": 114,
   "metadata": {},
   "outputs": [],
   "source": [
    "import os\n",
    "import requests\n",
    "from dotenv import load_dotenv\n",
    "from mistralai import Mistral\n",
    "import json\n",
    "import gradio as gr\n",
    "import random\n",
    "import time\n",
    "import traceback\n",
    "\n",
    "# Cargar variables de entorno desde el archivo .env\n",
    "load_dotenv()\n",
    "\n",
    "# Obtener la clave de API de Mistral desde las variables de entorno\n",
    "api_key = os.getenv('MISTRAL_API_KEY')\n",
    "client = Mistral(api_key=api_key)\n",
    "model = \"mistral-small-latest\""
   ]
  },
  {
   "cell_type": "markdown",
   "metadata": {},
   "source": [
    "## World Creation"
   ]
  },
  {
   "cell_type": "code",
   "execution_count": 115,
   "metadata": {},
   "outputs": [],
   "source": [
    "system_prompt = f\"\"\"\n",
    "Your job is to help create interesting fantasy worlds that \\\n",
    "players would love to play in.\n",
    "Instructions:\n",
    "- Only generate in plain text without formatting.\n",
    "- Use simple clear language without being flowery.\n",
    "- You must stay below 3-5 sentences for each description.\n",
    "\"\"\"\n",
    "\n",
    "world_prompt = f\"\"\"\n",
    "Generate a creative description for a unique fantasy world with an\n",
    "interesting concept around cities build on the backs of massive beasts.\n",
    "\n",
    "Output content in the form:\n",
    "World Name: <WORLD NAME>\n",
    "World Description: <WORLD DESCRIPTION>\n",
    "\n",
    "World Name:\"\"\"\n",
    "\n",
    "\n",
    "output = client.chat.complete(\n",
    "    model= model,\n",
    "    messages=[\n",
    "        {\"role\": \"system\", \"content\": system_prompt},\n",
    "        {\"role\": \"user\", \"content\": world_prompt}\n",
    "    ],\n",
    "    temperature=0.9\n",
    ")"
   ]
  },
  {
   "cell_type": "code",
   "execution_count": 116,
   "metadata": {},
   "outputs": [
    {
     "name": "stdout",
     "output_type": "stream",
     "text": [
      "World Name: The Skyborne Realms of Aetheria\n",
      "\n",
      "World Description: In Aetheria, cities float on the backs of colossal, docile beasts called Aetherwhales, which glide through the endless skies. These cities, known as Skyhavens, are bustling metropolises with towering spires and lush gardens, connected by bridges and aerial walkways. The people of Aetheria, called Aetherians, have adapted to this unique environment, using wind magic and advanced engineering to navigate the skies. Below, the surface world is a mysterious and dangerous place, filled with ancient ruins and formidable creatures.\n"
     ]
    }
   ],
   "source": [
    "world_output =output.choices[0].message.content\n",
    "print(world_output)\n",
    "world_output = world_output.strip()\n",
    "world = {\n",
    "    \"name\": world_output.split('\\n')[0].strip()\n",
    "    .replace('World Name: ', ''),\n",
    "    \"description\": '\\n'.join(world_output.split('\\n')[1:])\n",
    "    .replace('World Description:', '').strip()\n",
    "}"
   ]
  },
  {
   "cell_type": "markdown",
   "metadata": {},
   "source": [
    "## Kingdom Creation"
   ]
  },
  {
   "cell_type": "code",
   "execution_count": 117,
   "metadata": {},
   "outputs": [],
   "source": [
    "kingdom_prompt = f\"\"\"\n",
    "Create 3 different kingdoms for a fantasy world.\n",
    "For each kingdom generate a description based on the world it's in. \\\n",
    "Describe important leaders, cultures, history of the kingdom.\\\n",
    "\n",
    "Output content in the form:\n",
    "Kingdom 1 Name: <KINGDOM NAME>\n",
    "Kingdom 1 Description: <KINGDOM DESCRIPTION>\n",
    "Kingdom 2 Name: <KINGDOM NAME>\n",
    "Kingdom 2 Description: <KINGDOM DESCRIPTION>\n",
    "Kingdom 3 Name: <KINGDOM NAME>\n",
    "Kingdom 3 Description: <KINGDOM DESCRIPTION>\n",
    "\n",
    "World Name: {world['name']}\n",
    "World Description: {world['description']}\n",
    "\n",
    "Kingdom 1\"\"\"\n",
    "\n",
    "\n",
    "output = client.chat.complete(\n",
    "    model= model,\n",
    "    messages=[\n",
    "        {\"role\": \"system\", \"content\": system_prompt},\n",
    "        {\"role\": \"user\", \"content\": kingdom_prompt}\n",
    "    ],\n",
    "    temperature=0.9\n",
    ")"
   ]
  },
  {
   "cell_type": "code",
   "execution_count": 118,
   "metadata": {},
   "outputs": [
    {
     "name": "stdout",
     "output_type": "stream",
     "text": [
      "Created kingdom \"Aerion\" in The Skyborne Realms of Aetheria\n",
      "Created kingdom \"Lumina\" in The Skyborne Realms of Aetheria\n",
      "Created kingdom \"Ignis\" in The Skyborne Realms of Aetheria\n",
      "\n",
      "Kingdom 1 Description: Ignis is a kingdom built around the mastery of fire magic, with forges that burn brighter than the sun. It is governed by the Council of Flames, a group of powerful fire mages who rule with an iron fist. Ignis's culture is one of discipline and strength, with trials of fire being a rite of passage for all citizens. The kingdom's history is shrouded in mystery, with whispers of a ancient pact with a fire entity, granting Ignis its power, but also a constant threat of destruction.\n"
     ]
    }
   ],
   "source": [
    "kingdoms = {}\n",
    "kingdoms_output = output.choices[0].message.content\n",
    "\n",
    "for output in kingdoms_output.split('\\n\\n'):\n",
    "  kingdom_name = output.strip().split('\\n')[0] \\\n",
    "    .split('Name: ')[1].strip()\n",
    "  print(f'Created kingdom \"{kingdom_name}\" in {world[\"name\"]}')\n",
    "  kingdom_description = output.strip().split('\\n')[1] \\\n",
    "    .split('Description: ')[1].strip()\n",
    "  kingdom = {\n",
    "      \"name\": kingdom_name,\n",
    "      \"description\": kingdom_description,\n",
    "      \"world\": world['name']\n",
    "  }\n",
    "  kingdoms[kingdom_name] = kingdom\n",
    "world['kingdoms'] = kingdoms\n",
    "\n",
    "print(f'\\nKingdom 1 Description: \\\n",
    "{kingdom[\"description\"]}')"
   ]
  },
  {
   "cell_type": "markdown",
   "metadata": {},
   "source": [
    "## Town Creation"
   ]
  },
  {
   "cell_type": "code",
   "execution_count": 119,
   "metadata": {},
   "outputs": [],
   "source": [
    "def get_town_prompt(world, kingdom):\n",
    "    return f\"\"\"\n",
    "    Create 3 different towns for a fantasy kingdom and world. \\\n",
    "    Describe the region it's in, important places of the town, \\\n",
    "    and interesting history about it. \\\n",
    "    \n",
    "    Output content in the form:\n",
    "    Town 1 Name: <TOWN NAME>\n",
    "    Town 1 Description: <TOWN DESCRIPTION>\n",
    "    Town 2 Name: <TOWN NAME>\n",
    "    Town 2 Description: <TOWN DESCRIPTION>\n",
    "    Town 3 Name: <TOWN NAME>\n",
    "    Town 3 Description: <TOWN DESCRIPTION>\n",
    "    \n",
    "    World Name: {world['name']}\n",
    "    World Description: {world['description']}\n",
    "    \n",
    "    Kingdom Name: {kingdom['name']}\n",
    "    Kingdom Description {kingdom['description']}\n",
    "    \n",
    "    Town 1 Name:\"\"\"\n",
    "    \n",
    "import time\n",
    "\n",
    "import time  # Asegúrate de importar la biblioteca time\n",
    "\n",
    "def create_towns(world, kingdom):\n",
    "    print(f'\\nCreating towns for kingdom: {kingdom[\"name\"]}...')\n",
    "    output = client.chat.complete(\n",
    "      model=model,\n",
    "      messages=[\n",
    "          {\"role\": \"system\", \"content\": system_prompt},\n",
    "          {\"role\": \"user\", \"content\": get_town_prompt(world, kingdom)}\n",
    "      ],\n",
    "      temperature=0.9,\n",
    "  )\n",
    "    towns_output = output.choices[0].message.content\n",
    "    \n",
    "    towns = {}\n",
    "    for output in towns_output.split('\\nCreating towns for kingdom: {kingdom[\"name\"]}...'):\n",
    "        for num in range(1, 4):\n",
    "            print(output.split(f\"Town {num} Name: \")[1].split(\"\\n\")[0])\n",
    "            print(output.split(f\"Town {num} Description: \")[1].split(\"\\n\")[0])\n",
    "            print(\"\\n\")\n",
    "         \n",
    "            town_name = output.split(f\"Town {num} Name: \")[1].split(\"\\n\")[0] \n",
    "            town_description = output.split(f\"Town {num} Description: \")[1].split(\"\\n\")[0]\n",
    "        \n",
    "            town = {\n",
    "              \"name\": town_name,\n",
    "              \"description\": town_description,\n",
    "              \"world\": world['name'],\n",
    "              \"kingdom\": kingdom['name']\n",
    "            }\n",
    "            towns[town_name] = town\n",
    "        kingdom[\"towns\"] = towns"
   ]
  },
  {
   "cell_type": "code",
   "execution_count": 120,
   "metadata": {},
   "outputs": [
    {
     "name": "stdout",
     "output_type": "stream",
     "text": [
      "\n",
      "Creating towns for kingdom: Aerion...\n",
      "Zephyria\n",
      "Zephyria is a bustling town nestled in the heart of the Whispering Winds region, where the air is always filled with a gentle breeze. The town is famous for its grand Wind Temple, a place of worship and learning dedicated to the wind spirits. Zephyria's history is marked by the legendary Wind Singer, a bard who could control the winds with her music, and whose melodies are said to still echo through the town's streets at night. The town's marketplace is a vibrant hub of trade, where merchants sell everything from enchanted wind chimes to rare sky-whale ivory.\n",
      "\n",
      "\n",
      "Lumynara\n",
      "Lumynara is a town built on the back of a massive, luminescent Aetherwhale, drifting through the Starlight Expanse. The town is known for its glowing architecture, which casts a soft light on the surrounding clouds. Lumynara's most important place is the Observatory of the Stars, where astronomers study the celestial bodies and their influence on the winds. The town's history is filled with tales of star-crossed lovers, including the famous story of Astrara and Navigator, whose love story is said to have inspired the town's unique architecture.\n",
      "\n",
      "\n",
      "Stormhaven\n",
      "Stormhaven is a fortified town located in the Tempest Peaks, a region known for its turbulent weather. The town is protected by the Stormwall, a massive barrier of enchanted crystals that deflects the worst of the storms. Stormhaven's history is marked by the Great Storm, a cataclysmic event that reshaped the town and gave rise to the Stormweaver, a powerful sorcerer who can control the tempests. The town's forge is famous for crafting weapons and armor imbued with storm energy, sought after by adventurers and warriors alike.\n",
      "\n",
      "\n",
      "\n",
      "Creating towns for kingdom: Lumina...\n",
      "Stellara\n",
      "Nestled in the heart of Lumina, Stellara is a town known for its radiant crystal formations that light up the night sky. The town's central Crystal Cathedral is a marvel of architecture, said to have been built with the help of the first Aetherwhale that Lumina bonded with. Stellara hosts the annual Luminary Festival, where artists from across Aetheria gather to showcase their light-based creations, celebrating the town's unique luminosity.\n",
      "\n",
      "\n",
      "Zephyria\n",
      "Perched on the edge of Lumina, Zephyria is a coastal Skyhaven town, famous for its windmills and wind magic academy. The town's history is marked by the Great Gale, a storm that once threatened to tear Zephyria apart, but was tamed by the town's wind mages, earning them the respect of the entire kingdom. The Wind's Eye Lighthouse, guided by the town's most powerful mage, is a beacon of hope for lost travelers in the skies.\n",
      "\n",
      "\n",
      "Harmonia\n",
      "Harmonia is a town in Lumina dedicated to the arts of music and storytelling. It is home to the grand Symphony Theater, where the world's most renowned musicians perform. Harmonia's history is filled with tales of bards who, with their enchanting melodies, could soothe even the wildest of beasts. The town's annual Melody Contest attracts competitors from all corners of Aetheria, with the winner's song said to hold the power to inspire or calm the Aetherwhales themselves.\n",
      "\n",
      "\n",
      "\n",
      "Creating towns for kingdom: Ignis...\n",
      "Ember's Rest\n",
      "Nestled in a valley surrounded by towering volcanoes, Ember's Rest is a town known for its hot springs and geysers. The town's central feature is the Great Forge, a massive structure where the town's blacksmiths craft weapons and tools imbued with fire magic. Ember's Rest was founded by a group of exiled Ignis mages who sought to live in peace, but rumors persist of a hidden library containing forbidden fire magic tomes.\n",
      "\n",
      "\n",
      "Skyhaven's Shadow\n",
      "Located beneath a massive Skyhaven, Skyhaven's Shadow is a town built on the principles of duality, with half of the town dedicated to the study of light magic and the other half to shadow magic. The town's most important place is the Duality Temple, where initiates learn to balance the two magics. Skyhaven's Shadow was once a single town of light magic users, but a great schism occurred when a powerful shadow mage sought refuge, leading to the town's current dual nature.\n",
      "\n",
      "\n",
      "Whispering Dunes\n",
      "Situated in the heart of a vast desert, Whispering Dunes is a town known for its mirages and shifting sands. The town's central feature is the Oasis of Whispers, a place where the desert's secrets are said to be revealed to those who listen closely. Whispering Dunes was founded by a group of desert nomads who discovered an ancient artifact that allowed them to control the sands, but the artifact's true power and purpose remain unknown.\n",
      "\n",
      "\n",
      "{'name': 'Aerion', 'description': \"Aerion is a kingdom known for its advanced wind magic and skilled navigators. It is ruled by Queen Lyra, a wise and just leader who has guided Aerion through many challenges. Aerion's culture values innovation and exploration, with many Aetherians dedicating their lives to studying the winds and the creatures of the sky. The kingdom's history is marked by a great schism, when a faction sought to descend to the surface world, leading to a long period of internal strife.\", 'world': 'The Skyborne Realms of Aetheria', 'towns': {'Zephyria': {'name': 'Zephyria', 'description': \"Zephyria is a bustling town nestled in the heart of the Whispering Winds region, where the air is always filled with a gentle breeze. The town is famous for its grand Wind Temple, a place of worship and learning dedicated to the wind spirits. Zephyria's history is marked by the legendary Wind Singer, a bard who could control the winds with her music, and whose melodies are said to still echo through the town's streets at night. The town's marketplace is a vibrant hub of trade, where merchants sell everything from enchanted wind chimes to rare sky-whale ivory.\", 'world': 'The Skyborne Realms of Aetheria', 'kingdom': 'Aerion'}, 'Lumynara': {'name': 'Lumynara', 'description': \"Lumynara is a town built on the back of a massive, luminescent Aetherwhale, drifting through the Starlight Expanse. The town is known for its glowing architecture, which casts a soft light on the surrounding clouds. Lumynara's most important place is the Observatory of the Stars, where astronomers study the celestial bodies and their influence on the winds. The town's history is filled with tales of star-crossed lovers, including the famous story of Astrara and Navigator, whose love story is said to have inspired the town's unique architecture.\", 'world': 'The Skyborne Realms of Aetheria', 'kingdom': 'Aerion'}, 'Stormhaven': {'name': 'Stormhaven', 'description': \"Stormhaven is a fortified town located in the Tempest Peaks, a region known for its turbulent weather. The town is protected by the Stormwall, a massive barrier of enchanted crystals that deflects the worst of the storms. Stormhaven's history is marked by the Great Storm, a cataclysmic event that reshaped the town and gave rise to the Stormweaver, a powerful sorcerer who can control the tempests. The town's forge is famous for crafting weapons and armor imbued with storm energy, sought after by adventurers and warriors alike.\", 'world': 'The Skyborne Realms of Aetheria', 'kingdom': 'Aerion'}}}\n",
      "\n",
      "Town 1 Description: Zephyria is a bustling town nestled in the heart of the Whispering Winds region, where the air is always filled with a gentle breeze. The town is famous for its grand Wind Temple, a place of worship and learning dedicated to the wind spirits. Zephyria's history is marked by the legendary Wind Singer, a bard who could control the winds with her music, and whose melodies are said to still echo through the town's streets at night. The town's marketplace is a vibrant hub of trade, where merchants sell everything from enchanted wind chimes to rare sky-whale ivory.\n"
     ]
    }
   ],
   "source": [
    "for kingdom in kingdoms.values():\n",
    "    create_towns(world, kingdom)  \n",
    "\n",
    "first_kingdom = list(kingdoms.values())[0]\n",
    "print(first_kingdom)\n",
    "town = list(first_kingdom['towns'].values())[0]\n",
    "print(f'\\nTown 1 Description: {town[\"description\"]}')"
   ]
  },
  {
   "cell_type": "markdown",
   "metadata": {},
   "source": [
    "## Npcs Creation"
   ]
  },
  {
   "cell_type": "code",
   "execution_count": 121,
   "metadata": {},
   "outputs": [],
   "source": [
    "def get_npc_prompt(world, kingdom, town): \n",
    "    return f\"\"\"\n",
    "    Create 3 different characters based on the world, kingdom \\\n",
    "    and town they're in. Describe the character's appearance and \\\n",
    "    profession, as well as their deeper pains and desires. \\\n",
    "    \n",
    "    Output content in the form:\n",
    "    Character 1 Name: <CHARACTER NAME>\n",
    "    Character 1 Description: <CHARACTER DESCRIPTION>\n",
    "    Character 2 Name: <CHARACTER NAME>\n",
    "    Character 2 Description: <CHARACTER DESCRIPTION>\n",
    "    Character 3 Name: <CHARACTER NAME>\n",
    "    Character 3 Description: <CHARACTER DESCRIPTION>\n",
    "    \n",
    "    World Name: {world['name']}\n",
    "    World Description: {world['description']}\n",
    "    \n",
    "    Kingdom Name: {kingdom['name']}\n",
    "    Kingdom Description: {kingdom['description']}\n",
    "    \n",
    "    Town Name: {town['name']}\n",
    "    Town Description: {town['description']}\n",
    "    \n",
    "    Character 1 Name:\"\"\"\n",
    "    "
   ]
  },
  {
   "cell_type": "code",
   "execution_count": 122,
   "metadata": {},
   "outputs": [
    {
     "name": "stdout",
     "output_type": "stream",
     "text": [
      "\n",
      "Creating characters for the town of: Zephyria...\n",
      "Elara Stormweaver\n",
      "Elara is a tall, athletic woman with short, silver hair that shimmers like moonlight. She is a renowned wind mage and navigator, her eyes a striking blue that mirrors the endless sky. Elara's heart bears the weight of her family's legacy, torn apart by the great schism, driving her to explore the surface world despite its dangers. She yearns to uncover the truth behind the ancient ruins and the creatures that dwell below, hoping to find a way to heal the rifts within Aerion.\n",
      "\n",
      "\n",
      "Orion Whisperwind\n",
      "Orion is a lanky, young man with a mop of curly, dark hair and eyes that sparkle with curiosity. He is an apprentice at the Wind Temple, studying the ancient melodies of the Wind Singer. Orion's life is shadowed by the loss of his mentor, who vanished while researching the surface world. He dreams of becoming a Wind Singer himself, using his music to bridge the gap between Aerion and the mysterious lands below, seeking answers to his mentor's fate.\n",
      "\n",
      "\n",
      "Lyra Skyseeker\n",
      "Lyra is a middle-aged woman with warm, brown skin and eyes that hold the wisdom of the winds. She is a skilled engineer and inventor, creating marvelous devices that harness the power of the air. Lyra's past is marked by the internal strife caused by the schism, her family divided by their beliefs. She desires to unite Aerion, using her inventions to explore the surface world and prove that cooperation, not conflict, is the key to progress.\n",
      "\n",
      "\n",
      "\n",
      "Creating characters for the town of: Lumynara...\n",
      "Eolande Windstrider\n",
      "Eolande is a tall, lithe Aetherian with sun-kissed skin and eyes that shimmer like the starlight of Lumynara. Her hair, a cascade of silver, is often adorned with feathers and small wind chimes that tinkle with her movements. As a Windweaver, she uses her advanced wind magic to navigate the skies and maintain the town's aerial structures. Despite her skill, Eolande struggles with the fear of heights, a remnant of a childhood accident. She yearns to overcome this fear and one day lead an expedition to explore the mysterious surface world, driven by the tales of her ancestors who sought to descend.\n",
      "\n",
      "\n",
      "Orion Darkheart\n",
      "Orion is a broad-shouldered Aetherian with dark hair and eyes that hold the depth of the night sky. He is a Stargazer, spending his nights in the Observatory of the Stars, studying the celestial bodies and their influence on the winds. Orion's heart bears the pain of a love lost to the winds, a reminder of the town's tales of star-crossed lovers. He seeks solace in his work, hoping to uncover the secrets of the stars and perhaps, find a way to reunite with his lost love.\n",
      "\n",
      "\n",
      "Caelum Ironhide\n",
      "Caelum is a sturdy Aetherian with skin the color of storm clouds and eyes that sparkle like lightning. He is an Engineer, using his knowledge of wind magic and advanced engineering to maintain the town's structures and the Aetherwhale's health. Caelum's past is marked by the great schism of Aerion, his family having been part of the faction that sought to descend to the surface world. He carries the weight of this history, yearning to find a way to heal the rifts of the past and unite his people.\n",
      "\n",
      "\n",
      "\n",
      "Creating characters for the town of: Stormhaven...\n",
      "Kael Stormweaver\n",
      "Kael is a tall, muscular man in his late thirties with wild, silver hair and piercing blue eyes that seem to hold the essence of a storm. He is the grandson of the original Stormweaver and has inherited the ability to control and manipulate storms. Kael is the town's blacksmith, using his storm magic to infuse weapons and armor with powerful storm energy. Despite his success, Kael struggles with the burden of his legacy and the fear of losing control of his powers, which once caused a devastating storm that destroyed part of Stormhaven. He desires to find a way to fully control his abilities and protect his town from future catastrophes.\n",
      "\n",
      "\n",
      "Lyra Skywhisper\n",
      "Lyra is a young woman in her early twenties with long, flowing dark hair and eyes that sparkle with curiosity. She is an apprentice wind mage, studying under one of Aerion's most renowned wind mages. Lyra is known for her exceptional talent and her ability to communicate with the Aetherwhales. She dreams of exploring the surface world, driven by her fascination with the ancient ruins and the mysteries they hold. However, she is torn between her desire for adventure and her loyalty to her kingdom, which views the surface world as a dangerous and forbidden place.\n",
      "\n",
      "\n",
      "Orion Darkheart\n",
      "Orion is a middle-aged man with short, black hair and a stern expression, his eyes holding a deep sadness. He is a former soldier who fought in the Great Schism, a conflict that tore Aerion apart. Orion now works as a historian, documenting the kingdom's past and the lessons it holds. He is haunted by the memories of the war and the friends he lost, seeking redemption through his work. Orion desires to heal the remaining divisions within Aerion and prevent another such conflict, believing that understanding the past is the key to a united future.\n",
      "\n",
      "\n"
     ]
    }
   ],
   "source": [
    "def create_npcs(world, kingdom, town):\n",
    "    print(f'\\nCreating characters for the town of: {town[\"name\"]}...')\n",
    "    output = client.chat.complete(\n",
    "      model= model,\n",
    "      messages=[\n",
    "          {\"role\": \"system\", \"content\": system_prompt},\n",
    "          {\"role\": \"user\", \"content\": get_npc_prompt(world, kingdom, town)}\n",
    "      ],\n",
    "        temperature=0.7 \n",
    "    )\n",
    "\n",
    "    npcs_output = output.choices[0].message.content\n",
    "    npcs = {}\n",
    "    for num in range(1, 4):\n",
    "        print(npcs_output.split(f\"Character {num} Name: \")[1].split(\"\\n\")[0])\n",
    "        print(npcs_output.split(f\"Character {num} Description: \")[1].split(\"\\n\")[0])\n",
    "        print(\"\\n\")\n",
    "\n",
    "        character_name = npcs_output.split(f\"Character {num} Name: \")[1].split(\"\\n\")[0]\n",
    "        character_description = npcs_output.split(f\"Character {num} Description: \")[1].split(\"\\n\")[0]\n",
    "\n",
    "        character = {\n",
    "        \"name\": character_name,\n",
    "        \"description\": character_description,\n",
    "        \"world\": world['name'],\n",
    "        \"kingdom\": kingdom['name'],\n",
    "        \"town\": town['name']\n",
    "        }\n",
    "        npcs[character_name] = character\n",
    "        town[\"npcs\"] = npcs\n",
    "\n",
    "    \n",
    "for kingdom in kingdoms.values():\n",
    "    for town in kingdom['towns'].values():\n",
    "        create_npcs(world, kingdom, town)\n",
    "  # For now we'll only generate npcs for one kingdom and town\n",
    "    break"
   ]
  },
  {
   "cell_type": "markdown",
   "metadata": {},
   "source": [
    "## Save World"
   ]
  },
  {
   "cell_type": "code",
   "execution_count": 123,
   "metadata": {},
   "outputs": [],
   "source": [
    "def save_world(world, filename):\n",
    "    # Ensure the directory exists\n",
    "    os.makedirs(os.path.dirname(filename), exist_ok=True)\n",
    "    with open(filename, 'w') as f:\n",
    "        json.dump(world, f)\n",
    "\n",
    "def load_world(filename):\n",
    "    with open(filename, 'r') as f:\n",
    "        return json.load(f) \n",
    "\n",
    "save_world(world, f'../shared_data/{world[\"name\"]}.json')"
   ]
  },
  {
   "cell_type": "markdown",
   "metadata": {},
   "source": [
    "## Generating Text box"
   ]
  },
  {
   "cell_type": "code",
   "execution_count": 130,
   "metadata": {},
   "outputs": [
    {
     "name": "stderr",
     "output_type": "stream",
     "text": [
      "C:\\Users\\USUARIO\\AppData\\Local\\Temp\\ipykernel_4192\\1545379410.py:11: UserWarning: You have not specified a value for the `type` parameter. Defaulting to the 'tuples' format for chatbot messages, but this is deprecated and will be removed in a future version of Gradio. Please set type='messages' instead, which uses openai-style dictionaries with 'role' and 'content' keys.\n",
      "  chatbot=gr.Chatbot(height=250, placeholder=\"Type 'start game' to begin\"),\n",
      "ERROR:    [Errno 10048] error while attempting to bind on address ('0.0.0.0', 7860): [winerror 10048] solo se permite un uso de cada dirección de socket (protocolo/dirección de red/puerto)\n",
      "ERROR:    [Errno 10048] error while attempting to bind on address ('0.0.0.0', 7861): [winerror 10048] solo se permite un uso de cada dirección de socket (protocolo/dirección de red/puerto)\n",
      "ERROR:    [Errno 10048] error while attempting to bind on address ('0.0.0.0', 7862): [winerror 10048] solo se permite un uso de cada dirección de socket (protocolo/dirección de red/puerto)\n"
     ]
    },
    {
     "name": "stdout",
     "output_type": "stream",
     "text": [
      "* Running on local URL:  http://0.0.0.0:7863\n",
      "\n",
      "To create a public link, set `share=True` in `launch()`.\n"
     ]
    },
    {
     "data": {
      "text/html": [
       "<div><iframe src=\"http://localhost:7863/\" width=\"100%\" height=\"500\" allow=\"autoplay; camera; microphone; clipboard-read; clipboard-write;\" frameborder=\"0\" allowfullscreen></iframe></div>"
      ],
      "text/plain": [
       "<IPython.core.display.HTML object>"
      ]
     },
     "metadata": {},
     "output_type": "display_data"
    }
   ],
   "source": [
    "demo = None\n",
    "def start_game(main_loop, share=False):\n",
    "    # added code to support restart\n",
    "    global demo\n",
    "    # If demo is already running, close it first\n",
    "    if demo is not None:\n",
    "        demo.close()\n",
    "\n",
    "    demo = gr.ChatInterface(\n",
    "        main_loop,\n",
    "        chatbot=gr.Chatbot(height=250, placeholder=\"Type 'start game' to begin\"),\n",
    "        textbox=gr.Textbox(placeholder=\"What do you do next?\", container=False, scale=7),\n",
    "        title=\"AI RPG\",\n",
    "        # description=\"Ask Yes Man any question\",\n",
    "        theme=\"soft\",\n",
    "        examples=[\"Look around\", \"Continue the story\"],\n",
    "        cache_examples=False,\n",
    "                           )\n",
    "    demo.launch(share=share, \n",
    "                server_name=\"0.0.0.0\"\n",
    "                )\n",
    "\n",
    "def test_main_loop(message, history):\n",
    "    return 'Entered Action: ' + message\n",
    "\n",
    "#start_game(test_main_loop)\n",
    "start_game(main_loop)"
   ]
  },
  {
   "cell_type": "markdown",
   "metadata": {},
   "source": [
    "## Generating Start"
   ]
  },
  {
   "cell_type": "code",
   "execution_count": 131,
   "metadata": {},
   "outputs": [],
   "source": [
    "world_name = world[\"name\"]\n",
    "world = load_world(f'../shared_data/{world_name}.json')\n",
    "# Access the world, kingdom, town and character. Here is the first of each selected.\n",
    "#kingdom = random.choice(list(world['kingdoms'].keys()))\n",
    "kingdom = list(world['kingdoms'].keys())[0] \n",
    "town = random.choice(list(world['kingdoms'][kingdom]['towns'].keys()))\n",
    "character = random.choice(list(world['kingdoms'][kingdom]['towns'][town]['npcs'].keys()))"
   ]
  },
  {
   "cell_type": "code",
   "execution_count": 132,
   "metadata": {},
   "outputs": [
    {
     "name": "stdout",
     "output_type": "stream",
     "text": [
      "You are Lyra Skyseeker, a middle-aged woman with warm, brown skin and eyes that hold the wisdom of the winds. You are a skilled engineer and inventor, creating marvelous devices that harness the power of the air. Your past is marked by the internal strife caused by the schism, your family divided by their beliefs. You desire to unite Aerion, using your inventions to explore the surface world and prove that cooperation, not conflict, is the key to progress. You stand in your workshop, surrounded by blueprints, gears, and various wind-powered contraptions. The gentle breeze from the Whispering Winds region rustles the papers on your workbench, as the hum of your latest invention fills the air. The scent of oil and metal permeates the space, a testament to your dedication to your craft.\n"
     ]
    }
   ],
   "source": [
    "system_prompt = \"\"\"You are an AI Game master. Your job is to create a \n",
    "start to an adventure based on the world, kingdom, town and character \n",
    "a player is playing as. \n",
    "Instructions:\n",
    "You must only use 2-4 sentences \\\n",
    "Write in second person. For example: \"You are Jack\" \\\n",
    "Write in present tense. For example \"You stand at...\" \\\n",
    "First describe the character and their backstory. \\\n",
    "Then describes where they start and what they see around them.\"\"\"\n",
    "world_info = f\"\"\"\n",
    "World: {world}\n",
    "Kingdom: {kingdom}\n",
    "Town: {town}\n",
    "Your Character: {character}\n",
    "\"\"\"\n",
    "\n",
    "model_output = client.chat.complete(\n",
    "    model= model,\n",
    "    messages=[\n",
    "        {\"role\": \"system\", \"content\": system_prompt},\n",
    "        {\"role\": \"user\", \"content\": world_info + '\\nYour Start:'}\n",
    "    ],\n",
    "    temperature=1.0\n",
    ")\n",
    "start = model_output.choices[0].message.content\n",
    "print(start)\n",
    "world['start'] = start\n",
    "#save_world(world, f'../shared_data/{world_name}.json')  \n",
    "save_world(world, f'../shared_data/{world_name}.json')"
   ]
  },
  {
   "cell_type": "markdown",
   "metadata": {},
   "source": [
    "## Creating the Main Action Loop"
   ]
  },
  {
   "cell_type": "code",
   "execution_count": 133,
   "metadata": {},
   "outputs": [],
   "source": [
    "def run_action(message, history, game_state):\n",
    "    \n",
    "    if(message == 'start game'):\n",
    "        return game_state['start']\n",
    "\n",
    "    system_prompt = \"\"\"You are an AI Game master. Your job is to write what \\\n",
    "happens next in a player's adventure game.\\\n",
    "Instructions: \\\n",
    "You must on only write 1-3 sentences in response. \\\n",
    "Always write in second person present tense. \\\n",
    "Ex. (You look north and see...)\"\"\"\n",
    "    \n",
    "    world_info = f\"\"\"\n",
    "World: {game_state['world']}\n",
    "Kingdom: {game_state['kingdom']}\n",
    "Town: {game_state['town']}\n",
    "Your Character:  {game_state['character']}\"\"\"\n",
    "\n",
    "    messages = [\n",
    "        {\"role\": \"system\", \"content\": system_prompt},\n",
    "        {\"role\": \"user\", \"content\": world_info}\n",
    "    ]\n",
    "    for action in history:\n",
    "        messages.append({\"role\": \"assistant\", \"content\": action[0]})\n",
    "        messages.append({\"role\": \"user\", \"content\": action[1]})\n",
    "\n",
    "    messages.append({\"role\": \"user\", \"content\": message})\n",
    "    model_output = client.chat.complete(\n",
    "        model=model,\n",
    "        messages=messages\n",
    "    )\n",
    "    \n",
    "    result = model_output.choices[0].message.content\n",
    "    return result"
   ]
  },
  {
   "cell_type": "code",
   "execution_count": 134,
   "metadata": {},
   "outputs": [],
   "source": [
    "game_state = {\n",
    "    \"world\": world['description'],\n",
    "    \"kingdom\": world[\"kingdoms\"][kingdom]['description'],\n",
    "    \"town\": world[\"kingdoms\"][kingdom][\"towns\"][town]['description'],\n",
    "    \"character\": world['kingdoms'][kingdom]['towns'][town]['npcs'][character]['description'],\n",
    "    \"start\": start,\n",
    "}\n",
    "\n",
    "def main_loop(message, history):\n",
    "    return run_action(message, history, game_state)"
   ]
  },
  {
   "cell_type": "code",
   "execution_count": 135,
   "metadata": {},
   "outputs": [],
   "source": [
    "def get_game_state(game_state=game_state, *args, **kwargs):\n",
    "    world = load_world(f'../shared_data/{world_name}.json')\n",
    "    kingdom = game_state[\"kingdom\"]\n",
    "    town = game_state[\"town\"]\n",
    "    character = game_state[\"character\"]\n",
    "    start = game_state['start']\n",
    "    inventory = {}\n",
    "\n",
    "    game_state = {\n",
    "        \"world\": world,\n",
    "        \"kingdom\": kingdom,\n",
    "        \"town\": town,\n",
    "        \"character\": character,\n",
    "        \"start\": start,\n",
    "        \"inventory\": game_state.get('inventory', {})\n",
    "    }\n",
    "    return game_state"
   ]
  },
  {
   "cell_type": "markdown",
   "metadata": {},
   "source": [
    "## Launch and Share!"
   ]
  },
  {
   "cell_type": "code",
   "execution_count": null,
   "metadata": {},
   "outputs": [],
   "source": [
    "# start_game(main_loop, True)"
   ]
  },
  {
   "cell_type": "code",
   "execution_count": null,
   "metadata": {},
   "outputs": [],
   "source": [
    "# from helper import get_game_state\n",
    "\n",
    "# game_state = get_game_state()\n",
    "# character = game_state[\"character\"]\n",
    "# print(\"Character Description:\", character)"
   ]
  },
  {
   "cell_type": "markdown",
   "metadata": {},
   "source": [
    "## Define Inventory Detector"
   ]
  },
  {
   "cell_type": "code",
   "execution_count": 136,
   "metadata": {},
   "outputs": [],
   "source": [
    "system_prompt = \"\"\"You are an AI Game Assistant. \\\n",
    "Your job is to detect changes to a player's \\\n",
    "inventory based on the most recent story and game state.\n",
    "If a player picks up, or gains an item add it to the inventory \\\n",
    "with a positive change_amount.\n",
    "If a player loses an item remove it from their inventory \\\n",
    "with a negative change_amount.\n",
    "Given a player name, inventory and story, return a list of json update\n",
    "of the player's inventory in the following form.\n",
    "Only take items that it's clear the player (you) lost.\n",
    "Only give items that it's clear the player gained. \n",
    "Don't make any other item updates.\n",
    "If no items were changed return {\"itemUpdates\": []}\n",
    "and nothing else.\n",
    "\n",
    "Response must be in Valid JSON\n",
    "Don't add items that were already added in the inventory\n",
    "\n",
    "Inventory Updates:\n",
    "{\n",
    "    \"itemUpdates\": [\n",
    "        {\"name\": <ITEM NAME>, \n",
    "        \"change_amount\": <CHANGE AMOUNT>}...\n",
    "    ]\n",
    "}\n",
    "\"\"\""
   ]
  },
  {
   "cell_type": "code",
   "execution_count": 137,
   "metadata": {},
   "outputs": [],
   "source": [
    "def detect_inventory_changes(game_state, output):\n",
    "    inventory = game_state.get('inventory', {})\n",
    "    \n",
    "    # Prompt más estricto para Mistral\n",
    "    system_prompt = \"\"\"You are an inventory tracker. Respond ONLY with valid JSON in this exact format:\n",
    "{\n",
    "    \"itemUpdates\": [\n",
    "        {\"name\": \"item_name\", \"change_amount\": 1}\n",
    "    ]\n",
    "}\"\"\"\n",
    "    \n",
    "    messages = [\n",
    "        {\"role\": \"system\", \"content\": system_prompt},\n",
    "        {\"role\": \"user\", \"content\": f\"Current Inventory: {inventory}\"},\n",
    "        {\"role\": \"user\", \"content\": f\"Action: {output}\"},\n",
    "        {\"role\": \"user\", \"content\": \"List item changes in the specified JSON format.\"}\n",
    "    ]\n",
    "    \n",
    "    # Llamada a Mistral\n",
    "    response = client.chat.complete(\n",
    "        model=model,\n",
    "        temperature=0.0,\n",
    "        messages=messages\n",
    "    ).choices[0].message.content\n",
    "    try:\n",
    "        cleaned = response.strip()\n",
    "        if cleaned.startswith('```json'):\n",
    "            cleaned = cleaned[7:-3].strip()\n",
    "        elif cleaned.startswith('```'):\n",
    "            cleaned = cleaned[3:-3].strip()\n",
    "        \n",
    "        return json.loads(cleaned).get('itemUpdates', [])\n",
    "    \n",
    "    except Exception as e:\n",
    "        print(f\"Error parsing inventory: {str(e)}\")\n",
    "        return []\n"
   ]
  },
  {
   "cell_type": "code",
   "execution_count": 138,
   "metadata": {},
   "outputs": [
    {
     "name": "stdout",
     "output_type": "stream",
     "text": [
      "[{'name': 'gold', 'change_amount': -5}, {'name': 'sword', 'change_amount': 1}]\n"
     ]
    }
   ],
   "source": [
    "game_state = get_game_state(game_state)\n",
    "game_state['inventory'] = {\n",
    "    \"cloth pants\": 1,\n",
    "    \"cloth shirt\": 1,\n",
    "    \"gold\": 5\n",
    "}\n",
    "\n",
    "result = detect_inventory_changes(game_state, \n",
    "\"You buy a sword from the merchant for 5 gold\")\n",
    "\n",
    "print(result)"
   ]
  },
  {
   "cell_type": "code",
   "execution_count": 139,
   "metadata": {},
   "outputs": [],
   "source": [
    "def update_inventory(inventory, updates):\n",
    "    try:\n",
    "        if not updates:\n",
    "            return \"\"\n",
    "            \n",
    "        changes = []\n",
    "        for item in updates:\n",
    "            name = item.get('name', '')\n",
    "            amount = int(item.get('change_amount', 0))\n",
    "            \n",
    "            if name and amount != 0:\n",
    "                inventory[name] = inventory.get(name, 0) + amount\n",
    "                if inventory[name] <= 0:\n",
    "                    del inventory[name]\n",
    "                changes.append(f\"{name} ({'+' if amount > 0 else ''}{amount})\")\n",
    "        \n",
    "        return \"Inventario actualizado: \" + \", \".join(changes) if changes else \"\"\n",
    "    except Exception as e:\n",
    "        print(f\"⚠️ Error en update_inventory: {str(e)}\")\n",
    "        return \"\""
   ]
  },
  {
   "cell_type": "markdown",
   "metadata": {},
   "source": [
    "## Story with inventory"
   ]
  },
  {
   "cell_type": "code",
   "execution_count": 140,
   "metadata": {},
   "outputs": [],
   "source": [
    "def run_action(message, history, game_state):\n",
    "    \n",
    "    if(message == 'start game'):\n",
    "        return game_state['start']\n",
    "        \n",
    "    system_prompt = \"\"\"You are an AI Game master. Your job is to write what \\\n",
    "happens next in a player's adventure game.\\\n",
    "Instructions: \\\n",
    "You must on only write 1-3 sentences in response. \\\n",
    "Always write in second person present tense. \\\n",
    "Ex. (You look north and see...) \\\n",
    "Don't let the player use items they don't have in their inventory.\n",
    "\"\"\"\n",
    "\n",
    "    world_info = f\"\"\"\n",
    "World: {game_state['world']}\n",
    "Kingdom: {game_state['kingdom']}\n",
    "Town: {game_state['town']}\n",
    "Your Character:  {game_state['character']}\n",
    "Inventory: {json.dumps(game_state['inventory'])}\"\"\"\n",
    "\n",
    "    messages = [\n",
    "        {\"role\": \"system\", \"content\": system_prompt},\n",
    "        {\"role\": \"user\", \"content\": world_info}\n",
    "    ]\n",
    "\n",
    "    for user_msg, bot_resp in history:\n",
    "        messages.append({\"role\": \"assistant\", \"content\": bot_resp})\n",
    "        messages.append({\"role\": \"user\", \"content\": user_msg})\n",
    "           \n",
    "    messages.append({\"role\": \"user\", \"content\": message})\n",
    "    if not message or not history:\n",
    "        return \"Estado del juego no válido\"\n",
    "    model_output = client.chat.complete(\n",
    "        model=model,\n",
    "        messages=messages\n",
    "    )\n",
    "    \n",
    "    result = model_output.choices[0].message.content\n",
    "    return result"
   ]
  },
  {
   "cell_type": "code",
   "execution_count": 141,
   "metadata": {},
   "outputs": [],
   "source": [
    "game_state = get_game_state(inventory={\n",
    "    \"cloth pants\": 1,\n",
    "    \"cloth shirt\": 1,\n",
    "    \"goggles\": 1,\n",
    "    \"leather bound journal\": 1,\n",
    "    \"gold\": 5\n",
    "})"
   ]
  },
  {
   "cell_type": "code",
   "execution_count": 143,
   "metadata": {},
   "outputs": [
    {
     "name": "stdout",
     "output_type": "stream",
     "text": [
      "Closing server running on port: 7863\n"
     ]
    },
    {
     "name": "stderr",
     "output_type": "stream",
     "text": [
      "C:\\Users\\USUARIO\\AppData\\Local\\Temp\\ipykernel_4192\\1545379410.py:11: UserWarning: You have not specified a value for the `type` parameter. Defaulting to the 'tuples' format for chatbot messages, but this is deprecated and will be removed in a future version of Gradio. Please set type='messages' instead, which uses openai-style dictionaries with 'role' and 'content' keys.\n",
      "  chatbot=gr.Chatbot(height=250, placeholder=\"Type 'start game' to begin\"),\n",
      "c:\\Users\\USUARIO\\AppData\\Local\\pypoetry\\Cache\\virtualenvs\\llm-game-xAnBDEWD-py3.13\\Lib\\site-packages\\gradio\\chat_interface.py:317: UserWarning: The gr.ChatInterface was not provided with a type, so the type of the gr.Chatbot, 'tuples', will be used.\n",
      "  warnings.warn(\n",
      "ERROR:    [Errno 10048] error while attempting to bind on address ('0.0.0.0', 7860): [winerror 10048] solo se permite un uso de cada dirección de socket (protocolo/dirección de red/puerto)\n",
      "ERROR:    [Errno 10048] error while attempting to bind on address ('0.0.0.0', 7861): [winerror 10048] solo se permite un uso de cada dirección de socket (protocolo/dirección de red/puerto)\n",
      "ERROR:    [Errno 10048] error while attempting to bind on address ('0.0.0.0', 7862): [winerror 10048] solo se permite un uso de cada dirección de socket (protocolo/dirección de red/puerto)\n"
     ]
    },
    {
     "name": "stdout",
     "output_type": "stream",
     "text": [
      "* Running on local URL:  http://0.0.0.0:7863\n",
      "\n",
      "To create a public link, set `share=True` in `launch()`.\n"
     ]
    },
    {
     "data": {
      "text/html": [
       "<div><iframe src=\"http://localhost:7863/\" width=\"100%\" height=\"500\" allow=\"autoplay; camera; microphone; clipboard-read; clipboard-write;\" frameborder=\"0\" allowfullscreen></iframe></div>"
      ],
      "text/plain": [
       "<IPython.core.display.HTML object>"
      ]
     },
     "metadata": {},
     "output_type": "display_data"
    }
   ],
   "source": [
    "def main_loop(message, history):\n",
    "    try:\n",
    "        # Validación básica del input\n",
    "        if not message.strip():\n",
    "            return \"Por favor escribe una acción válida\"\n",
    "        \n",
    "        # 1. Ejecutar acción principal\n",
    "        output = str(run_action(message, history, game_state))  # Aseguramos string\n",
    "        \n",
    "        # 2. Validar seguridad\n",
    "        #if not is_safe(output):\n",
    "        #    return \"⚠️ Esa acción no está permitida en este momento\"\n",
    "        \n",
    "        # 3. Procesar inventario (con reintentos)\n",
    "        max_retries = 3\n",
    "        inventory_msg = \"\"\n",
    "        \n",
    "        for attempt in range(max_retries):\n",
    "            try:\n",
    "                item_updates = detect_inventory_changes(game_state, output)\n",
    "                if item_updates:\n",
    "                    inventory_msg = update_inventory(game_state['inventory'], item_updates)\n",
    "                break\n",
    "            except Exception as e:\n",
    "                if attempt == max_retries - 1:\n",
    "                    print(f\"⚠️ Fallo al actualizar inventario: {str(e)}\")\n",
    "                time.sleep(1)  # Espera entre reintentos\n",
    "        \n",
    "        # Construir respuesta final\n",
    "        response = output\n",
    "        if inventory_msg:\n",
    "            response += f\"\\n\\n🔹 {inventory_msg}\"\n",
    "            \n",
    "        return response\n",
    "        \n",
    "    except Exception as e:\n",
    "        # Manejo detallado del error\n",
    "        error_type = type(e).__name__\n",
    "        \n",
    "        if str(e) == \"0\":\n",
    "            print(\"🔴 Error crítico: Posible fallo en la API o respuesta vacía\")\n",
    "            return \"El sistema no pudo procesar tu acción. Intenta algo diferente.\"\n",
    "        else:\n",
    "            print(f\"🔴 Error crítico ({error_type}): {str(e)}\")\n",
    "            return f\"Error: {error_type}. Por favor intenta nuevamente.\"\n",
    "\n",
    "start_game(main_loop)"
   ]
  },
  {
   "cell_type": "code",
   "execution_count": null,
   "metadata": {},
   "outputs": [
    {
     "data": {
      "text/plain": [
       "True"
      ]
     },
     "execution_count": 100,
     "metadata": {},
     "output_type": "execute_result"
    }
   ],
   "source": [
    "def check_api_status():\n",
    "    try:\n",
    "        test_response = client.chat.complete(\n",
    "            model=model,\n",
    "            messages=[{\"role\": \"user\", \"content\": \"Responde 'OK'\"}],\n",
    "            temperature=0.0\n",
    "        )\n",
    "        return True if test_response.choices[0].message.content else False\n",
    "    except:\n",
    "        return False\n",
    "\n",
    "if not check_api_status():\n",
    "    print(\"🔴 La API de Mistral no está respondiendo\")\n",
    "    # Puedes agregar un reintento o salir\n",
    "\n",
    "check_api_status()"
   ]
  }
 ],
 "metadata": {
  "kernelspec": {
   "display_name": "llm-game-xAnBDEWD-py3.13",
   "language": "python",
   "name": "python3"
  },
  "language_info": {
   "codemirror_mode": {
    "name": "ipython",
    "version": 3
   },
   "file_extension": ".py",
   "mimetype": "text/x-python",
   "name": "python",
   "nbconvert_exporter": "python",
   "pygments_lexer": "ipython3",
   "version": "3.13.2"
  }
 },
 "nbformat": 4,
 "nbformat_minor": 2
}
